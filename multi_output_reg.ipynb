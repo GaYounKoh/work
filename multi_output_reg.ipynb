{
 "cells": [
  {
   "cell_type": "markdown",
   "metadata": {},
   "source": [
    "# Library Load"
   ]
  },
  {
   "cell_type": "code",
   "execution_count": null,
   "metadata": {},
   "outputs": [],
   "source": [
    "import pandas as pd\n",
    "from IPython.core.interactiveshell import InteractiveShell\n",
    "InteractiveShell.ast_node_interactivity = 'all'\n",
    "\n",
    "import numpy as np\n",
    "from tqdm import tqdm\n",
    "\n",
    "import warnings\n",
    "warnings.filterwarnings('ignore')\n",
    "\n",
    "import random"
   ]
  },
  {
   "cell_type": "markdown",
   "metadata": {},
   "source": [
    "# Data Load"
   ]
  },
  {
   "cell_type": "code",
   "execution_count": null,
   "metadata": {},
   "outputs": [],
   "source": [
    "train = pd.read_csv('train.csv')\n",
    "test = pd.read_csv('test.csv')\n",
    "submission = pd.read_csv('sample_submission.csv')"
   ]
  },
  {
   "cell_type": "markdown",
   "metadata": {},
   "source": [
    "# X, Y split"
   ]
  },
  {
   "cell_type": "code",
   "execution_count": null,
   "metadata": {},
   "outputs": [],
   "source": [
    "X_train = train.iloc[:, 1:-14]\n",
    "Y_train = train.iloc[:, -14:]\n",
    "X_test = test.iloc[:, 1:]"
   ]
  },
  {
   "cell_type": "markdown",
   "metadata": {},
   "source": [
    "## modeling test for 1 column"
   ]
  },
  {
   "cell_type": "code",
   "execution_count": null,
   "metadata": {},
   "outputs": [],
   "source": [
    "from sklearn.ensemble import RandomForestRegressor # decision tree 앙상블 모델, 배깅\n",
    "\n",
    " # seed 고정\n",
    "user_seed = 42\n",
    "random.seed(user_seed) # seed 고정\n",
    "\n",
    "Random_Forest = RandomForestRegressor()\n",
    "\n",
    "Random_Forest.fit(X_train, np.array(Y_train.iloc[:, 0]).reshape(-1,1))\n",
    "Random_Forest.predict(X_val) # .reshape은 for 2D array"
   ]
  },
  {
   "cell_type": "markdown",
   "metadata": {},
   "source": [
    "# Multi Output Regressor"
   ]
  },
  {
   "cell_type": "markdown",
   "metadata": {},
   "source": [
    "## Random Forest Regressor"
   ]
  },
  {
   "cell_type": "code",
   "execution_count": null,
   "metadata": {},
   "outputs": [],
   "source": [
    "# import numpy as np\n",
    "\n",
    "from sklearn.multioutput import MultiOutputRegressor\n",
    "from sklearn.ensemble import RandomForestRegressor\n",
    "\n",
    "# seed 고정\n",
    "user_seed = 42\n",
    "random.seed(user_seed) # seed 고정\n",
    "\n",
    "regr = MultiOutputRegressor(RandomForestRegressor(random_state=user_seed)).fit(X_train, Y_train)\n",
    "Y_pred = regr.predict(X_test)\n",
    "\n",
    "Y_pred"
   ]
  },
  {
   "cell_type": "markdown",
   "metadata": {},
   "source": [
    "### submission"
   ]
  },
  {
   "cell_type": "code",
   "execution_count": null,
   "metadata": {},
   "outputs": [],
   "source": [
    "for i in range(Y_pred.shape[1]):\n",
    "    submission.iloc[:,i+1] = Y_pred[:,i]\n",
    "\n",
    "submission.shape\n",
    "submission.head()"
   ]
  },
  {
   "cell_type": "code",
   "execution_count": null,
   "metadata": {},
   "outputs": [],
   "source": [
    "submission.to_csv('RF.csv', index = False)"
   ]
  },
  {
   "cell_type": "markdown",
   "metadata": {},
   "source": [
    "# 고도화"
   ]
  },
  {
   "cell_type": "markdown",
   "metadata": {},
   "source": [
    "### train-val split\n",
    "for hyper params tuning"
   ]
  },
  {
   "cell_type": "code",
   "execution_count": null,
   "metadata": {},
   "outputs": [],
   "source": [
    "user_seed = 0\n",
    "random.seed(user_seed) # seed 고정\n",
    "from sklearn.model_selection import train_test_split\n",
    "\n",
    "# 8:2\n",
    "X_train, X_val, Y_train, Y_val = train_test_split(X_train, Y_train, test_size=0.2, random_state=user_seed)\n",
    "\n",
    "X_train.shape\n",
    "np.array(Y_train.iloc[:, 0]).reshape(-1,1).shape\n",
    "np.array(Y_val.iloc[:, 0]).reshape(-1,1).shape\n",
    "Y_val.iloc[:, 0].shape"
   ]
  },
  {
   "cell_type": "markdown",
   "metadata": {},
   "source": [
    "## grid_search"
   ]
  },
  {
   "cell_type": "markdown",
   "metadata": {},
   "source": [
    "## Multi LGBM"
   ]
  },
  {
   "cell_type": "code",
   "execution_count": null,
   "metadata": {},
   "outputs": [],
   "source": [
    "# import numpy as np\n",
    "\n",
    "from sklearn.multioutput import MultiOutputRegressor\n",
    "# from sklearn.ensemble import RandomForestRegressor\n",
    "import lightgbm as lgbm\n",
    "from sklearn.model_selection import GridSearchCV\n",
    "\n",
    "# seed 고정\n",
    "user_seed = 42\n",
    "random.seed(user_seed) # seed 고정\n",
    "\n",
    "param = {\n",
    "    'estimator__n_estimators': np.linspace(50, 200, 16, dtype=int),\n",
    "     'estimator__max_depth': np.linspace(30, 200, 18, dtype=int),\n",
    "    'estimator__learning_rate': np.linspace(0.001, 0.1, 10, dtype = float),\n",
    "    'estimator__min_child_weight': np.linspace(0.001, 0.1, 10, dtype=float)\n",
    "    \n",
    "}\n",
    "\n",
    "gs = GridSearchCV(estimator=MultiOutputRegressor(lgbm.LGBMRegressor()), \n",
    "                  param_grid=param, \n",
    "                  cv=2,\n",
    "                  scoring = 'neg_mean_squared_error',\n",
    "                  n_jobs = 16,\n",
    "                 verbose = 1)\n",
    "\n",
    "regr = gs.fit(X_train, Y_train)\n",
    "\n",
    "print(regr.best_score_, regr.best_params_)\n",
    "regr_model = regr.best_estimator_\n",
    "\n",
    "\n",
    "regr_model # 출력시 best_param_가 끼인 상태의 모델이 출력됨.\n",
    "\n",
    "# 제목으로 쓸만한 부분 (best_params_가 모델안에 들어간 형태로 출력됨.)\n",
    "regr_model.get_params()['estimator']"
   ]
  },
  {
   "cell_type": "code",
   "execution_count": null,
   "metadata": {},
   "outputs": [],
   "source": [
    "from sklearn.metrics import mean_squared_error as mse # 모델 평가 지표 scoring (mse)\n",
    "from sklearn.metrics import r2_score as r2\n",
    "Y_val_pred = regr_model.predict(X_val)\n",
    "mse(Y_val, Y_val_pred)\n",
    "# valid 스코어가 잘 나왔다면 동일 모델로 X_test 예측 돌리기"
   ]
  },
  {
   "cell_type": "code",
   "execution_count": null,
   "metadata": {},
   "outputs": [],
   "source": [
    "Y_pred = regr_model.predict(X_test)"
   ]
  },
  {
   "cell_type": "markdown",
   "metadata": {},
   "source": [
    "### 파일 제출 형태"
   ]
  },
  {
   "cell_type": "code",
   "execution_count": null,
   "metadata": {},
   "outputs": [],
   "source": [
    "for i in range(Y_pred.shape[1]):\n",
    "    submission.iloc[:,i+1] = Y_pred[:,i]\n",
    "\n",
    "submission.shape\n",
    "submission.head()"
   ]
  },
  {
   "cell_type": "code",
   "execution_count": null,
   "metadata": {},
   "outputs": [],
   "source": [
    "submission.to_csv(f'grid {regr_model.get_params()['estimator']}.csv', index = False)"
   ]
  }
 ],
 "metadata": {
  "kernelspec": {
   "display_name": "Python 3.7.8 64-bit",
   "language": "python",
   "name": "python3"
  },
  "language_info": {
   "name": "python",
   "version": "3.7.8"
  },
  "orig_nbformat": 4,
  "vscode": {
   "interpreter": {
    "hash": "0a54084e6b208ee8d1ce3989ffc20924477a5f55f5a43e22e699a6741623861e"
   }
  }
 },
 "nbformat": 4,
 "nbformat_minor": 2
}
