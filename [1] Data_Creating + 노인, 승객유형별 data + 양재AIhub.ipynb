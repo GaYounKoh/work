{
 "cells": [
  {
   "cell_type": "code",
   "execution_count": 1,
   "metadata": {},
   "outputs": [],
   "source": [
    "import pandas as pd\n",
    "from IPython.core.interactiveshell import InteractiveShell\n",
    "InteractiveShell.ast_node_interactivity = 'all'\n",
    "\n",
    "import numpy as np\n",
    "from tqdm import tqdm\n",
    "import warnings\n",
    "warnings.filterwarnings('ignore')"
   ]
  },
  {
   "cell_type": "code",
   "execution_count": 2,
   "metadata": {},
   "outputs": [],
   "source": [
    "def csv(file):\n",
    "    dat_ = pd.read_csv(file + '.csv', encoding = 'cp949')\n",
    "    return dat_\n",
    "    \n",
    "def ex(file):\n",
    "    dat_ = pd.read_excel(file + '.xlsx', header = 1)\n",
    "    return dat_\n",
    "\n",
    "path = 'data/'"
   ]
  },
  {
   "cell_type": "markdown",
   "metadata": {},
   "source": [
    "# 승객 유형, 노인 21, 22 옆으로 합치기"
   ]
  },
  {
   "cell_type": "code",
   "execution_count": 45,
   "metadata": {},
   "outputs": [],
   "source": [
    "승객유형별21 = csv(path + '서울교통공사_1-8호선 역별 일별 시간대별 승객유형별 승하차인원_20211231')\n",
    "승객유형별22 = csv(path + '서울교통공사_1_8호선 역별 일별 시간대별 승객유형별 승하차인원_20220531')\n",
    "\n",
    "노인21 = csv(path+'서울교통공사_역별 일별 시간대별 노인 승하차인원_20211231')\n",
    "노인22 = csv(path+'서울교통공사_역별 일별 시간대별 노인 승하차인원 정보_20220531')"
   ]
  },
  {
   "cell_type": "code",
   "execution_count": null,
   "metadata": {},
   "outputs": [],
   "source": []
  },
  {
   "cell_type": "code",
   "execution_count": 7,
   "metadata": {},
   "outputs": [],
   "source": [
    "data = pd.read_csv('data 시간대별 승하차 승객 수 (날짜 역명으로 정렬).csv')"
   ]
  },
  {
   "cell_type": "markdown",
   "metadata": {},
   "source": [
    "## 노인 전처리\n",
    "1. 컬럼명 일자 -> 날짜로 바꿔준다.\n",
    "2. 노인22의 구분의 value를 승차, 하차로 바꿔준다.\n",
    "3. 호선열이 없어서 합칠 때 문제가 발생할 수 있으므로 채워준다."
   ]
  },
  {
   "cell_type": "code",
   "execution_count": 33,
   "metadata": {},
   "outputs": [],
   "source": [
    "# 서울호선역명"
   ]
  },
  {
   "cell_type": "code",
   "execution_count": 47,
   "metadata": {},
   "outputs": [],
   "source": [
    "# 노인21.shape[0]\n",
    "+ 노인22.shape[0]\n",
    "\n",
    "노인21.rename(columns = {'일자':'날짜'}, inplace = True)\n",
    "노인22.rename(columns = {'일자':'날짜'}, inplace = True)\n",
    "\n",
    "노인22.구분 = 노인22.구분.map({'합계 : 승차':'승차', '합계 : 하차':'하차'})\n",
    "\n",
    "\n",
    "### 노인에 호선 추가\n",
    "# data.sort_values(by = ['호선','역명'])\n",
    "서울호선역명 = list(data[['호선','역번호']].groupby('호선').value_counts().index) # .sort_values('역명')\n",
    "# 서울호선역명\n",
    "서울호선역명dic = {i[1]:i[0] for i in 서울호선역명} # 역번호를 호선으로 mapping할 것임.\n",
    "\n",
    "노인21['호선'] = 노인21['역번호'].map(서울호선역명dic)\n",
    "노인22['호선'] = 노인22['역번호'].map(서울호선역명dic)\n",
    "\n",
    "## 시간대 column명 변경\n",
    "시간대 = ['06시이전', '06시-07시', '07시-08시',\n",
    "       '08시-09시', '09시-10시', '10시-11시', '11시-12시', '12시-13시', '13시-14시',\n",
    "       '14시-15시', '15시-16시', '16시-17시', '17시-18시', '18시-19시', '19시-20시',\n",
    "       '20시-21시', '21시-22시', '22시-23시', '23시이후']\n",
    "노인21.rename(columns = {i:f'노인_{i}' for i in 시간대}, inplace = True)\n",
    "노인22.rename(columns = {i:f'노인_{i}' for i in 시간대}, inplace = True)\n",
    "\n",
    "## columns 순서 변경\n",
    "노인21 = 노인21[['연번', '날짜', '호선', '역번호', '역명', '구분', '노인_06시이전', '노인_06시-07시', '노인_07시-08시',\n",
    "       '노인_08시-09시', '노인_09시-10시', '노인_10시-11시', '노인_11시-12시', '노인_12시-13시',\n",
    "       '노인_13시-14시', '노인_14시-15시', '노인_15시-16시', '노인_16시-17시', '노인_17시-18시',\n",
    "       '노인_18시-19시', '노인_19시-20시', '노인_20시-21시', '노인_21시-22시', '노인_22시-23시',\n",
    "       '노인_23시이후']]\n",
    "\n",
    "노인22 = 노인22[노인21.columns]"
   ]
  },
  {
   "cell_type": "code",
   "execution_count": 58,
   "metadata": {},
   "outputs": [],
   "source": [
    "노인 = pd.concat([노인21,노인22], axis=0)\n",
    "노인 = 노인.sort_values(by=['날짜', '역명']).reset_index(drop=True)"
   ]
  },
  {
   "cell_type": "code",
   "execution_count": 59,
   "metadata": {},
   "outputs": [],
   "source": [
    "# 노인.to_csv('노인 시간대별 승하차 승객 수 (날짜 역명으로 정렬).csv')"
   ]
  },
  {
   "cell_type": "markdown",
   "metadata": {},
   "source": [
    "# 승객 유형별로 다 끊어서 따로따로 저장"
   ]
  },
  {
   "cell_type": "code",
   "execution_count": 71,
   "metadata": {},
   "outputs": [],
   "source": [
    "승객유형별21= 승객유형별21.sort_values(by=['날짜', '역명']).reset_index(drop=True)\n",
    "승객유형별22 = 승객유형별22.sort_values(by=['날짜', '역명']).reset_index(drop=True)"
   ]
  },
  {
   "cell_type": "code",
   "execution_count": 72,
   "metadata": {},
   "outputs": [],
   "source": [
    "for i in 승객유형별21['승객유형'].unique():\n",
    "    globals()[f'{i}21'] = 승객유형별21[승객유형별21['승객유형'] == i]\n",
    "    globals()[f'{i}22'] = 승객유형별22[승객유형별22['승객유형'] == i]"
   ]
  },
  {
   "cell_type": "code",
   "execution_count": 73,
   "metadata": {},
   "outputs": [],
   "source": [
    "## 시간대 column명 변경\n",
    "시간대 = ['06시이전', '06시-07시', '07시-08시',\n",
    "       '08시-09시', '09시-10시', '10시-11시', '11시-12시', '12시-13시', '13시-14시',\n",
    "       '14시-15시', '15시-16시', '16시-17시', '17시-18시', '18시-19시', '19시-20시',\n",
    "       '20시-21시', '21시-22시', '22시-23시', '23시이후']\n",
    "\n",
    "for i in 승객유형별21['승객유형'].unique():\n",
    "    globals()[f'{i}21'].rename(columns = {j:f'{i}_{j}' for j in 시간대}, inplace = True)\n",
    "    globals()[f'{i}22'].rename(columns = {j:f'{i}_{j}' for j in 시간대}, inplace = True)"
   ]
  },
  {
   "cell_type": "code",
   "execution_count": null,
   "metadata": {},
   "outputs": [],
   "source": [
    "for i in 승객유형별21['승객유형'].unique():\n",
    "    globals()[f'{i}21'].head()\n",
    "    globals()[f'{i}22'].head()\n",
    "    break"
   ]
  },
  {
   "cell_type": "code",
   "execution_count": 100,
   "metadata": {},
   "outputs": [
    {
     "data": {
      "text/plain": [
       "183"
      ]
     },
     "execution_count": 100,
     "metadata": {},
     "output_type": "execute_result"
    },
    {
     "data": {
      "text/plain": [
       "150"
      ]
     },
     "execution_count": 100,
     "metadata": {},
     "output_type": "execute_result"
    }
   ],
   "source": [
    "# import datetime as dt\n",
    "from datetime import datetime\n",
    "\n",
    "jul01_21 = datetime.strptime('2021-07-01', \"%Y-%m-%d\").date()\n",
    "dec31_21 = datetime.strptime('2021-12-31', \"%Y-%m-%d\").date()\n",
    "\n",
    "(dec31_21 - jul01_21).days\n",
    "\n",
    "jan01_22 = datetime.strptime('2022-01-01', \"%Y-%m-%d\").date()\n",
    "# jan01_22 - dec31_21 # 하루\n",
    "may31_22 = datetime.strptime('2022-05-31', \"%Y-%m-%d\").date()\n",
    "\n",
    "(may31_22 - jan01_22).days"
   ]
  },
  {
   "cell_type": "code",
   "execution_count": 107,
   "metadata": {},
   "outputs": [
    {
     "data": {
      "text/plain": [
       "284"
      ]
     },
     "execution_count": 107,
     "metadata": {},
     "output_type": "execute_result"
    },
    {
     "data": {
      "text/plain": [
       "283"
      ]
     },
     "execution_count": 107,
     "metadata": {},
     "output_type": "execute_result"
    },
    {
     "data": {
      "text/plain": [
       "284"
      ]
     },
     "execution_count": 107,
     "metadata": {},
     "output_type": "execute_result"
    },
    {
     "data": {
      "text/plain": [
       "280"
      ]
     },
     "execution_count": 107,
     "metadata": {},
     "output_type": "execute_result"
    }
   ],
   "source": [
    "승객유형별21.역번호.nunique()\n",
    "승객유형별22.역번호.nunique()\n",
    "data.역번호.nunique()\n",
    "노인22.역번호.nunique()"
   ]
  }
 ],
 "metadata": {
  "kernelspec": {
   "display_name": "Python 3.10.3 64-bit",
   "language": "python",
   "name": "python3"
  },
  "language_info": {
   "codemirror_mode": {
    "name": "ipython",
    "version": 3
   },
   "file_extension": ".py",
   "mimetype": "text/x-python",
   "name": "python",
   "nbconvert_exporter": "python",
   "pygments_lexer": "ipython3",
   "version": "3.10.3"
  },
  "vscode": {
   "interpreter": {
    "hash": "6de9cc75f9ee67ec1b5b535deb0e285a51ecb5d2bba828a4a3451b05a2c1454b"
   }
  }
 },
 "nbformat": 4,
 "nbformat_minor": 4
}
