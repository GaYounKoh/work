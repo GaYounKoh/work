{
 "cells": [
  {
   "cell_type": "code",
   "execution_count": null,
   "id": "3844089d",
   "metadata": {},
   "outputs": [],
   "source": [
    "# excel은 잘 안읽어봐서 멍청했다.\n",
    "## [sheet number로 sheet읽기: sheet_name = number입력(0부터)](https://hyunmin1906.tistory.com/99)\n",
    "\n",
    "## [현재날짜,시간(Datetime) 조합하기](https://mskim8717.tistory.com/92)\n",
    "# comb_datetime = datetime.combine(only_date, only_time)\n",
    "# print(\"{} {}\".format(type(comb_datetime), comb_datetime))"
   ]
  },
  {
   "cell_type": "markdown",
   "id": "8e31bf00",
   "metadata": {},
   "source": [
    "# library import"
   ]
  },
  {
   "cell_type": "code",
   "execution_count": null,
   "id": "565a2bef",
   "metadata": {},
   "outputs": [],
   "source": [
    "import pandas as pd\n",
    "from tqdm import tqdm\n",
    "import datetime\n",
    "import numpy as np\n",
    "from IPython.core.interactiveshell import InteractiveShell\n",
    "InteractiveShell.ast_node_interactivity = \"all\""
   ]
  },
  {
   "cell_type": "markdown",
   "id": "75227d34",
   "metadata": {},
   "source": [
    "# path 지정"
   ]
  },
  {
   "cell_type": "code",
   "execution_count": null,
   "id": "4a644a10",
   "metadata": {},
   "outputs": [],
   "source": [
    "path = ''"
   ]
  },
  {
   "cell_type": "markdown",
   "id": "ee8a9613",
   "metadata": {},
   "source": [
    "# file 지정"
   ]
  },
  {
   "cell_type": "code",
   "execution_count": null,
   "id": "157a39f5",
   "metadata": {},
   "outputs": [],
   "source": [
    "file = ''"
   ]
  },
  {
   "cell_type": "markdown",
   "id": "44477f77",
   "metadata": {},
   "source": [
    "# 과제 1"
   ]
  },
  {
   "cell_type": "code",
   "execution_count": null,
   "id": "253ae4e2",
   "metadata": {},
   "outputs": [],
   "source": [
    "sheet1 = pd.read_excel(path+file+'.xlsx', sheet_name = 1, header = 0)"
   ]
  },
  {
   "cell_type": "code",
   "execution_count": null,
   "id": "7d1d8859",
   "metadata": {},
   "outputs": [],
   "source": [
    "# sheet1.head()\n",
    "# sheet1.tail()\n",
    "sheet1"
   ]
  },
  {
   "cell_type": "code",
   "execution_count": null,
   "id": "22ac50bc",
   "metadata": {},
   "outputs": [],
   "source": [
    "pd.DataFrame(sheet1.iloc[:,0]).info()"
   ]
  },
  {
   "cell_type": "markdown",
   "id": "db91f848",
   "metadata": {},
   "source": [
    "## 특정 한 곳이 혼자 str일 때\n",
    "먼저 처리해주고 쭉 실행"
   ]
  },
  {
   "cell_type": "code",
   "execution_count": null,
   "id": "221bf512",
   "metadata": {},
   "outputs": [],
   "source": [
    "# sheet1.iloc[-5,0] = datetime.datetime.strptime(sheet1.iloc[-5,0][:-3].replace(\"  \", \" \"), '%Y-%m-%d %H:%M:%S')"
   ]
  },
  {
   "cell_type": "markdown",
   "id": "fca97f90",
   "metadata": {},
   "source": [
    "## 그런거 없이 전부 datetime.datetime일 때"
   ]
  },
  {
   "cell_type": "markdown",
   "id": "74925231",
   "metadata": {},
   "source": [
    "### 연도가 이상할 때\n",
    "파일명은 2022인데 연도는 2021일 때 <br>\n",
    "검색결과 sheet랑 월일이 잘 매칭될 때"
   ]
  },
  {
   "cell_type": "code",
   "execution_count": null,
   "id": "c3f04ccc",
   "metadata": {},
   "outputs": [],
   "source": [
    "# sheet1.iloc[:,0] = sheet1.iloc[:,0].map(lambda x : f'{x.date()} {datetime.time(0,0,0)}').map(lambda x : '2022-'+x[5:])\n",
    "# last = sheet1.iloc[-1,0][:10]\n",
    "# last"
   ]
  },
  {
   "cell_type": "markdown",
   "id": "559e3278",
   "metadata": {},
   "source": [
    "### 아무 이상 없을 때"
   ]
  },
  {
   "cell_type": "code",
   "execution_count": null,
   "id": "c96c75b7",
   "metadata": {},
   "outputs": [],
   "source": [
    "# sheet1.Date[1].date()\n",
    "sheet1.iloc[:,0]= sheet1.iloc[:,0].map(lambda x : f'{x.date()} {datetime.time(0,0,0)}')\n",
    "last = sheet1.iloc[-1,0][:10]"
   ]
  },
  {
   "cell_type": "code",
   "execution_count": null,
   "id": "0de6f6b5",
   "metadata": {},
   "outputs": [],
   "source": [
    "sheet1.iloc[:,0]"
   ]
  },
  {
   "cell_type": "code",
   "execution_count": null,
   "id": "2c28d214",
   "metadata": {},
   "outputs": [],
   "source": [
    "sheet1.to_csv(f'{file}_target.csv', index = False)"
   ]
  },
  {
   "cell_type": "markdown",
   "id": "e925e480",
   "metadata": {},
   "source": [
    "# 과제 2"
   ]
  },
  {
   "cell_type": "code",
   "execution_count": null,
   "id": "45baa48e",
   "metadata": {},
   "outputs": [],
   "source": [
    "검색결과 = pd.read_excel(path+file+'.xlsx', sheet_name = 0, header = 0)"
   ]
  },
  {
   "cell_type": "code",
   "execution_count": null,
   "id": "a500529d",
   "metadata": {},
   "outputs": [],
   "source": [
    "검색결과.shape"
   ]
  },
  {
   "cell_type": "code",
   "execution_count": null,
   "id": "46b43c48",
   "metadata": {},
   "outputs": [],
   "source": [
    "검색결과[['시간']].info()\n",
    "검색결과[['시간']]"
   ]
  },
  {
   "cell_type": "markdown",
   "id": "df3a4824",
   "metadata": {},
   "source": [
    "## type이 datetime.datetime인 값이 있다면\n",
    "여기부터 쭉 실행"
   ]
  },
  {
   "cell_type": "markdown",
   "id": "76a271e4",
   "metadata": {},
   "source": [
    "### 시간 열에 NaT이 있다면\n",
    "혹은 시간 열에 NaN이 있다면"
   ]
  },
  {
   "cell_type": "code",
   "execution_count": null,
   "id": "d52b0863",
   "metadata": {},
   "outputs": [],
   "source": [
    "# 검색결과.drop(검색결과[검색결과['시간'].isnull()].index, axis = 0, inplace = True)\n",
    "# 검색결과"
   ]
  },
  {
   "cell_type": "markdown",
   "id": "c4b2fb49",
   "metadata": {},
   "source": [
    "### 혹은 시간 열에 이상한 문자가 끼어있다면"
   ]
  },
  {
   "cell_type": "code",
   "execution_count": null,
   "id": "74dadad5",
   "metadata": {},
   "outputs": [],
   "source": [
    "# 검색결과.drop(검색결과[검색결과['시간']==' '].index, axis=0, inplace = True)\n",
    "# 검색결과"
   ]
  },
  {
   "cell_type": "markdown",
   "id": "469bfdea",
   "metadata": {},
   "source": [
    "### 모두 정상이라면"
   ]
  },
  {
   "cell_type": "code",
   "execution_count": null,
   "id": "2e01017f",
   "metadata": {},
   "outputs": [],
   "source": [
    "# 전체가 datetime.datetime이라면\n",
    "검색결과.시간 = 검색결과.시간.map(lambda x : datetime.datetime.strftime(x, '%Y-%m-%d %H:%M:%S')) # f'{x.date()} {datetime.time(0,0,0)}'\n",
    "\n",
    "\n",
    "# 마지막만 datetime.datetime이라면\n",
    "# 검색결과.iloc[-1,0] = datetime.datetime.strftime(검색결과['시간'].iloc[-1].date(), '%Y-%m-%d')\n",
    "# # type(검색결과[['시간']].iloc[-1].values[0])\n",
    "# # 검색결과[['시간']].iloc[-1].values[0]"
   ]
  },
  {
   "cell_type": "code",
   "execution_count": null,
   "id": "983fb88c",
   "metadata": {},
   "outputs": [],
   "source": [
    "검색결과[['시간']].info()"
   ]
  },
  {
   "cell_type": "markdown",
   "id": "547dbca3",
   "metadata": {},
   "source": [
    "## type이 datetime.datetime인 값이 없다면\n",
    "또는 처리를 마쳤다면 <br>\n",
    "여기부터 쭉 실행"
   ]
  },
  {
   "cell_type": "markdown",
   "id": "ed08380b",
   "metadata": {},
   "source": [
    "### 시간열이 NaN이면 없애는 코드"
   ]
  },
  {
   "cell_type": "code",
   "execution_count": null,
   "id": "9aabd2ce",
   "metadata": {},
   "outputs": [],
   "source": [
    "# 검색결과.drop(검색결과[검색결과['시간'].isnull()].index, axis = 0, inplace = True)"
   ]
  },
  {
   "cell_type": "markdown",
   "id": "5d26e1c5",
   "metadata": {},
   "source": [
    "### 모두 정상이라면"
   ]
  },
  {
   "cell_type": "code",
   "execution_count": null,
   "id": "7bef2631",
   "metadata": {},
   "outputs": [],
   "source": [
    "검색결과['tmp'] = 검색결과.시간.map(lambda x : x[:10])"
   ]
  },
  {
   "cell_type": "code",
   "execution_count": null,
   "id": "453a482f",
   "metadata": {
    "scrolled": true
   },
   "outputs": [],
   "source": [
    "idx = 검색결과[검색결과['tmp']>=last].index\n",
    "# np.where(검색결과['tmp']=='2021-03-18')\n",
    "new = 검색결과.drop(idx, axis = 0)\n",
    "\n",
    "검색결과.shape[0] - len(idx) == new.shape[0] # True 나와야함."
   ]
  },
  {
   "cell_type": "code",
   "execution_count": null,
   "id": "dc54e45e",
   "metadata": {},
   "outputs": [],
   "source": [
    "new.drop('tmp', axis = 1, inplace = True)\n",
    "new"
   ]
  },
  {
   "cell_type": "code",
   "execution_count": null,
   "id": "0be3f230",
   "metadata": {},
   "outputs": [],
   "source": [
    "last"
   ]
  },
  {
   "cell_type": "code",
   "execution_count": null,
   "id": "0dd46946",
   "metadata": {},
   "outputs": [],
   "source": [
    "new.to_csv(f'{file}_input.csv', index = False)"
   ]
  }
 ],
 "metadata": {
  "kernelspec": {
   "display_name": "Python 3.10.3 64-bit",
   "language": "python",
   "name": "python3"
  },
  "language_info": {
   "codemirror_mode": {
    "name": "ipython",
    "version": 3
   },
   "file_extension": ".py",
   "mimetype": "text/x-python",
   "name": "python",
   "nbconvert_exporter": "python",
   "pygments_lexer": "ipython3",
   "version": "3.10.3"
  },
  "toc": {
   "base_numbering": 1,
   "nav_menu": {},
   "number_sections": true,
   "sideBar": true,
   "skip_h1_title": false,
   "title_cell": "Table of Contents",
   "title_sidebar": "Contents",
   "toc_cell": false,
   "toc_position": {},
   "toc_section_display": true,
   "toc_window_display": false
  },
  "vscode": {
   "interpreter": {
    "hash": "6de9cc75f9ee67ec1b5b535deb0e285a51ecb5d2bba828a4a3451b05a2c1454b"
   }
  }
 },
 "nbformat": 4,
 "nbformat_minor": 5
}
