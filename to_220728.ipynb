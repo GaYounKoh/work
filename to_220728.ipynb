{
 "cells": [
  {
   "cell_type": "code",
   "execution_count": null,
   "metadata": {},
   "outputs": [],
   "source": [
    "import pandas as pd\n",
    "from IPython.core.interactiveshell import InteractiveShell\n",
    "InteractiveShell.ast_node_interactivity = 'all'\n",
    "\n",
    "import numpy as np\n",
    "from tqdm import tqdm\n",
    "import warnings\n",
    "warnings.filterwarnings('ignore')"
   ]
  },
  {
   "cell_type": "code",
   "execution_count": null,
   "metadata": {},
   "outputs": [],
   "source": [
    "def csv(file):\n",
    "    dat_ = pd.read_csv(file + '.csv', encoding = 'cp949')\n",
    "    return dat_\n",
    "    \n",
    "def ex(file):\n",
    "    dat_ = pd.read_excel(file + '.xlsx', header = 1)\n",
    "    return dat_"
   ]
  },
  {
   "cell_type": "code",
   "execution_count": null,
   "metadata": {},
   "outputs": [],
   "source": [
    "path = 'data/'\n",
    "# dat15 = csv(path + '서울교통공사 2015년 일별 역별 시간대별 승하차인원(1_8호선)')\n",
    "# dat16 = csv(path + '서울교통공사 2016년 일별 역별 시간대별 승하차인원(1_8호선)')\n",
    "\n",
    "dat17 = ex(path + '서울교통공사 2017년 일별 역별 시간대별 승하차인원(1_8호선)')\n",
    "dat18 = ex(path + '서울교통공사 2018년 일별 역별 시간대별 승하차인원(1_8호선)')\n",
    "dat19 = ex(path + '서울교통공사 2019년 일별 역별 시간대별 승하차인원(1_8호선)')\n",
    "\n",
    "# dat20 = csv(path + '서울교통공사 2020년 일별 역별 시간대별 승하차인원(1_8호선)')\n",
    "# dat21 = csv(path + '서울교통공사 2021년 일별 역별 시간대별 승하차인원(1_8호선)')\n",
    "# dat22 = csv(path + '서울교통공사_역별 일별 시간대별 승하차인원 정보_20220531')"
   ]
  },
  {
   "cell_type": "code",
   "execution_count": null,
   "metadata": {},
   "outputs": [],
   "source": [
    "dat15.columns\n",
    "dat17.columns\n",
    "dat22.columns\n",
    "dat17.head()"
   ]
  }
 ],
 "metadata": {
  "language_info": {
   "name": "python"
  },
  "orig_nbformat": 4
 },
 "nbformat": 4,
 "nbformat_minor": 2
}
