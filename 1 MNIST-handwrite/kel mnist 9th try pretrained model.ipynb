{
 "cells": [
  {
   "cell_type": "markdown",
   "metadata": {},
   "source": [
    "# pre-trained model\n",
    "[참고](https://deep-learning-study.tistory.com/476)"
   ]
  },
  {
   "cell_type": "code",
   "execution_count": 1,
   "metadata": {},
   "outputs": [],
   "source": [
    "from IPython.core.interactiveshell import InteractiveShell\n",
    "InteractiveShell.ast_node_interactivity = \"all\""
   ]
  },
  {
   "cell_type": "markdown",
   "metadata": {},
   "source": [
    "## Load pre-trained model"
   ]
  },
  {
   "cell_type": "code",
   "execution_count": 2,
   "metadata": {
    "scrolled": true
   },
   "outputs": [
    {
     "name": "stdout",
     "output_type": "stream",
     "text": [
      "ResNet(\n",
      "  (conv1): Conv2d(3, 64, kernel_size=(7, 7), stride=(2, 2), padding=(3, 3), bias=False)\n",
      "  (bn1): BatchNorm2d(64, eps=1e-05, momentum=0.1, affine=True, track_running_stats=True)\n",
      "  (relu): ReLU(inplace=True)\n",
      "  (maxpool): MaxPool2d(kernel_size=3, stride=2, padding=1, dilation=1, ceil_mode=False)\n",
      "  (layer1): Sequential(\n",
      "    (0): BasicBlock(\n",
      "      (conv1): Conv2d(64, 64, kernel_size=(3, 3), stride=(1, 1), padding=(1, 1), bias=False)\n",
      "      (bn1): BatchNorm2d(64, eps=1e-05, momentum=0.1, affine=True, track_running_stats=True)\n",
      "      (relu): ReLU(inplace=True)\n",
      "      (conv2): Conv2d(64, 64, kernel_size=(3, 3), stride=(1, 1), padding=(1, 1), bias=False)\n",
      "      (bn2): BatchNorm2d(64, eps=1e-05, momentum=0.1, affine=True, track_running_stats=True)\n",
      "    )\n",
      "    (1): BasicBlock(\n",
      "      (conv1): Conv2d(64, 64, kernel_size=(3, 3), stride=(1, 1), padding=(1, 1), bias=False)\n",
      "      (bn1): BatchNorm2d(64, eps=1e-05, momentum=0.1, affine=True, track_running_stats=True)\n",
      "      (relu): ReLU(inplace=True)\n",
      "      (conv2): Conv2d(64, 64, kernel_size=(3, 3), stride=(1, 1), padding=(1, 1), bias=False)\n",
      "      (bn2): BatchNorm2d(64, eps=1e-05, momentum=0.1, affine=True, track_running_stats=True)\n",
      "    )\n",
      "  )\n",
      "  (layer2): Sequential(\n",
      "    (0): BasicBlock(\n",
      "      (conv1): Conv2d(64, 128, kernel_size=(3, 3), stride=(2, 2), padding=(1, 1), bias=False)\n",
      "      (bn1): BatchNorm2d(128, eps=1e-05, momentum=0.1, affine=True, track_running_stats=True)\n",
      "      (relu): ReLU(inplace=True)\n",
      "      (conv2): Conv2d(128, 128, kernel_size=(3, 3), stride=(1, 1), padding=(1, 1), bias=False)\n",
      "      (bn2): BatchNorm2d(128, eps=1e-05, momentum=0.1, affine=True, track_running_stats=True)\n",
      "      (downsample): Sequential(\n",
      "        (0): Conv2d(64, 128, kernel_size=(1, 1), stride=(2, 2), bias=False)\n",
      "        (1): BatchNorm2d(128, eps=1e-05, momentum=0.1, affine=True, track_running_stats=True)\n",
      "      )\n",
      "    )\n",
      "    (1): BasicBlock(\n",
      "      (conv1): Conv2d(128, 128, kernel_size=(3, 3), stride=(1, 1), padding=(1, 1), bias=False)\n",
      "      (bn1): BatchNorm2d(128, eps=1e-05, momentum=0.1, affine=True, track_running_stats=True)\n",
      "      (relu): ReLU(inplace=True)\n",
      "      (conv2): Conv2d(128, 128, kernel_size=(3, 3), stride=(1, 1), padding=(1, 1), bias=False)\n",
      "      (bn2): BatchNorm2d(128, eps=1e-05, momentum=0.1, affine=True, track_running_stats=True)\n",
      "    )\n",
      "  )\n",
      "  (layer3): Sequential(\n",
      "    (0): BasicBlock(\n",
      "      (conv1): Conv2d(128, 256, kernel_size=(3, 3), stride=(2, 2), padding=(1, 1), bias=False)\n",
      "      (bn1): BatchNorm2d(256, eps=1e-05, momentum=0.1, affine=True, track_running_stats=True)\n",
      "      (relu): ReLU(inplace=True)\n",
      "      (conv2): Conv2d(256, 256, kernel_size=(3, 3), stride=(1, 1), padding=(1, 1), bias=False)\n",
      "      (bn2): BatchNorm2d(256, eps=1e-05, momentum=0.1, affine=True, track_running_stats=True)\n",
      "      (downsample): Sequential(\n",
      "        (0): Conv2d(128, 256, kernel_size=(1, 1), stride=(2, 2), bias=False)\n",
      "        (1): BatchNorm2d(256, eps=1e-05, momentum=0.1, affine=True, track_running_stats=True)\n",
      "      )\n",
      "    )\n",
      "    (1): BasicBlock(\n",
      "      (conv1): Conv2d(256, 256, kernel_size=(3, 3), stride=(1, 1), padding=(1, 1), bias=False)\n",
      "      (bn1): BatchNorm2d(256, eps=1e-05, momentum=0.1, affine=True, track_running_stats=True)\n",
      "      (relu): ReLU(inplace=True)\n",
      "      (conv2): Conv2d(256, 256, kernel_size=(3, 3), stride=(1, 1), padding=(1, 1), bias=False)\n",
      "      (bn2): BatchNorm2d(256, eps=1e-05, momentum=0.1, affine=True, track_running_stats=True)\n",
      "    )\n",
      "  )\n",
      "  (layer4): Sequential(\n",
      "    (0): BasicBlock(\n",
      "      (conv1): Conv2d(256, 512, kernel_size=(3, 3), stride=(2, 2), padding=(1, 1), bias=False)\n",
      "      (bn1): BatchNorm2d(512, eps=1e-05, momentum=0.1, affine=True, track_running_stats=True)\n",
      "      (relu): ReLU(inplace=True)\n",
      "      (conv2): Conv2d(512, 512, kernel_size=(3, 3), stride=(1, 1), padding=(1, 1), bias=False)\n",
      "      (bn2): BatchNorm2d(512, eps=1e-05, momentum=0.1, affine=True, track_running_stats=True)\n",
      "      (downsample): Sequential(\n",
      "        (0): Conv2d(256, 512, kernel_size=(1, 1), stride=(2, 2), bias=False)\n",
      "        (1): BatchNorm2d(512, eps=1e-05, momentum=0.1, affine=True, track_running_stats=True)\n",
      "      )\n",
      "    )\n",
      "    (1): BasicBlock(\n",
      "      (conv1): Conv2d(512, 512, kernel_size=(3, 3), stride=(1, 1), padding=(1, 1), bias=False)\n",
      "      (bn1): BatchNorm2d(512, eps=1e-05, momentum=0.1, affine=True, track_running_stats=True)\n",
      "      (relu): ReLU(inplace=True)\n",
      "      (conv2): Conv2d(512, 512, kernel_size=(3, 3), stride=(1, 1), padding=(1, 1), bias=False)\n",
      "      (bn2): BatchNorm2d(512, eps=1e-05, momentum=0.1, affine=True, track_running_stats=True)\n",
      "    )\n",
      "  )\n",
      "  (avgpool): AdaptiveAvgPool2d(output_size=(1, 1))\n",
      "  (fc): Linear(in_features=512, out_features=1000, bias=True)\n",
      ")\n"
     ]
    }
   ],
   "source": [
    "# load resnet18 with the pre-trained weights\n",
    "from torchvision import models\n",
    "import torch\n",
    "\n",
    "resnet18_pretrained = models.resnet18(pretrained=True)\n",
    "\n",
    "print(resnet18_pretrained)"
   ]
  },
  {
   "cell_type": "code",
   "execution_count": null,
   "metadata": {},
   "outputs": [],
   "source": []
  },
  {
   "cell_type": "code",
   "execution_count": null,
   "metadata": {},
   "outputs": [],
   "source": []
  },
  {
   "cell_type": "code",
   "execution_count": null,
   "metadata": {},
   "outputs": [],
   "source": []
  },
  {
   "cell_type": "markdown",
   "metadata": {},
   "source": [
    "## Library import"
   ]
  },
  {
   "cell_type": "code",
   "execution_count": 3,
   "metadata": {},
   "outputs": [],
   "source": [
    "import os\n",
    "import struct\n",
    "import numpy as np\n",
    "import matplotlib.pyplot as plt\n",
    "\n",
    "import gzip\n",
    "from IPython.core.interactiveshell import InteractiveShell\n",
    "InteractiveShell.ast_node_interactivity = \"all\""
   ]
  },
  {
   "cell_type": "markdown",
   "metadata": {},
   "source": [
    "## 이미지 추출, 이미지 출력, 라벨 list 생성 함수\n",
    "[함수 인자 입력 순서](https://naon.me/posts/til18)"
   ]
  },
  {
   "cell_type": "code",
   "execution_count": 4,
   "metadata": {},
   "outputs": [],
   "source": [
    "def extract_imgs(n, train = True):\n",
    "    if train:\n",
    "        imgs = gzip.open(\"train-images-idx3-ubyte.gz\", 'r')\n",
    "    else:\n",
    "        imgs = gzip.open(\"t10k-images-idx3-ubyte.gz\", 'r')\n",
    "    \n",
    "    img_size = 28\n",
    "    num_imgs = n\n",
    "    \n",
    "    imgs.read(16) # 꼭 있어야 하는 코드였다. 출력을 위한게 아니었음.\n",
    "    \n",
    "    buf = imgs.read(img_size * img_size * num_imgs)\n",
    "    data = np.frombuffer(buf, dtype = np.uint8).astype(np.float32)\n",
    "    data = data.reshape(num_imgs, img_size, img_size, 1)\n",
    "    \n",
    "    return data\n",
    "\n",
    "def print_imgs(data, idx):\n",
    "    img = np.asarray(data[idx]).squeeze()\n",
    "    plt.imshow(img)\n",
    "    plt.show()\n",
    "\n",
    "def label_li(fin, train = True):\n",
    "    li = []\n",
    "    \n",
    "    if train:\n",
    "        labels = gzip.open(\"train-labels-idx1-ubyte.gz\", 'r')\n",
    "    else:\n",
    "        labels = gzip.open(\"t10k-labels-idx1-ubyte.gz\", 'r')\n",
    "    \n",
    "    labels.read(8) # 꼭 있어야 하는 코드였다. 출력을 위한게 아니었음.\n",
    "    \n",
    "    for i in range(0, fin): # start 늘린 수 만큼 뒤쪽 출력이 안됨.\n",
    "        buf = labels.read(1)\n",
    "        label = np.frombuffer(buf, dtype = np.uint8).astype(np.int64)\n",
    "        li.extend(list(label))\n",
    "        \n",
    "    return li"
   ]
  },
  {
   "cell_type": "markdown",
   "metadata": {},
   "source": [
    "## 환경설정"
   ]
  },
  {
   "cell_type": "code",
   "execution_count": 5,
   "metadata": {},
   "outputs": [],
   "source": [
    "import torch\n",
    "import torch.nn as nn\n",
    "os.environ['TOKENIZERS_PARALLELISM'] = 'false'\n",
    "os.environ['CUDA_DEVICE_ORDER'] = 'PCI_BUS_ID' # Arrange GPU devices starting from 0\n",
    "os.environ['CUDA_VISIBLE_DEVICES'] = '2' # Set the GPU 2 to use\n",
    "# 멀티 gpu 시스템은 하나의 GPU에서 코드가 실행되게 프로그래밍을 해도 모든 GPU에 메모리를 할당함.\n",
    "# 따라서 2번 gpu만 사용하도록 코드를 짜 준 것.\n",
    "## 돌아가는 것 확인 함.\n",
    "\n",
    "device = torch.device('cuda') if torch.cuda.is_available() else torch.device('cpu')"
   ]
  },
  {
   "cell_type": "code",
   "execution_count": 6,
   "metadata": {},
   "outputs": [
    {
     "name": "stdout",
     "output_type": "stream",
     "text": [
      "Device: cuda\n",
      "Current cuda device: 0\n",
      "There are 1 GPU(s) available.\n",
      "We will use the GPU: NVIDIA GeForce RTX 3090\n"
     ]
    }
   ],
   "source": [
    "#GPU 체크 및 할당\n",
    "if torch.cuda.is_available():    \n",
    "    #device = torch.device(\"cuda:0\")\n",
    "    print('Device:', device)\n",
    "    print('Current cuda device:', torch.cuda.current_device()) # 현재 cuda가 사용할 GPU\n",
    "    print('There are %d GPU(s) available.' % torch.cuda.device_count())\n",
    "    print('We will use the GPU:', torch.cuda.get_device_name(0))\n",
    "else:\n",
    "    device = torch.device(\"cpu\")\n",
    "    print('No GPU available, using the CPU instead.')"
   ]
  },
  {
   "cell_type": "markdown",
   "metadata": {},
   "source": [
    "## 하이퍼파라미터 튜닝"
   ]
  },
  {
   "cell_type": "code",
   "execution_count": 7,
   "metadata": {},
   "outputs": [],
   "source": [
    "CFG = {\n",
    "    'IMG_SIZE':28, #이미지 사이즈\n",
    "    'EPOCHS':50, #에포크\n",
    "    'LEARNING_RATE':1e-5, #학습률\n",
    "    'BATCH_SIZE':32, #배치사이즈\n",
    "    'SEED':41, #시드\n",
    "}"
   ]
  },
  {
   "cell_type": "markdown",
   "metadata": {},
   "source": [
    "### 모델의 재현성을 위한 random seed 고정"
   ]
  },
  {
   "cell_type": "code",
   "execution_count": 8,
   "metadata": {},
   "outputs": [],
   "source": [
    "# Seed 고정\n",
    "import random\n",
    "import numpy as np\n",
    "\n",
    "def seed_everything(seed):\n",
    "    random.seed(seed)\n",
    "    os.environ['PYTHONHASHSEED'] = str(seed)\n",
    "    np.random.seed(seed)\n",
    "    torch.manual_seed(seed) # 랜덤시드 고정\n",
    "    torch.cuda.manual_seed(seed) # gpu 사용할 경우 랜덤시드 고정\n",
    "    torch.backends.cudnn.deterministic = True\n",
    "    torch.backends.cudnn.benchmark = True\n",
    "    \n",
    "seed_everything(CFG['SEED'])"
   ]
  },
  {
   "cell_type": "code",
   "execution_count": 9,
   "metadata": {},
   "outputs": [],
   "source": [
    "numdat = 10000\n",
    "data = extract_imgs(numdat)\n",
    "labels = label_li(numdat)"
   ]
  },
  {
   "cell_type": "markdown",
   "metadata": {},
   "source": [
    "## train/val split"
   ]
  },
  {
   "cell_type": "code",
   "execution_count": 10,
   "metadata": {},
   "outputs": [
    {
     "name": "stdout",
     "output_type": "stream",
     "text": [
      "train set 길이 :  7500\n",
      "vaildation set 길이 :  2500\n"
     ]
    }
   ],
   "source": [
    "train_len = int(len(data)*0.75)\n",
    "val_len = int(len(data)*0.25)\n",
    "\n",
    "# train_data = data[:train_len]\n",
    "# train_label = labels[:train_len]\n",
    "\n",
    "# val_data = data[train_len:]\n",
    "# val_label = labels[train_len:]\n",
    "\n",
    "print('train set 길이 : ', train_len)\n",
    "print('vaildation set 길이 : ', val_len)"
   ]
  },
  {
   "cell_type": "markdown",
   "metadata": {},
   "source": [
    "## validation set"
   ]
  },
  {
   "cell_type": "code",
   "execution_count": 11,
   "metadata": {},
   "outputs": [],
   "source": [
    "val_dt = data[train_len:]\n",
    "val_lb = labels[train_len:]"
   ]
  },
  {
   "cell_type": "code",
   "execution_count": 12,
   "metadata": {},
   "outputs": [
    {
     "data": {
      "text/plain": [
       "torch.Size([2500, 1, 28, 28])"
      ]
     },
     "execution_count": 12,
     "metadata": {},
     "output_type": "execute_result"
    },
    {
     "data": {
      "text/plain": [
       "tensor([2, 3, 4,  ..., 6, 9, 7])"
      ]
     },
     "execution_count": 12,
     "metadata": {},
     "output_type": "execute_result"
    }
   ],
   "source": [
    "## test cell\n",
    "torch.tensor(val_dt.reshape(len(val_dt), 1, 28, 28)).float().shape\n",
    "\n",
    "torch.tensor(val_lb)"
   ]
  },
  {
   "cell_type": "markdown",
   "metadata": {},
   "source": [
    "## test set"
   ]
  },
  {
   "cell_type": "code",
   "execution_count": 13,
   "metadata": {},
   "outputs": [],
   "source": [
    "numdat = 10000\n",
    "test_data = extract_imgs(numdat, train = False)\n",
    "test_labels = label_li(numdat, train = False)"
   ]
  },
  {
   "cell_type": "code",
   "execution_count": 14,
   "metadata": {},
   "outputs": [],
   "source": [
    "# data"
   ]
  },
  {
   "cell_type": "markdown",
   "metadata": {},
   "source": [
    "## Custom Dataset"
   ]
  },
  {
   "cell_type": "code",
   "execution_count": 15,
   "metadata": {},
   "outputs": [],
   "source": [
    "from torchvision import datasets as datasets # 이미지 데이터셋 집합체\n",
    "import torchvision.transforms as transforms # 이미지 변환 툴\n",
    "\n",
    "from torch.utils.data import DataLoader # 학습 및 배치로 모델에 넣어주기 위한 툴\n",
    "from torch.utils.data import DataLoader, Dataset\n",
    "\n",
    "import cv2\n",
    "\n",
    "class CustomDataset(Dataset):\n",
    "    def __init__(self, img_list, label_list, train_mode = True, transforms = None): # 필요한 변수들을 선언\n",
    "        self.transforms = transforms\n",
    "        self.train_mode = train_mode\n",
    "        self.img_list = img_list\n",
    "        self.label_list = label_list\n",
    "    \n",
    "    def __getitem__(self, index): # index번째 data를 return\n",
    "        img = self.img_list[index]\n",
    "        img = np.asarray(data[index]).squeeze() # 추가해준 처리\n",
    "        ## Get image data\n",
    "#         print(img_path)\n",
    "#         image = cv2.imread(img) # 이미 읽어온 이미지라서 이 코드 필요 없음.\n",
    "#         print(image) # numpy 배열\n",
    "        \n",
    "        if self.transforms is not None:\n",
    "            img = self.transforms(img)\n",
    "            #flattened_img = img.flatten().float() # 2차원 이미지를 1차원으로 변환\n",
    "        \n",
    "        if self.train_mode:\n",
    "            label = self.label_list[index]\n",
    "            return img, label\n",
    "        else:\n",
    "            return img\n",
    "        \n",
    "    def __len__(self): # 길이 return\n",
    "        return len(self.img_list)"
   ]
  },
  {
   "cell_type": "markdown",
   "metadata": {},
   "source": [
    "## transform"
   ]
  },
  {
   "cell_type": "code",
   "execution_count": 16,
   "metadata": {},
   "outputs": [],
   "source": [
    "train_transform = transforms.Compose([\n",
    "    transforms.ToPILImage(), # Numpy arr에서 PIL 이미지로\n",
    "#     transforms.Resize([CFG['IMG_SIZE'], CFG['IMG_SIZE']]), # 이미지 사이즈 변형\n",
    "    transforms.ToTensor()#, # 이미지 데이터를 tensor로\n",
    "#     transforms.Normalize(mean = (0.5,), std = (0.5,)) # 이미지 정규화 (원소 3개짜리는 색이 있는 이미지일 경우에만, MNIST는 색 없는 이미지이므로 사용하지 않음.)\n",
    "])\n",
    "\n",
    "test_transform = transforms.Compose([\n",
    "    transforms.ToPILImage(),\n",
    "#     transforms.Resize([CFG['IMG_SIZE'], CFG['IMG_SIZE']]), # size 다 동일하므로 resize는 필요 없음\n",
    "    transforms.ToTensor()#,\n",
    "#     transforms.Normalize(mean = (0.5,), std = (0.5,)) ## 채널 별 정규화 (원소 3개짜리는 색이 있는 이미지일 경우에만, MNIST는 색 없는 이미지이므로 사용하지 않음.)\n",
    "])"
   ]
  },
  {
   "cell_type": "code",
   "execution_count": 17,
   "metadata": {},
   "outputs": [],
   "source": [
    "# image = Image.open(self.file_path_list[idx]) # 해당 인덱스에 맞는 image 추출\n",
    "#         tensor_image = self.PIL2tensor(image) # PIL로 읽은 이미지를 torch tensor형으로 변환\n",
    "#         flattened_image = tensor_image.flatten().float()"
   ]
  },
  {
   "cell_type": "markdown",
   "metadata": {},
   "source": [
    "## dataloader"
   ]
  },
  {
   "cell_type": "code",
   "execution_count": 18,
   "metadata": {},
   "outputs": [],
   "source": [
    "## CustomDataset class를 통하여 train dataset생성\n",
    "train_dataset = CustomDataset(data[:train_len], labels[:train_len], train_mode = True, transforms = train_transform)\n",
    "## 만든 train dataset을 DataLoader에 넣어 batch 만들기\n",
    "train_loader = DataLoader(train_dataset, batch_size = CFG['BATCH_SIZE'], shuffle = True, num_workers = 0)\n",
    "\n",
    "## validation에서도 적용\n",
    "val_dataset = CustomDataset(data[train_len:], labels[train_len:], train_mode = True, transforms = test_transform)\n",
    "val_loader = DataLoader(val_dataset, batch_size = CFG['BATCH_SIZE'], shuffle = True, num_workers = 0)"
   ]
  },
  {
   "cell_type": "code",
   "execution_count": 19,
   "metadata": {},
   "outputs": [
    {
     "data": {
      "text/plain": [
       "torch.Size([1, 28, 28])"
      ]
     },
     "execution_count": 19,
     "metadata": {},
     "output_type": "execute_result"
    }
   ],
   "source": [
    "list(train_dataset)[0][0].shape\n",
    "## mnist_data 코드로 불러왔을 때처럼의 형태를 띠어야함.\n",
    "## 그 형태: torch.Size([1, 28, 28])"
   ]
  },
  {
   "cell_type": "code",
   "execution_count": null,
   "metadata": {},
   "outputs": [],
   "source": []
  },
  {
   "cell_type": "code",
   "execution_count": null,
   "metadata": {},
   "outputs": [],
   "source": []
  },
  {
   "cell_type": "code",
   "execution_count": null,
   "metadata": {},
   "outputs": [],
   "source": []
  },
  {
   "cell_type": "code",
   "execution_count": null,
   "metadata": {},
   "outputs": [],
   "source": []
  },
  {
   "cell_type": "code",
   "execution_count": null,
   "metadata": {},
   "outputs": [],
   "source": []
  },
  {
   "cell_type": "code",
   "execution_count": null,
   "metadata": {},
   "outputs": [],
   "source": []
  },
  {
   "cell_type": "code",
   "execution_count": null,
   "metadata": {},
   "outputs": [],
   "source": []
  },
  {
   "cell_type": "markdown",
   "metadata": {},
   "source": [
    "# output layer를 현재 data에 맞게 수정합니다."
   ]
  },
  {
   "cell_type": "code",
   "execution_count": 20,
   "metadata": {
    "scrolled": true
   },
   "outputs": [
    {
     "data": {
      "text/plain": [
       "ResNet(\n",
       "  (conv1): Conv2d(3, 64, kernel_size=(7, 7), stride=(2, 2), padding=(3, 3), bias=False)\n",
       "  (bn1): BatchNorm2d(64, eps=1e-05, momentum=0.1, affine=True, track_running_stats=True)\n",
       "  (relu): ReLU(inplace=True)\n",
       "  (maxpool): MaxPool2d(kernel_size=3, stride=2, padding=1, dilation=1, ceil_mode=False)\n",
       "  (layer1): Sequential(\n",
       "    (0): BasicBlock(\n",
       "      (conv1): Conv2d(64, 64, kernel_size=(3, 3), stride=(1, 1), padding=(1, 1), bias=False)\n",
       "      (bn1): BatchNorm2d(64, eps=1e-05, momentum=0.1, affine=True, track_running_stats=True)\n",
       "      (relu): ReLU(inplace=True)\n",
       "      (conv2): Conv2d(64, 64, kernel_size=(3, 3), stride=(1, 1), padding=(1, 1), bias=False)\n",
       "      (bn2): BatchNorm2d(64, eps=1e-05, momentum=0.1, affine=True, track_running_stats=True)\n",
       "    )\n",
       "    (1): BasicBlock(\n",
       "      (conv1): Conv2d(64, 64, kernel_size=(3, 3), stride=(1, 1), padding=(1, 1), bias=False)\n",
       "      (bn1): BatchNorm2d(64, eps=1e-05, momentum=0.1, affine=True, track_running_stats=True)\n",
       "      (relu): ReLU(inplace=True)\n",
       "      (conv2): Conv2d(64, 64, kernel_size=(3, 3), stride=(1, 1), padding=(1, 1), bias=False)\n",
       "      (bn2): BatchNorm2d(64, eps=1e-05, momentum=0.1, affine=True, track_running_stats=True)\n",
       "    )\n",
       "  )\n",
       "  (layer2): Sequential(\n",
       "    (0): BasicBlock(\n",
       "      (conv1): Conv2d(64, 128, kernel_size=(3, 3), stride=(2, 2), padding=(1, 1), bias=False)\n",
       "      (bn1): BatchNorm2d(128, eps=1e-05, momentum=0.1, affine=True, track_running_stats=True)\n",
       "      (relu): ReLU(inplace=True)\n",
       "      (conv2): Conv2d(128, 128, kernel_size=(3, 3), stride=(1, 1), padding=(1, 1), bias=False)\n",
       "      (bn2): BatchNorm2d(128, eps=1e-05, momentum=0.1, affine=True, track_running_stats=True)\n",
       "      (downsample): Sequential(\n",
       "        (0): Conv2d(64, 128, kernel_size=(1, 1), stride=(2, 2), bias=False)\n",
       "        (1): BatchNorm2d(128, eps=1e-05, momentum=0.1, affine=True, track_running_stats=True)\n",
       "      )\n",
       "    )\n",
       "    (1): BasicBlock(\n",
       "      (conv1): Conv2d(128, 128, kernel_size=(3, 3), stride=(1, 1), padding=(1, 1), bias=False)\n",
       "      (bn1): BatchNorm2d(128, eps=1e-05, momentum=0.1, affine=True, track_running_stats=True)\n",
       "      (relu): ReLU(inplace=True)\n",
       "      (conv2): Conv2d(128, 128, kernel_size=(3, 3), stride=(1, 1), padding=(1, 1), bias=False)\n",
       "      (bn2): BatchNorm2d(128, eps=1e-05, momentum=0.1, affine=True, track_running_stats=True)\n",
       "    )\n",
       "  )\n",
       "  (layer3): Sequential(\n",
       "    (0): BasicBlock(\n",
       "      (conv1): Conv2d(128, 256, kernel_size=(3, 3), stride=(2, 2), padding=(1, 1), bias=False)\n",
       "      (bn1): BatchNorm2d(256, eps=1e-05, momentum=0.1, affine=True, track_running_stats=True)\n",
       "      (relu): ReLU(inplace=True)\n",
       "      (conv2): Conv2d(256, 256, kernel_size=(3, 3), stride=(1, 1), padding=(1, 1), bias=False)\n",
       "      (bn2): BatchNorm2d(256, eps=1e-05, momentum=0.1, affine=True, track_running_stats=True)\n",
       "      (downsample): Sequential(\n",
       "        (0): Conv2d(128, 256, kernel_size=(1, 1), stride=(2, 2), bias=False)\n",
       "        (1): BatchNorm2d(256, eps=1e-05, momentum=0.1, affine=True, track_running_stats=True)\n",
       "      )\n",
       "    )\n",
       "    (1): BasicBlock(\n",
       "      (conv1): Conv2d(256, 256, kernel_size=(3, 3), stride=(1, 1), padding=(1, 1), bias=False)\n",
       "      (bn1): BatchNorm2d(256, eps=1e-05, momentum=0.1, affine=True, track_running_stats=True)\n",
       "      (relu): ReLU(inplace=True)\n",
       "      (conv2): Conv2d(256, 256, kernel_size=(3, 3), stride=(1, 1), padding=(1, 1), bias=False)\n",
       "      (bn2): BatchNorm2d(256, eps=1e-05, momentum=0.1, affine=True, track_running_stats=True)\n",
       "    )\n",
       "  )\n",
       "  (layer4): Sequential(\n",
       "    (0): BasicBlock(\n",
       "      (conv1): Conv2d(256, 512, kernel_size=(3, 3), stride=(2, 2), padding=(1, 1), bias=False)\n",
       "      (bn1): BatchNorm2d(512, eps=1e-05, momentum=0.1, affine=True, track_running_stats=True)\n",
       "      (relu): ReLU(inplace=True)\n",
       "      (conv2): Conv2d(512, 512, kernel_size=(3, 3), stride=(1, 1), padding=(1, 1), bias=False)\n",
       "      (bn2): BatchNorm2d(512, eps=1e-05, momentum=0.1, affine=True, track_running_stats=True)\n",
       "      (downsample): Sequential(\n",
       "        (0): Conv2d(256, 512, kernel_size=(1, 1), stride=(2, 2), bias=False)\n",
       "        (1): BatchNorm2d(512, eps=1e-05, momentum=0.1, affine=True, track_running_stats=True)\n",
       "      )\n",
       "    )\n",
       "    (1): BasicBlock(\n",
       "      (conv1): Conv2d(512, 512, kernel_size=(3, 3), stride=(1, 1), padding=(1, 1), bias=False)\n",
       "      (bn1): BatchNorm2d(512, eps=1e-05, momentum=0.1, affine=True, track_running_stats=True)\n",
       "      (relu): ReLU(inplace=True)\n",
       "      (conv2): Conv2d(512, 512, kernel_size=(3, 3), stride=(1, 1), padding=(1, 1), bias=False)\n",
       "      (bn2): BatchNorm2d(512, eps=1e-05, momentum=0.1, affine=True, track_running_stats=True)\n",
       "    )\n",
       "  )\n",
       "  (avgpool): AdaptiveAvgPool2d(output_size=(1, 1))\n",
       "  (fc): Linear(in_features=512, out_features=10, bias=True)\n",
       ")"
      ]
     },
     "execution_count": 20,
     "metadata": {},
     "output_type": "execute_result"
    }
   ],
   "source": [
    "# change the output layer to 10 classes\n",
    "num_classes = 10\n",
    "num_ftrs = resnet18_pretrained.fc.in_features\n",
    "resnet18_pretrained.fc = torch.nn.Linear(num_ftrs, num_classes)\n",
    "\n",
    "# device = torch.device('cuda:0')\n",
    "resnet18_pretrained.to(device)"
   ]
  },
  {
   "cell_type": "code",
   "execution_count": 21,
   "metadata": {},
   "outputs": [
    {
     "data": {
      "text/plain": [
       "Conv2d(3, 64, kernel_size=(7, 7), stride=(2, 2), padding=(3, 3), bias=False)"
      ]
     },
     "execution_count": 21,
     "metadata": {},
     "output_type": "execute_result"
    }
   ],
   "source": [
    "resnet18_pretrained.conv1 # 맨 앞이 3인걸 보니 이건 colored data용 모델임."
   ]
  },
  {
   "cell_type": "markdown",
   "metadata": {},
   "source": [
    "#### flatten을 수행하지 않은 8th try의 model에서 input이 1이었음을 고려하여, 해당 모델 input도 1로 바꿔주기로 한다."
   ]
  },
  {
   "cell_type": "code",
   "execution_count": 22,
   "metadata": {},
   "outputs": [
    {
     "data": {
      "text/plain": [
       "(7, 7)"
      ]
     },
     "execution_count": 22,
     "metadata": {},
     "output_type": "execute_result"
    },
    {
     "data": {
      "text/plain": [
       "(2, 2)"
      ]
     },
     "execution_count": 22,
     "metadata": {},
     "output_type": "execute_result"
    },
    {
     "data": {
      "text/plain": [
       "(3, 3)"
      ]
     },
     "execution_count": 22,
     "metadata": {},
     "output_type": "execute_result"
    }
   ],
   "source": [
    "kernel_s = resnet18_pretrained.conv1.kernel_size\n",
    "strd = resnet18_pretrained.conv1.stride\n",
    "padd = resnet18_pretrained.conv1.padding\n",
    "bs = resnet18_pretrained.conv1.bias\n",
    "in_c = resnet18_pretrained.conv1.in_channels\n",
    "out_c = resnet18_pretrained.conv1.out_channels\n",
    "\n",
    "## 위의 fc layer를 변경하는 것과 같은 방식으로 하려면\n",
    "# resnet18_pretrained.conv1 = torch.nn.Conv2d(1, out_c, kernel_s, strd, padd, bs)\n",
    "\n",
    "## 보다 나은 방식은 이것임\n",
    "# resnet18_pretrained.conv1.in_channels = 1\n",
    "# resnet18_pretrained.conv1.in_channels\n",
    "\n",
    "## ------------------------------------------------------ 위 방법이 안먹힘.\n",
    "resnet18_pretrained.conv1 = torch.nn.Conv2d(1, 64, kernel_size = 7, stride = 2, padding = 3, bias = False)\n",
    "resnet18_pretrained.conv1.kernel_size\n",
    "resnet18_pretrained.conv1.stride\n",
    "resnet18_pretrained.conv1.padding"
   ]
  },
  {
   "cell_type": "markdown",
   "metadata": {},
   "source": [
    "## 모델 요약본을 출력하여 잘 불러왔는지 확인해보겠습니다."
   ]
  },
  {
   "cell_type": "code",
   "execution_count": 24,
   "metadata": {},
   "outputs": [
    {
     "name": "stdout",
     "output_type": "stream",
     "text": [
      "Requirement already satisfied: torchsummary in /home/dacon/anaconda3/envs/geonu/lib/python3.8/site-packages (1.5.1)\n",
      "\u001b[33mWARNING: You are using pip version 22.0.3; however, version 22.2.2 is available.\n",
      "You should consider upgrading via the '/home/dacon/anaconda3/envs/geonu/bin/python -m pip install --upgrade pip' command.\u001b[0m\u001b[33m\n",
      "\u001b[0mNote: you may need to restart the kernel to use updated packages.\n"
     ]
    }
   ],
   "source": [
    "# %pip install torchsummary"
   ]
  },
  {
   "cell_type": "code",
   "execution_count": 24,
   "metadata": {
    "scrolled": true
   },
   "outputs": [
    {
     "name": "stdout",
     "output_type": "stream",
     "text": [
      "----------------------------------------------------------------\n",
      "        Layer (type)               Output Shape         Param #\n",
      "================================================================\n",
      "            Conv2d-1             [-1, 64, 4, 4]           3,136\n",
      "       BatchNorm2d-2             [-1, 64, 4, 4]             128\n",
      "              ReLU-3             [-1, 64, 4, 4]               0\n",
      "         MaxPool2d-4             [-1, 64, 2, 2]               0\n",
      "            Conv2d-5             [-1, 64, 2, 2]          36,864\n",
      "       BatchNorm2d-6             [-1, 64, 2, 2]             128\n",
      "              ReLU-7             [-1, 64, 2, 2]               0\n",
      "            Conv2d-8             [-1, 64, 2, 2]          36,864\n",
      "       BatchNorm2d-9             [-1, 64, 2, 2]             128\n",
      "             ReLU-10             [-1, 64, 2, 2]               0\n",
      "       BasicBlock-11             [-1, 64, 2, 2]               0\n",
      "           Conv2d-12             [-1, 64, 2, 2]          36,864\n",
      "      BatchNorm2d-13             [-1, 64, 2, 2]             128\n",
      "             ReLU-14             [-1, 64, 2, 2]               0\n",
      "           Conv2d-15             [-1, 64, 2, 2]          36,864\n",
      "      BatchNorm2d-16             [-1, 64, 2, 2]             128\n",
      "             ReLU-17             [-1, 64, 2, 2]               0\n",
      "       BasicBlock-18             [-1, 64, 2, 2]               0\n",
      "           Conv2d-19            [-1, 128, 1, 1]          73,728\n",
      "      BatchNorm2d-20            [-1, 128, 1, 1]             256\n",
      "             ReLU-21            [-1, 128, 1, 1]               0\n",
      "           Conv2d-22            [-1, 128, 1, 1]         147,456\n",
      "      BatchNorm2d-23            [-1, 128, 1, 1]             256\n",
      "           Conv2d-24            [-1, 128, 1, 1]           8,192\n",
      "      BatchNorm2d-25            [-1, 128, 1, 1]             256\n",
      "             ReLU-26            [-1, 128, 1, 1]               0\n",
      "       BasicBlock-27            [-1, 128, 1, 1]               0\n",
      "           Conv2d-28            [-1, 128, 1, 1]         147,456\n",
      "      BatchNorm2d-29            [-1, 128, 1, 1]             256\n",
      "             ReLU-30            [-1, 128, 1, 1]               0\n",
      "           Conv2d-31            [-1, 128, 1, 1]         147,456\n",
      "      BatchNorm2d-32            [-1, 128, 1, 1]             256\n",
      "             ReLU-33            [-1, 128, 1, 1]               0\n",
      "       BasicBlock-34            [-1, 128, 1, 1]               0\n",
      "           Conv2d-35            [-1, 256, 1, 1]         294,912\n",
      "      BatchNorm2d-36            [-1, 256, 1, 1]             512\n",
      "             ReLU-37            [-1, 256, 1, 1]               0\n",
      "           Conv2d-38            [-1, 256, 1, 1]         589,824\n",
      "      BatchNorm2d-39            [-1, 256, 1, 1]             512\n",
      "           Conv2d-40            [-1, 256, 1, 1]          32,768\n",
      "      BatchNorm2d-41            [-1, 256, 1, 1]             512\n",
      "             ReLU-42            [-1, 256, 1, 1]               0\n",
      "       BasicBlock-43            [-1, 256, 1, 1]               0\n",
      "           Conv2d-44            [-1, 256, 1, 1]         589,824\n",
      "      BatchNorm2d-45            [-1, 256, 1, 1]             512\n",
      "             ReLU-46            [-1, 256, 1, 1]               0\n",
      "           Conv2d-47            [-1, 256, 1, 1]         589,824\n",
      "      BatchNorm2d-48            [-1, 256, 1, 1]             512\n",
      "             ReLU-49            [-1, 256, 1, 1]               0\n",
      "       BasicBlock-50            [-1, 256, 1, 1]               0\n",
      "           Conv2d-51            [-1, 512, 1, 1]       1,179,648\n",
      "      BatchNorm2d-52            [-1, 512, 1, 1]           1,024\n",
      "             ReLU-53            [-1, 512, 1, 1]               0\n",
      "           Conv2d-54            [-1, 512, 1, 1]       2,359,296\n",
      "      BatchNorm2d-55            [-1, 512, 1, 1]           1,024\n",
      "           Conv2d-56            [-1, 512, 1, 1]         131,072\n",
      "      BatchNorm2d-57            [-1, 512, 1, 1]           1,024\n",
      "             ReLU-58            [-1, 512, 1, 1]               0\n",
      "       BasicBlock-59            [-1, 512, 1, 1]               0\n",
      "           Conv2d-60            [-1, 512, 1, 1]       2,359,296\n",
      "      BatchNorm2d-61            [-1, 512, 1, 1]           1,024\n",
      "             ReLU-62            [-1, 512, 1, 1]               0\n",
      "           Conv2d-63            [-1, 512, 1, 1]       2,359,296\n",
      "      BatchNorm2d-64            [-1, 512, 1, 1]           1,024\n",
      "             ReLU-65            [-1, 512, 1, 1]               0\n",
      "       BasicBlock-66            [-1, 512, 1, 1]               0\n",
      "AdaptiveAvgPool2d-67            [-1, 512, 1, 1]               0\n",
      "           Linear-68                   [-1, 10]           5,130\n",
      "================================================================\n",
      "Total params: 11,175,370\n",
      "Trainable params: 11,175,370\n",
      "Non-trainable params: 0\n",
      "----------------------------------------------------------------\n",
      "Input size (MB): 0.00\n",
      "Forward/backward pass size (MB): 0.17\n",
      "Params size (MB): 42.63\n",
      "Estimated Total Size (MB): 42.80\n",
      "----------------------------------------------------------------\n"
     ]
    }
   ],
   "source": [
    "# get the model summary\n",
    "from torchsummary import summary\n",
    "summary(resnet18_pretrained.to(device=device), input_size=(1, 7, 7), device=device.type)"
   ]
  },
  {
   "cell_type": "markdown",
   "metadata": {},
   "source": [
    "## 첫 번째 레이어의 가중치를 시각화하여 확인해보겠습니다."
   ]
  },
  {
   "cell_type": "code",
   "execution_count": 25,
   "metadata": {},
   "outputs": [
    {
     "name": "stdout",
     "output_type": "stream",
     "text": [
      "torch.Size([64, 1, 7, 7])\n"
     ]
    }
   ],
   "source": [
    "import torchvision\n",
    "import matplotlib.pyplot as plt\n",
    "\n",
    "# visualize the filters of the first CNN layer\n",
    "for w in resnet18_pretrained.parameters():\n",
    "    w = w.data.cpu()\n",
    "    print(w.shape)\n",
    "    break\n",
    "\n",
    "# normalize weights\n",
    "min_w = torch.min(w)\n",
    "w1 = (-1/(2 * min_w)) * w + 0.5\n",
    "\n",
    "# make grid to display it\n",
    "grid_size = len(w1)\n",
    "x_grid = [w1[i] for i in range(grid_size)]\n",
    "x_grid = torchvision.utils.make_grid(x_grid, nrow=8, padding=1) # padding이 있어서 65된 것 같음.\n",
    "\n",
    "########### img show, x_grid의 size문제가 아님. show라는 모듈이 따로 없는 것이 문제임.\n",
    "## 아래서 show 함수 찾아다 실행하고 나면 img 시각화 원하는대호 가능."
   ]
  },
  {
   "cell_type": "markdown",
   "metadata": {},
   "source": [
    "## 원했던 img 시각화\n",
    "[show 함수 참고](https://pytorch.org/vision/stable/auto_examples/plot_visualization_utils.html)"
   ]
  },
  {
   "cell_type": "code",
   "execution_count": 26,
   "metadata": {},
   "outputs": [],
   "source": [
    "import torch\n",
    "import numpy as np\n",
    "import matplotlib.pyplot as plt\n",
    "\n",
    "import torchvision.transforms.functional as F\n",
    "\n",
    "\n",
    "plt.rcParams[\"savefig.bbox\"] = 'tight'\n",
    "# plt.figure(figsize=(100, 100))\n",
    "\n",
    "def show(imgs):\n",
    "    if not isinstance(imgs, list):\n",
    "        imgs = [imgs]\n",
    "    \n",
    "    fig, axs = plt.subplots(ncols=len(imgs), squeeze=False)\n",
    "    for i, img in enumerate(imgs):\n",
    "        img = img.detach()\n",
    "        img = F.to_pil_image(img)\n",
    "        _ = axs[0, i].imshow(np.asarray(img))\n",
    "        _ = axs[0, i].set(xticklabels=[], yticklabels=[], xticks=[], yticks=[])\n",
    "#     plt.savefig('test.png', dpi = 200)"
   ]
  },
  {
   "cell_type": "code",
   "execution_count": 27,
   "metadata": {},
   "outputs": [
    {
     "data": {
      "image/png": "[encoded data removed]",
      "text/plain": [
       "<Figure size 432x288 with 1 Axes>"
      ]
     },
     "metadata": {},
     "output_type": "display_data"
    }
   ],
   "source": [
    "show(x_grid)"
   ]
  },
  {
   "cell_type": "markdown",
   "metadata": {},
   "source": [
    "## 이 아래 cell 시각화를 원한게 아님. 모든 채널에 대한 시각화를 원한 것임."
   ]
  },
  {
   "cell_type": "code",
   "execution_count": 28,
   "metadata": {},
   "outputs": [
    {
     "data": {
      "text/plain": [
       "3"
      ]
     },
     "execution_count": 28,
     "metadata": {},
     "output_type": "execute_result"
    },
    {
     "data": {
      "text/plain": [
       "'imshow 안에 들어갈 data shape:(65, 65)'"
      ]
     },
     "execution_count": 28,
     "metadata": {},
     "output_type": "execute_result"
    },
    {
     "data": {
      "image/png": "[encoded data removed]",
      "text/plain": [
       "<Figure size 720x720 with 1 Axes>"
      ]
     },
     "metadata": {
      "needs_background": "light"
     },
     "output_type": "display_data"
    }
   ],
   "source": [
    "import numpy as np\n",
    "_ = plt.figure(figsize=(10, 10))\n",
    "x_grid.shape[0]\n",
    "img = np.asarray(x_grid[0]).squeeze() # np.asarray(x_grid[0].cpu().detach()) # 이것도 같음.\n",
    "\n",
    "f'imshow 안에 들어갈 data shape:{img.shape}'\n",
    "_ = plt.imshow(img)"
   ]
  },
  {
   "cell_type": "markdown",
   "metadata": {},
   "source": [
    "## 하이퍼파라미터 튜닝"
   ]
  },
  {
   "cell_type": "code",
   "execution_count": 29,
   "metadata": {},
   "outputs": [],
   "source": [
    "CFG = {\n",
    "    'IMG_SIZE':28, #이미지 사이즈\n",
    "    'EPOCHS':50, #에포크\n",
    "    'LEARNING_RATE':1e-5, #학습률\n",
    "    'BATCH_SIZE':32, #배치사이즈\n",
    "    'SEED':41, #시드\n",
    "}"
   ]
  },
  {
   "cell_type": "markdown",
   "metadata": {},
   "source": [
    "## loss function, optimizer 정의"
   ]
  },
  {
   "cell_type": "code",
   "execution_count": 31,
   "metadata": {},
   "outputs": [],
   "source": [
    "model = resnet18_pretrained.to(device=device)\n",
    "criterion = torch.nn.CrossEntropyLoss().to(device) \n",
    "optimizer = torch.optim.Adam(model.parameters(), lr=CFG['LEARNING_RATE'])"
   ]
  },
  {
   "cell_type": "code",
   "execution_count": 32,
   "metadata": {},
   "outputs": [
    {
     "name": "stdout",
     "output_type": "stream",
     "text": [
      "총 배치의 수 : 235\n"
     ]
    }
   ],
   "source": [
    "total_batch = len(train_loader)\n",
    "print('총 배치의 수 : {}'.format(total_batch))"
   ]
  },
  {
   "cell_type": "markdown",
   "metadata": {},
   "source": [
    "## train validation 따로 하는 ver"
   ]
  },
  {
   "cell_type": "code",
   "execution_count": 33,
   "metadata": {},
   "outputs": [
    {
     "name": "stdout",
     "output_type": "stream",
     "text": [
      "[Epoch:    1] cost = 2.02064109\n",
      "[Epoch:    2] cost = 1.23543751\n",
      "[Epoch:    3] cost = 0.853463829\n",
      "[Epoch:    4] cost = 0.634583473\n",
      "[Epoch:    5] cost = 0.498769343\n",
      "[Epoch:    6] cost = 0.399092764\n",
      "[Epoch:    7] cost = 0.337913841\n",
      "[Epoch:    8] cost = 0.282703102\n",
      "[Epoch:    9] cost = 0.23869884\n",
      "[Epoch:   10] cost = 0.222204894\n",
      "[Epoch:   11] cost = 0.182668045\n",
      "[Epoch:   12] cost = 0.154571846\n",
      "[Epoch:   13] cost = 0.139870703\n",
      "[Epoch:   14] cost = 0.119070441\n",
      "[Epoch:   15] cost = 0.105810717\n",
      "[Epoch:   16] cost = 0.0933045447\n",
      "[Epoch:   17] cost = 0.0852235183\n",
      "[Epoch:   18] cost = 0.0693085864\n",
      "[Epoch:   19] cost = 0.0648128763\n",
      "[Epoch:   20] cost = 0.0601171181\n",
      "[Epoch:   21] cost = 0.0525147207\n",
      "[Epoch:   22] cost = 0.0513720624\n",
      "[Epoch:   23] cost = 0.0458897874\n",
      "[Epoch:   24] cost = 0.03714123\n",
      "[Epoch:   25] cost = 0.0359920226\n",
      "[Epoch:   26] cost = 0.0359422714\n",
      "[Epoch:   27] cost = 0.0295815952\n",
      "[Epoch:   28] cost = 0.0334782191\n",
      "[Epoch:   29] cost = 0.0255688652\n",
      "[Epoch:   30] cost = 0.0255137794\n",
      "[Epoch:   31] cost = 0.024716299\n",
      "[Epoch:   32] cost = 0.0238655321\n",
      "[Epoch:   33] cost = 0.02400898\n",
      "[Epoch:   34] cost = 0.01967787\n",
      "[Epoch:   35] cost = 0.0207044054\n",
      "[Epoch:   36] cost = 0.0220959783\n",
      "[Epoch:   37] cost = 0.0187941957\n",
      "[Epoch:   38] cost = 0.0200977046\n",
      "[Epoch:   39] cost = 0.0177245457\n",
      "[Epoch:   40] cost = 0.0183396302\n",
      "[Epoch:   41] cost = 0.0126417782\n",
      "[Epoch:   42] cost = 0.0126849189\n",
      "[Epoch:   43] cost = 0.0117933527\n",
      "[Epoch:   44] cost = 0.0124864103\n",
      "[Epoch:   45] cost = 0.0122517664\n",
      "[Epoch:   46] cost = 0.0106793996\n",
      "[Epoch:   47] cost = 0.00980873033\n",
      "[Epoch:   48] cost = 0.0111225881\n",
      "[Epoch:   49] cost = 0.0113590416\n",
      "[Epoch:   50] cost = 0.00996456482\n"
     ]
    }
   ],
   "source": [
    "losses = []\n",
    "for epoch in range(CFG['EPOCHS']):\n",
    "    avg_cost = 0\n",
    "\n",
    "    for X, Y in train_loader: # 미니 배치 단위로 꺼내온다. X는 미니 배치, Y느 ㄴ레이블.\n",
    "        # image is already size of (28x28), no reshape\n",
    "        # label is not one-hot encoded\n",
    "        X = X.to(device)\n",
    "        Y = Y.to(device)\n",
    "\n",
    "        optimizer.zero_grad()\n",
    "        hypothesis = model(X)\n",
    "        cost = criterion(hypothesis, Y) # loss\n",
    "        cost.backward()\n",
    "        optimizer.step()\n",
    "\n",
    "        avg_cost += cost / total_batch\n",
    "    loss = avg_cost / len(train_loader)\n",
    "    losses.append(loss)\n",
    "\n",
    "    print('[Epoch: {:>4}] cost = {:>.9}'.format(epoch + 1, avg_cost))"
   ]
  },
  {
   "cell_type": "code",
   "execution_count": 34,
   "metadata": {},
   "outputs": [
    {
     "data": {
      "image/png": "[encoded data removed]",
      "text/plain": [
       "<Figure size 1008x432 with 1 Axes>"
      ]
     },
     "metadata": {
      "needs_background": "light"
     },
     "output_type": "display_data"
    }
   ],
   "source": [
    "# 전체 loss 에 대한 변화량 시각화\n",
    "_ = plt.figure(figsize=(14, 6))\n",
    "_ = plt.plot(losses[:100], c='darkviolet', linestyle=':')\n",
    "\n",
    "_ = plt.title('Losses over epoches', fontsize=15)\n",
    "_ = plt.xlabel('Epochs')\n",
    "_ = plt.ylabel('Error')\n",
    "_ = plt.show()\n",
    "\n",
    "# loss는 확 줄어들어서 바닥으로 수렴하는게 아름다운 모습임"
   ]
  },
  {
   "cell_type": "markdown",
   "metadata": {},
   "source": [
    "## validation set score 확인"
   ]
  },
  {
   "cell_type": "code",
   "execution_count": 35,
   "metadata": {},
   "outputs": [
    {
     "name": "stdout",
     "output_type": "stream",
     "text": [
      "Accuracy: 0.9391999840736389\n"
     ]
    }
   ],
   "source": [
    "with torch.no_grad():\n",
    "    X_test = torch.tensor(val_dt.reshape(len(val_dt), 1, 28, 28)).float().to(device)\n",
    "    Y_test = torch.tensor(val_lb).to(device)\n",
    "\n",
    "    prediction = model(X_test)\n",
    "    correct_prediction = torch.argmax(prediction, 1) == Y_test\n",
    "    accuracy = correct_prediction.float().mean()\n",
    "    print('Accuracy:', accuracy.item())\n",
    "\n",
    "## 따로 ver\n",
    "# 0.9391999840736389\n",
    "\n",
    "## 같이 ver\n"
   ]
  },
  {
   "cell_type": "markdown",
   "metadata": {},
   "source": [
    "## test set score 확인"
   ]
  },
  {
   "cell_type": "code",
   "execution_count": 36,
   "metadata": {},
   "outputs": [
    {
     "name": "stdout",
     "output_type": "stream",
     "text": [
      "Accuracy: 0.9506999850273132\n"
     ]
    }
   ],
   "source": [
    "with torch.no_grad():\n",
    "    X_test = torch.tensor(test_data.reshape(len(test_data), 1, 28, 28)).float().to(device)\n",
    "    Y_test = torch.tensor(test_labels).to(device)\n",
    "\n",
    "    prediction = model(X_test)\n",
    "    correct_prediction = torch.argmax(prediction, 1) == Y_test\n",
    "    accuracy = correct_prediction.float().mean()\n",
    "    print('Accuracy:', accuracy.item())\n",
    "\n",
    "## 따로 ver\n",
    "# 0.9506999850273132\n",
    "\n",
    "## 같이 ver\n"
   ]
  },
  {
   "cell_type": "code",
   "execution_count": null,
   "metadata": {},
   "outputs": [],
   "source": []
  }
 ],
 "metadata": {
  "kernelspec": {
   "display_name": "geonu",
   "language": "python",
   "name": "geonu"
  },
  "language_info": {
   "codemirror_mode": {
    "name": "ipython",
    "version": 3
   },
   "file_extension": ".py",
   "mimetype": "text/x-python",
   "name": "python",
   "nbconvert_exporter": "python",
   "pygments_lexer": "ipython3",
   "version": "3.8.11"
  }
 },
 "nbformat": 4,
 "nbformat_minor": 4
}
