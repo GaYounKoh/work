{
 "cells": [
  {
   "cell_type": "markdown",
   "metadata": {},
   "source": [
    "- 2nd try 코드 중 customdataset 클래스에서 flatten 부분 하지 않고 손수 다운로드한 데이터 이용\n",
    "- 7th try model 적용\n",
    "- 4th try의 train loss 시각화 가져옴. 시각화 위해 7th try의 train 부분 수정\n",
    "\n",
    "[model 참고](https://velog.io/@y30n9ju1v/Pytorch-%EA%B0%84%EB%8B%A8%ED%95%9C-CNN%EC%9C%BC%EB%A1%9C-MNIST-%EB%B6%84%EB%A5%98%ED%95%98%EA%B8%B0)"
   ]
  },
  {
   "cell_type": "markdown",
   "metadata": {},
   "source": [
    "## Library import"
   ]
  },
  {
   "cell_type": "code",
   "execution_count": 1,
   "metadata": {},
   "outputs": [],
   "source": [
    "import os\n",
    "import struct\n",
    "import numpy as np\n",
    "import matplotlib.pyplot as plt\n",
    "\n",
    "import gzip\n",
    "from IPython.core.interactiveshell import InteractiveShell\n",
    "InteractiveShell.ast_node_interactivity = \"all\""
   ]
  },
  {
   "cell_type": "markdown",
   "metadata": {},
   "source": [
    "## 이미지 추출, 이미지 출력, 라벨 list 생성 함수\n",
    "[함수 인자 입력 순서](https://naon.me/posts/til18)"
   ]
  },
  {
   "cell_type": "code",
   "execution_count": 2,
   "metadata": {},
   "outputs": [],
   "source": [
    "def extract_imgs(n, train = True):\n",
    "    if train:\n",
    "        imgs = gzip.open(\"train-images-idx3-ubyte.gz\", 'r')\n",
    "    else:\n",
    "        imgs = gzip.open(\"t10k-images-idx3-ubyte.gz\", 'r')\n",
    "    \n",
    "    img_size = 28\n",
    "    num_imgs = n\n",
    "    \n",
    "    imgs.read(16) # 꼭 있어야 하는 코드였다. 출력을 위한게 아니었음.\n",
    "    \n",
    "    buf = imgs.read(img_size * img_size * num_imgs)\n",
    "    data = np.frombuffer(buf, dtype = np.uint8).astype(np.float32)\n",
    "    data = data.reshape(num_imgs, img_size, img_size, 1)\n",
    "    \n",
    "    return data\n",
    "\n",
    "def print_imgs(data, idx):\n",
    "    img = np.asarray(data[idx]).squeeze()\n",
    "    plt.imshow(img)\n",
    "    plt.show()\n",
    "\n",
    "def label_li(fin, train = True):\n",
    "    li = []\n",
    "    \n",
    "    if train:\n",
    "        labels = gzip.open(\"train-labels-idx1-ubyte.gz\", 'r')\n",
    "    else:\n",
    "        labels = gzip.open(\"t10k-labels-idx1-ubyte.gz\", 'r')\n",
    "    \n",
    "    labels.read(8) # 꼭 있어야 하는 코드였다. 출력을 위한게 아니었음.\n",
    "    \n",
    "    for i in range(0, fin): # start 늘린 수 만큼 뒤쪽 출력이 안됨.\n",
    "        buf = labels.read(1)\n",
    "        label = np.frombuffer(buf, dtype = np.uint8).astype(np.int64)\n",
    "        li.extend(list(label))\n",
    "        \n",
    "    return li"
   ]
  },
  {
   "cell_type": "markdown",
   "metadata": {},
   "source": [
    "## 환경설정"
   ]
  },
  {
   "cell_type": "code",
   "execution_count": null,
   "metadata": {},
   "outputs": [],
   "source": [
    "import torch\n",
    "import torch.nn as nn\n",
    "os.environ['TOKENIZERS_PARALLELISM'] = 'false'\n",
    "os.environ['CUDA_DEVICE_ORDER'] = 'PCI_BUS_ID' # Arrange GPU devices starting from 0\n",
    "os.environ['CUDA_VISIBLE_DEVICES'] = '2' # Set the GPU 2 to use\n",
    "# 멀티 gpu 시스템은 하나의 GPU에서 코드가 실행되게 프로그래밍을 해도 모든 GPU에 메모리를 할당함.\n",
    "# 따라서 2번 gpu만 사용하도록 코드를 짜 준 것.\n",
    "## 돌아가는 것 확인 함.\n",
    "\n",
    "device = torch.device('cuda') if torch.cuda.is_available() else torch.device('cpu')"
   ]
  },
  {
   "cell_type": "code",
   "execution_count": null,
   "metadata": {},
   "outputs": [],
   "source": [
    "#GPU 체크 및 할당\n",
    "if torch.cuda.is_available():    \n",
    "    #device = torch.device(\"cuda:0\")\n",
    "    print('Device:', device)\n",
    "    print('Current cuda device:', torch.cuda.current_device()) # 현재 cuda가 사용할 GPU\n",
    "    print('There are %d GPU(s) available.' % torch.cuda.device_count())\n",
    "    print('We will use the GPU:', torch.cuda.get_device_name(0))\n",
    "else:\n",
    "    device = torch.device(\"cpu\")\n",
    "    print('No GPU available, using the CPU instead.')"
   ]
  },
  {
   "cell_type": "markdown",
   "metadata": {},
   "source": [
    "## 하이퍼파라미터 튜닝"
   ]
  },
  {
   "cell_type": "code",
   "execution_count": null,
   "metadata": {},
   "outputs": [],
   "source": [
    "CFG = {\n",
    "    'IMG_SIZE':28, #이미지 사이즈\n",
    "    'EPOCHS':50, #에포크\n",
    "    'LEARNING_RATE':1e-5, #학습률\n",
    "    'BATCH_SIZE':32, #배치사이즈\n",
    "    'SEED':41, #시드\n",
    "}"
   ]
  },
  {
   "cell_type": "markdown",
   "metadata": {},
   "source": [
    "### 모델의 재현성을 위한 random seed 고정"
   ]
  },
  {
   "cell_type": "code",
   "execution_count": null,
   "metadata": {},
   "outputs": [],
   "source": [
    "# Seed 고정\n",
    "import random\n",
    "import numpy as np\n",
    "\n",
    "def seed_everything(seed):\n",
    "    random.seed(seed)\n",
    "    os.environ['PYTHONHASHSEED'] = str(seed)\n",
    "    np.random.seed(seed)\n",
    "    torch.manual_seed(seed) # 랜덤시드 고정\n",
    "    torch.cuda.manual_seed(seed) # gpu 사용할 경우 랜덤시드 고정\n",
    "    torch.backends.cudnn.deterministic = True\n",
    "    torch.backends.cudnn.benchmark = True\n",
    "    \n",
    "seed_everything(CFG['SEED'])"
   ]
  },
  {
   "cell_type": "code",
   "execution_count": null,
   "metadata": {},
   "outputs": [],
   "source": [
    "numdat = 10000\n",
    "data = extract_imgs(numdat)\n",
    "labels = label_li(numdat)"
   ]
  },
  {
   "cell_type": "markdown",
   "metadata": {},
   "source": [
    "## train/val split"
   ]
  },
  {
   "cell_type": "code",
   "execution_count": 8,
   "metadata": {},
   "outputs": [
    {
     "name": "stdout",
     "output_type": "stream",
     "text": [
      "train set 길이 :  7500\n",
      "vaildation set 길이 :  2500\n"
     ]
    }
   ],
   "source": [
    "train_len = int(len(data)*0.75)\n",
    "val_len = int(len(data)*0.25)\n",
    "\n",
    "# train_data = data[:train_len]\n",
    "# train_label = labels[:train_len]\n",
    "\n",
    "# val_data = data[train_len:]\n",
    "# val_label = labels[train_len:]\n",
    "\n",
    "print('train set 길이 : ', train_len)\n",
    "print('vaildation set 길이 : ', val_len)"
   ]
  },
  {
   "cell_type": "markdown",
   "metadata": {},
   "source": [
    "## validation set"
   ]
  },
  {
   "cell_type": "code",
   "execution_count": 9,
   "metadata": {},
   "outputs": [],
   "source": [
    "val_dt = data[train_len:]\n",
    "val_lb = labels[train_len:]"
   ]
  },
  {
   "cell_type": "code",
   "execution_count": 10,
   "metadata": {},
   "outputs": [
    {
     "data": {
      "text/plain": [
       "torch.Size([2500, 1, 28, 28])"
      ]
     },
     "execution_count": 10,
     "metadata": {},
     "output_type": "execute_result"
    },
    {
     "data": {
      "text/plain": [
       "tensor([2, 3, 4,  ..., 6, 9, 7])"
      ]
     },
     "execution_count": 10,
     "metadata": {},
     "output_type": "execute_result"
    }
   ],
   "source": [
    "## test cell\n",
    "torch.tensor(val_dt.reshape(len(val_dt), 1, 28, 28)).float().shape\n",
    "\n",
    "torch.tensor(val_lb)"
   ]
  },
  {
   "cell_type": "markdown",
   "metadata": {},
   "source": [
    "## test set"
   ]
  },
  {
   "cell_type": "code",
   "execution_count": 24,
   "metadata": {},
   "outputs": [],
   "source": [
    "numdat = 10000\n",
    "test_data = extract_imgs(numdat, train = False)\n",
    "test_labels = label_li(numdat, train = False)"
   ]
  },
  {
   "cell_type": "code",
   "execution_count": 11,
   "metadata": {},
   "outputs": [],
   "source": [
    "# data"
   ]
  },
  {
   "cell_type": "markdown",
   "metadata": {},
   "source": [
    "## Custom Dataset"
   ]
  },
  {
   "cell_type": "code",
   "execution_count": 12,
   "metadata": {},
   "outputs": [],
   "source": [
    "from torchvision import datasets as datasets # 이미지 데이터셋 집합체\n",
    "import torchvision.transforms as transforms # 이미지 변환 툴\n",
    "\n",
    "from torch.utils.data import DataLoader # 학습 및 배치로 모델에 넣어주기 위한 툴\n",
    "from torch.utils.data import DataLoader, Dataset\n",
    "\n",
    "import cv2\n",
    "\n",
    "class CustomDataset(Dataset):\n",
    "    def __init__(self, img_list, label_list, train_mode = True, transforms = None): # 필요한 변수들을 선언\n",
    "        self.transforms = transforms\n",
    "        self.train_mode = train_mode\n",
    "        self.img_list = img_list\n",
    "        self.label_list = label_list\n",
    "    \n",
    "    def __getitem__(self, index): # index번째 data를 return\n",
    "        img = self.img_list[index]\n",
    "        img = np.asarray(data[index]).squeeze() # 추가해준 처리\n",
    "        ## Get image data\n",
    "#         print(img_path)\n",
    "#         image = cv2.imread(img) # 이미 읽어온 이미지라서 이 코드 필요 없음.\n",
    "#         print(image) # numpy 배열\n",
    "        \n",
    "        if self.transforms is not None:\n",
    "            img = self.transforms(img)\n",
    "            #flattened_img = img.flatten().float() # 2차원 이미지를 1차원으로 변환\n",
    "        \n",
    "        if self.train_mode:\n",
    "            label = self.label_list[index]\n",
    "            return img, label\n",
    "        else:\n",
    "            return img\n",
    "        \n",
    "    def __len__(self): # 길이 return\n",
    "        return len(self.img_list)"
   ]
  },
  {
   "cell_type": "markdown",
   "metadata": {},
   "source": [
    "## transform"
   ]
  },
  {
   "cell_type": "code",
   "execution_count": 13,
   "metadata": {},
   "outputs": [],
   "source": [
    "train_transform = transforms.Compose([\n",
    "    transforms.ToPILImage(), # Numpy arr에서 PIL 이미지로\n",
    "#     transforms.Resize([CFG['IMG_SIZE'], CFG['IMG_SIZE']]), # 이미지 사이즈 변형\n",
    "    transforms.ToTensor()#, # 이미지 데이터를 tensor로\n",
    "#     transforms.Normalize(mean = (0.5,), std = (0.5,)) # 이미지 정규화 (원소 3개짜리는 색이 있는 이미지일 경우에만, MNIST는 색 없는 이미지이므로 사용하지 않음.)\n",
    "])\n",
    "\n",
    "test_transform = transforms.Compose([\n",
    "    transforms.ToPILImage(),\n",
    "#     transforms.Resize([CFG['IMG_SIZE'], CFG['IMG_SIZE']]), # size 다 동일하므로 resize는 필요 없음\n",
    "    transforms.ToTensor()#,\n",
    "#     transforms.Normalize(mean = (0.5,), std = (0.5,)) ## 채널 별 정규화 (원소 3개짜리는 색이 있는 이미지일 경우에만, MNIST는 색 없는 이미지이므로 사용하지 않음.)\n",
    "])"
   ]
  },
  {
   "cell_type": "code",
   "execution_count": 14,
   "metadata": {},
   "outputs": [],
   "source": [
    "# image = Image.open(self.file_path_list[idx]) # 해당 인덱스에 맞는 image 추출\n",
    "#         tensor_image = self.PIL2tensor(image) # PIL로 읽은 이미지를 torch tensor형으로 변환\n",
    "#         flattened_image = tensor_image.flatten().float()"
   ]
  },
  {
   "cell_type": "markdown",
   "metadata": {},
   "source": [
    "## dataloader"
   ]
  },
  {
   "cell_type": "code",
   "execution_count": 15,
   "metadata": {},
   "outputs": [],
   "source": [
    "## CustomDataset class를 통하여 train dataset생성\n",
    "train_dataset = CustomDataset(data[:train_len], labels[:train_len], train_mode = True, transforms = train_transform)\n",
    "## 만든 train dataset을 DataLoader에 넣어 batch 만들기\n",
    "train_loader = DataLoader(train_dataset, batch_size = CFG['BATCH_SIZE'], shuffle = True, num_workers = 0)\n",
    "\n",
    "## validation에서도 적용\n",
    "val_dataset = CustomDataset(data[train_len:], labels[train_len:], train_mode = True, transforms = test_transform)\n",
    "val_loader = DataLoader(val_dataset, batch_size = CFG['BATCH_SIZE'], shuffle = True, num_workers = 0)"
   ]
  },
  {
   "cell_type": "code",
   "execution_count": 16,
   "metadata": {},
   "outputs": [
    {
     "data": {
      "text/plain": [
       "torch.Size([1, 28, 28])"
      ]
     },
     "execution_count": 16,
     "metadata": {},
     "output_type": "execute_result"
    }
   ],
   "source": [
    "list(train_dataset)[0][0].shape\n",
    "## mnist_data 코드로 불러왔을 때처럼의 형태를 띠어야함.\n",
    "## 그 형태: torch.Size([1, 28, 28])"
   ]
  },
  {
   "cell_type": "code",
   "execution_count": 17,
   "metadata": {},
   "outputs": [],
   "source": [
    "class CNN(torch.nn.Module):\n",
    "    def __init__(self):\n",
    "        super().__init__()\n",
    "        # 첫번째층\n",
    "        # ImgIn shape=(?, 28, 28, 1)\n",
    "        #    Conv     -> (?, 28, 28, 32)\n",
    "        #    Pool     -> (?, 14, 14, 32)\n",
    "        self.layer1 = torch.nn.Sequential(\n",
    "            torch.nn.Conv2d(1, 32, kernel_size=3, stride=1, padding=1),\n",
    "            torch.nn.ReLU(),\n",
    "            torch.nn.MaxPool2d(kernel_size=2, stride=2))\n",
    "\n",
    "        # 두번째층\n",
    "        # ImgIn shape=(?, 14, 14, 32)\n",
    "        #    Conv      ->(?, 14, 14, 64)\n",
    "        #    Pool      ->(?, 7, 7, 64)\n",
    "        self.layer2 = torch.nn.Sequential(\n",
    "            torch.nn.Conv2d(32, 64, kernel_size=3, stride=1, padding=1),\n",
    "            torch.nn.ReLU(),\n",
    "            torch.nn.MaxPool2d(kernel_size=2, stride=2))\n",
    "\n",
    "        # 전결합층 7x7x64 inputs -> 10 outputs\n",
    "        self.fc = torch.nn.Linear(7 * 7 * 64, 10, bias=True)\n",
    "\n",
    "    def forward(self, x):\n",
    "        out = self.layer1(x)\n",
    "        out = self.layer2(out)\n",
    "        out = torch.nn.Flatten()(out)   # 전결합층을 위해서 Flatten\n",
    "        out = self.fc(out)\n",
    "        return out"
   ]
  },
  {
   "cell_type": "code",
   "execution_count": 18,
   "metadata": {},
   "outputs": [],
   "source": [
    "model = CNN().to(device)"
   ]
  },
  {
   "cell_type": "code",
   "execution_count": 19,
   "metadata": {},
   "outputs": [],
   "source": [
    "criterion = torch.nn.CrossEntropyLoss().to(device) \n",
    "optimizer = torch.optim.Adam(model.parameters(), lr=CFG['LEARNING_RATE'])"
   ]
  },
  {
   "cell_type": "code",
   "execution_count": 20,
   "metadata": {},
   "outputs": [
    {
     "name": "stdout",
     "output_type": "stream",
     "text": [
      "총 배치의 수 : 235\n"
     ]
    }
   ],
   "source": [
    "total_batch = len(train_loader)\n",
    "print('총 배치의 수 : {}'.format(total_batch))"
   ]
  },
  {
   "cell_type": "markdown",
   "metadata": {},
   "source": [
    "## train validation 따로 하는 ver"
   ]
  },
  {
   "cell_type": "code",
   "execution_count": 21,
   "metadata": {},
   "outputs": [
    {
     "name": "stdout",
     "output_type": "stream",
     "text": [
      "[Epoch:    1] cost = 7.39387369\n",
      "[Epoch:    2] cost = 1.96230304\n",
      "[Epoch:    3] cost = 1.15734911\n",
      "[Epoch:    4] cost = 0.847706914\n",
      "[Epoch:    5] cost = 0.67537725\n",
      "[Epoch:    6] cost = 0.563955665\n",
      "[Epoch:    7] cost = 0.478966117\n",
      "[Epoch:    8] cost = 0.414189011\n",
      "[Epoch:    9] cost = 0.368158251\n",
      "[Epoch:   10] cost = 0.331255913\n",
      "[Epoch:   11] cost = 0.28976649\n",
      "[Epoch:   12] cost = 0.2582663\n",
      "[Epoch:   13] cost = 0.234681949\n",
      "[Epoch:   14] cost = 0.209993809\n",
      "[Epoch:   15] cost = 0.190467447\n",
      "[Epoch:   16] cost = 0.173331067\n",
      "[Epoch:   17] cost = 0.158624485\n",
      "[Epoch:   18] cost = 0.142819315\n",
      "[Epoch:   19] cost = 0.127406925\n",
      "[Epoch:   20] cost = 0.116760395\n",
      "[Epoch:   21] cost = 0.107676312\n",
      "[Epoch:   22] cost = 0.0950865597\n",
      "[Epoch:   23] cost = 0.0877685547\n",
      "[Epoch:   24] cost = 0.0815289915\n",
      "[Epoch:   25] cost = 0.0745678991\n",
      "[Epoch:   26] cost = 0.064412497\n",
      "[Epoch:   27] cost = 0.0573665723\n",
      "[Epoch:   28] cost = 0.0529576391\n",
      "[Epoch:   29] cost = 0.0487301648\n",
      "[Epoch:   30] cost = 0.0430601984\n",
      "[Epoch:   31] cost = 0.0368804298\n",
      "[Epoch:   32] cost = 0.0340260491\n",
      "[Epoch:   33] cost = 0.029652616\n",
      "[Epoch:   34] cost = 0.0274175145\n",
      "[Epoch:   35] cost = 0.0242388863\n",
      "[Epoch:   36] cost = 0.0216692388\n",
      "[Epoch:   37] cost = 0.0195253715\n",
      "[Epoch:   38] cost = 0.0161498412\n",
      "[Epoch:   39] cost = 0.015315841\n",
      "[Epoch:   40] cost = 0.0129441526\n",
      "[Epoch:   41] cost = 0.0119368555\n",
      "[Epoch:   42] cost = 0.0113233421\n",
      "[Epoch:   43] cost = 0.00840749778\n",
      "[Epoch:   44] cost = 0.0080211265\n",
      "[Epoch:   45] cost = 0.00700939912\n",
      "[Epoch:   46] cost = 0.00622536009\n",
      "[Epoch:   47] cost = 0.00553885195\n",
      "[Epoch:   48] cost = 0.00483855279\n",
      "[Epoch:   49] cost = 0.00475075142\n",
      "[Epoch:   50] cost = 0.00408665091\n"
     ]
    }
   ],
   "source": [
    "losses = []\n",
    "for epoch in range(CFG['EPOCHS']):\n",
    "    avg_cost = 0\n",
    "\n",
    "    for X, Y in train_loader: # 미니 배치 단위로 꺼내온다. X는 미니 배치, Y느 ㄴ레이블.\n",
    "        # image is already size of (28x28), no reshape\n",
    "        # label is not one-hot encoded\n",
    "        X = X.to(device)\n",
    "        Y = Y.to(device)\n",
    "\n",
    "        optimizer.zero_grad()\n",
    "        hypothesis = model(X)\n",
    "        cost = criterion(hypothesis, Y) # loss\n",
    "        cost.backward()\n",
    "        optimizer.step()\n",
    "\n",
    "        avg_cost += cost / total_batch\n",
    "    loss = avg_cost / len(train_loader)\n",
    "    losses.append(loss)\n",
    "\n",
    "    print('[Epoch: {:>4}] cost = {:>.9}'.format(epoch + 1, avg_cost))"
   ]
  },
  {
   "cell_type": "code",
   "execution_count": 22,
   "metadata": {},
   "outputs": [
    {
     "data": {
      "image/png": "[encoded data removed]",
      "text/plain": [
       "<Figure size 1008x432 with 1 Axes>"
      ]
     },
     "metadata": {
      "needs_background": "light"
     },
     "output_type": "display_data"
    }
   ],
   "source": [
    "# 전체 loss 에 대한 변화량 시각화\n",
    "_ = plt.figure(figsize=(14, 6))\n",
    "_ = plt.plot(losses[:100], c='darkviolet', linestyle=':')\n",
    "\n",
    "_ = plt.title('Losses over epoches', fontsize=15)\n",
    "_ = plt.xlabel('Epochs')\n",
    "_ = plt.ylabel('Error')\n",
    "_ = plt.show()\n",
    "\n",
    "# loss는 확 줄어들어서 바닥으로 수렴하는게 아름다운 모습임"
   ]
  },
  {
   "cell_type": "markdown",
   "metadata": {},
   "source": [
    "## validation set score 확인"
   ]
  },
  {
   "cell_type": "code",
   "execution_count": 23,
   "metadata": {},
   "outputs": [
    {
     "name": "stdout",
     "output_type": "stream",
     "text": [
      "Accuracy: 0.9483999609947205\n"
     ]
    }
   ],
   "source": [
    "with torch.no_grad():\n",
    "    X_test = torch.tensor(val_dt.reshape(len(val_dt), 1, 28, 28)).float().to(device)\n",
    "    Y_test = torch.tensor(val_lb).to(device)\n",
    "\n",
    "    prediction = model(X_test)\n",
    "    correct_prediction = torch.argmax(prediction, 1) == Y_test\n",
    "    accuracy = correct_prediction.float().mean()\n",
    "    print('Accuracy:', accuracy.item())\n",
    "\n",
    "## 따로 ver\n",
    "# 0.9483999609947205 (재현 됨)\n",
    "\n",
    "## 같이 ver\n",
    "# 0.9515999555587769 (이건 재현 됨)"
   ]
  },
  {
   "cell_type": "markdown",
   "metadata": {},
   "source": [
    "## test set score 확인"
   ]
  },
  {
   "cell_type": "code",
   "execution_count": 25,
   "metadata": {},
   "outputs": [
    {
     "name": "stdout",
     "output_type": "stream",
     "text": [
      "Accuracy: 0.9557999968528748\n"
     ]
    }
   ],
   "source": [
    "with torch.no_grad():\n",
    "    X_test = torch.tensor(test_data.reshape(len(test_data), 1, 28, 28)).float().to(device)\n",
    "    Y_test = torch.tensor(test_labels).to(device)\n",
    "\n",
    "    prediction = model(X_test)\n",
    "    correct_prediction = torch.argmax(prediction, 1) == Y_test\n",
    "    accuracy = correct_prediction.float().mean()\n",
    "    print('Accuracy:', accuracy.item())\n",
    "\n",
    "## 따로 ver\n",
    "# 0.9557999968528748 (재현 됨)\n",
    "\n",
    "## 같이 ver\n",
    "# 0.9587999582290649\n",
    "# 0.9581999778747559"
   ]
  },
  {
   "cell_type": "markdown",
   "metadata": {},
   "source": [
    "## train validation 같이 하는 ver"
   ]
  },
  {
   "cell_type": "code",
   "execution_count": 24,
   "metadata": {},
   "outputs": [
    {
     "name": "stdout",
     "output_type": "stream",
     "text": [
      "[Epoch:    1] cost = 2.00940466\n",
      "Accuracy: 0.6959999799728394\n",
      "[Epoch:    2] cost = 1.1696173\n",
      "Accuracy: 0.7699999809265137\n",
      "[Epoch:    3] cost = 0.853299856\n",
      "Accuracy: 0.8027999997138977\n",
      "[Epoch:    4] cost = 0.67885071\n",
      "Accuracy: 0.8351999521255493\n",
      "[Epoch:    5] cost = 0.566299498\n",
      "Accuracy: 0.8535999655723572\n",
      "[Epoch:    6] cost = 0.480776697\n",
      "Accuracy: 0.8579999804496765\n",
      "[Epoch:    7] cost = 0.415599018\n",
      "Accuracy: 0.863599956035614\n",
      "[Epoch:    8] cost = 0.369346857\n",
      "Accuracy: 0.8743999600410461\n",
      "[Epoch:    9] cost = 0.332278132\n",
      "Accuracy: 0.8811999559402466\n",
      "[Epoch:   10] cost = 0.290598959\n",
      "Accuracy: 0.887999951839447\n",
      "[Epoch:   11] cost = 0.259059459\n",
      "Accuracy: 0.8931999802589417\n",
      "[Epoch:   12] cost = 0.235320032\n",
      "Accuracy: 0.8999999761581421\n",
      "[Epoch:   13] cost = 0.2105093\n",
      "Accuracy: 0.897599995136261\n",
      "[Epoch:   14] cost = 0.190968305\n",
      "Accuracy: 0.9047999978065491\n",
      "[Epoch:   15] cost = 0.173755094\n",
      "Accuracy: 0.9079999923706055\n",
      "[Epoch:   16] cost = 0.158956483\n",
      "Accuracy: 0.91239994764328\n",
      "[Epoch:   17] cost = 0.143082649\n",
      "Accuracy: 0.9107999801635742\n",
      "[Epoch:   18] cost = 0.127619475\n",
      "Accuracy: 0.9159999489784241\n",
      "[Epoch:   19] cost = 0.116990685\n",
      "Accuracy: 0.9228000044822693\n",
      "[Epoch:   20] cost = 0.107922673\n",
      "Accuracy: 0.9192000031471252\n",
      "[Epoch:   21] cost = 0.0953162387\n",
      "Accuracy: 0.9243999719619751\n",
      "[Epoch:   22] cost = 0.0879457369\n",
      "Accuracy: 0.9215999841690063\n",
      "[Epoch:   23] cost = 0.0817489401\n",
      "Accuracy: 0.9303999543190002\n",
      "[Epoch:   24] cost = 0.0747817308\n",
      "Accuracy: 0.9275999665260315\n",
      "[Epoch:   25] cost = 0.0646598414\n",
      "Accuracy: 0.9287999868392944\n",
      "[Epoch:   26] cost = 0.0576125085\n",
      "Accuracy: 0.9315999746322632\n",
      "[Epoch:   27] cost = 0.053246703\n",
      "Accuracy: 0.9355999827384949\n",
      "[Epoch:   28] cost = 0.0489705577\n",
      "Accuracy: 0.9335999488830566\n",
      "[Epoch:   29] cost = 0.0432435088\n",
      "Accuracy: 0.937999963760376\n",
      "[Epoch:   30] cost = 0.0370516405\n",
      "Accuracy: 0.9351999759674072\n",
      "[Epoch:   31] cost = 0.0341643095\n",
      "Accuracy: 0.9368000030517578\n",
      "[Epoch:   32] cost = 0.0297853965\n",
      "Accuracy: 0.9383999705314636\n",
      "[Epoch:   33] cost = 0.0275490712\n",
      "Accuracy: 0.9411999583244324\n",
      "[Epoch:   34] cost = 0.0243434962\n",
      "Accuracy: 0.9363999962806702\n",
      "[Epoch:   35] cost = 0.0217862204\n",
      "Accuracy: 0.9371999502182007\n",
      "[Epoch:   36] cost = 0.019610066\n",
      "Accuracy: 0.9443999528884888\n",
      "[Epoch:   37] cost = 0.0162351821\n",
      "Accuracy: 0.9391999840736389\n",
      "[Epoch:   38] cost = 0.0154164191\n",
      "Accuracy: 0.9459999799728394\n",
      "[Epoch:   39] cost = 0.0130372746\n",
      "Accuracy: 0.9467999935150146\n",
      "[Epoch:   40] cost = 0.0120192217\n",
      "Accuracy: 0.9451999664306641\n",
      "[Epoch:   41] cost = 0.0113989105\n",
      "Accuracy: 0.9487999677658081\n",
      "[Epoch:   42] cost = 0.00846810546\n",
      "Accuracy: 0.9443999528884888\n",
      "[Epoch:   43] cost = 0.00805325061\n",
      "Accuracy: 0.9479999542236328\n",
      "[Epoch:   44] cost = 0.00704074232\n",
      "Accuracy: 0.9487999677658081\n",
      "[Epoch:   45] cost = 0.00625954522\n",
      "Accuracy: 0.9508000016212463\n",
      "[Epoch:   46] cost = 0.00556101138\n",
      "Accuracy: 0.949999988079071\n",
      "[Epoch:   47] cost = 0.00486332132\n",
      "Accuracy: 0.9491999745368958\n",
      "[Epoch:   48] cost = 0.00476312684\n",
      "Accuracy: 0.9487999677658081\n",
      "[Epoch:   49] cost = 0.00410402426\n",
      "Accuracy: 0.9487999677658081\n",
      "[Epoch:   50] cost = 0.00371292001\n",
      "Accuracy: 0.9515999555587769\n"
     ]
    }
   ],
   "source": [
    "losses = []\n",
    "\n",
    "for epoch in range(CFG['EPOCHS']):\n",
    "    avg_cost = 0\n",
    "\n",
    "    for X, Y in train_loader: # 미니 배치 단위로 꺼내온다. X는 미니 배치, Y느 ㄴ레이블.\n",
    "        # image is already size of (28x28), no reshape\n",
    "        # label is not one-hot encoded\n",
    "        X = X.to(device)\n",
    "        Y = Y.to(device)\n",
    "\n",
    "        optimizer.zero_grad()\n",
    "        hypothesis = model(X)\n",
    "        cost = criterion(hypothesis, Y)\n",
    "        cost.backward()\n",
    "        optimizer.step()\n",
    "\n",
    "        avg_cost += cost / total_batch\n",
    "    loss = avg_cost / len(train_loader)\n",
    "    losses.append(loss)\n",
    "    print('[Epoch: {:>4}] cost = {:>.9}'.format(epoch + 1, avg_cost))\n",
    "    \n",
    "    \n",
    "    with torch.no_grad():\n",
    "        X_test = torch.tensor(val_dt.reshape(len(val_dt), 1, 28, 28)).float().to(device)\n",
    "        Y_test = torch.tensor(val_lb).to(device)\n",
    "\n",
    "        prediction = model(X_test)\n",
    "        correct_prediction = torch.argmax(prediction, 1) == Y_test\n",
    "        accuracy = correct_prediction.float().mean()\n",
    "        print('Accuracy:', accuracy.item())"
   ]
  },
  {
   "cell_type": "code",
   "execution_count": 25,
   "metadata": {},
   "outputs": [
    {
     "data": {
      "image/png": "[encoded data removed]",
      "text/plain": [
       "<Figure size 1008x432 with 1 Axes>"
      ]
     },
     "metadata": {
      "needs_background": "light"
     },
     "output_type": "display_data"
    }
   ],
   "source": [
    "# 전체 loss 에 대한 변화량 시각화\n",
    "_ = plt.figure(figsize=(14, 6))\n",
    "_ = plt.plot(losses[:100], c='darkviolet', linestyle=':')\n",
    "\n",
    "_ = plt.title('Losses over epoches', fontsize=15)\n",
    "_ = plt.xlabel('Epochs')\n",
    "_ = plt.ylabel('Error')\n",
    "_ = plt.show()\n",
    "\n",
    "# loss는 확 줄어들어서 바닥으로 수렴하는게 아름다운 모습임\n",
    "## 그림도 재현 됨"
   ]
  }
 ],
 "metadata": {
  "kernelspec": {
   "display_name": "geonu",
   "language": "python",
   "name": "geonu"
  },
  "language_info": {
   "codemirror_mode": {
    "name": "ipython",
    "version": 3
   },
   "file_extension": ".py",
   "mimetype": "text/x-python",
   "name": "python",
   "nbconvert_exporter": "python",
   "pygments_lexer": "ipython3",
   "version": "3.8.11"
  }
 },
 "nbformat": 4,
 "nbformat_minor": 4
}
