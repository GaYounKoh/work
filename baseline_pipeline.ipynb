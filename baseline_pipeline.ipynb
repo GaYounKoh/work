{
 "cells": [
  {
   "cell_type": "code",
   "execution_count": null,
   "metadata": {},
   "outputs": [],
   "source": [
    "results = []\n",
    "def my_regressor():\n",
    "    X = .iloc\n",
    "    y = .iloc\n",
    "    from sklearn.linear_model import LinearRegression # 일반 회귀 모델\n",
    "    from sklearn.linear_model import Ridge, Lasso, ElasticNet # Norm 규제 회귀 모델\n",
    "    from sklearn.linear_model import ARDRegression, BayesianRidge # 베이지안 회귀\n",
    "    from sklearn.tree import DecisionTreeRegressor\n",
    "    from sklearn.ensemble import RandomForestRegressor # decision tree 앙상블 모델, 배깅\n",
    "    from xgboost import XGBRegressor # decision tree 앙상블 모델, 부스팅\n",
    "    import lightgbm as lgbm\n",
    "#     from sklearn.model_selection import GridSearchCV\n",
    "#     from sklearn.model_selection import cross_val_score # model 검증\n",
    "\n",
    "    from sklearn.model_selection import train_test_split\n",
    "#     from sklearn.model_selection import StratifiedShuffleSplit\n",
    "    from sklearn.model_selection import ShuffleSplit\n",
    "    from sklearn.model_selection import cross_val_score\n",
    "    \n",
    "    from sklearn.dummy import DummyRegressor\n",
    "    from sklearn.metrics import mean_squared_error as mse # 모델 평가 지표 scoring (mse)\n",
    "    from sklearn.metrics import r2_score as r2\n",
    "    \n",
    "    import ast # convert string to function\n",
    "    \n",
    "    # seed 고정\n",
    "    user_seed = 0\n",
    "    random.seed(user_seed) # seed 고정\n",
    "    \n",
    "    # (같은 줄에 써놓은 애들끼리 하이퍼파리미터 구성 비슷하거나 같음)\n",
    "    Linear = LinearRegression()\n",
    "    Ridge, Lasso, ElasticNet = Ridge(), Lasso(), ElasticNet()\n",
    "    \n",
    "    ARDR_Linear, Bayesian_Ridge = ARDRegression(), BayesianRidge()\n",
    "    DecisionTree = DecisionTreeRegressor()\n",
    "    Random_Forest = RandomForestRegressor()\n",
    "    XGB = XGBRegressor()\n",
    "    LGBM = lgbm.LGBMRegressor()\n",
    "\n",
    "    dummy = DummyRegressor(strategy = 'mean')\n",
    "    \n",
    "    my_model_list = ['DecisionTree', 'Random_Forest',\n",
    "                     'XGB', 'LGBM', 'dummy',\n",
    "                     \n",
    "                     'Linear', 'Ridge', 'Lasso', 'ElasticNet',\n",
    "                     'ARDR_Linear', 'Bayesian_Ridge'] # 오래 걸리는걸 앞으로 뺌\n",
    "    \n",
    "    i = 0\n",
    "    ######################################################################### fitting\n",
    "    for model_nm in tqdm(my_model_list):\n",
    "        cntcnt = 0\n",
    "        cntcnt += 1\n",
    "        print(f'$$$$$---{cntcnt}')\n",
    "        \n",
    "        model_ = eval(model_nm).fit(X_train, y_train)\n",
    "        y_pred_val = model_.predict(X_val)\n",
    "        \n",
    "#         y_pred_test = model_.predict(X_test) # 예측\n",
    "        \n",
    "        mse_score = mse(y_test, y_pred_test)\n",
    "        r2_score = r2(y_test, y_pred_test)\n",
    "\n",
    "        results.append([i, f'{model_nm}', mse_score, r2_score]) #[:str(model).index(\"(\")]\n",
    "        i+=1\n",
    "    ################################################################\n",
    "        print(results[:10])\n",
    "    return results"
   ]
  }
 ],
 "metadata": {
  "kernelspec": {
   "display_name": "Python 3.7.8 64-bit",
   "language": "python",
   "name": "python3"
  },
  "language_info": {
   "name": "python",
   "version": "3.7.8"
  },
  "orig_nbformat": 4,
  "vscode": {
   "interpreter": {
    "hash": "0a54084e6b208ee8d1ce3989ffc20924477a5f55f5a43e22e699a6741623861e"
   }
  }
 },
 "nbformat": 4,
 "nbformat_minor": 2
}
