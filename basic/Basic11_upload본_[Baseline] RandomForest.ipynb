{
 "cells": [
  {
   "cell_type": "markdown",
   "id": "f31467ef-a035-4bd4-b74b-062675d3012a",
   "metadata": {},
   "source": [
    "RandomForest는 tree기반 모델로, DecisionTree를 여러 개 생성하여 그들의 평균으로 예측의 성능을 높이는 Ensemble Machine Learning 모델입니다. <br>\n",
    "RandomForest에 대해 더 자세히 알고싶으시다면 아래의 링크를 참고해주시기 바랍니다. <br>\n",
    "\n",
    "[Lv2 모델링 1/2 python 파이썬 랜덤포레스트 개념, 선언](https://dacon.io/competitions/open/235698/talkboard/403632) <br>"
   ]
  },
  {
   "cell_type": "markdown",
   "id": "b38f6c84-2f63-475b-be0d-c6422d151b35",
   "metadata": {},
   "source": [
    "# Library load"
   ]
  },
  {
   "cell_type": "code",
   "execution_count": 15,
   "id": "2497cc49-27e1-44a7-8f63-157e5adba78e",
   "metadata": {},
   "outputs": [],
   "source": [
    "import random\n",
    "import os\n",
    "\n",
    "import pandas as pd\n",
    "import numpy as np\n",
    "\n",
    "from sklearn.preprocessing import LabelEncoder\n",
    "\n",
    "from sklearn.ensemble import RandomForestClassifier\n",
    "\n",
    "## 경고 무시\n",
    "import warnings\n",
    "warnings.filterwarnings('ignore')\n",
    "\n",
    "## 결과확인을 용이하게 하는 코드\n",
    "from IPython.core.interactiveshell import InteractiveShell\n",
    "InteractiveShell.ast_node_interactivity = \"all\""
   ]
  },
  {
   "cell_type": "markdown",
   "id": "def417b0-44ce-4662-a843-f4a733e5a68e",
   "metadata": {},
   "source": [
    "# 변수 고정\n",
    "변수를 고정하는 방법에는 다양한 방법(dictionary 내에 정의, 하나의 전역변수로 정의 등)이 있지만,\n",
    "이번 베이스라인에서는 class를 사용하여 변수를 고정하는 방법을 사용해보도록 하겠습니다."
   ]
  },
  {
   "cell_type": "code",
   "execution_count": 16,
   "id": "556c73e6-6fca-47c3-b492-edc731d56d39",
   "metadata": {},
   "outputs": [],
   "source": [
    "class CFG:\n",
    "    user_seed = 42\n",
    "    target = 'Prospect'"
   ]
  },
  {
   "cell_type": "markdown",
   "id": "9ac4e284-edc8-420f-bd8b-b9bb5452567f",
   "metadata": {},
   "source": [
    "# Seed 고정"
   ]
  },
  {
   "cell_type": "code",
   "execution_count": 17,
   "id": "67dcf8c9-f613-4fc6-a361-6e124d88ca1f",
   "metadata": {},
   "outputs": [],
   "source": [
    "def seed_everything(seed):\n",
    "    random.seed(seed)\n",
    "    os.environ['PYTHONHASHSEED'] = str(seed)\n",
    "    np.random.seed(seed)\n",
    "\n",
    "seed_everything(CFG.user_seed)"
   ]
  },
  {
   "cell_type": "markdown",
   "id": "50c5cab8-4992-4569-b9e8-b714ff194a12",
   "metadata": {},
   "source": [
    "# Load data"
   ]
  },
  {
   "cell_type": "code",
   "execution_count": 18,
   "id": "800ff356-e5f5-4a58-8596-a63d2becb45a",
   "metadata": {},
   "outputs": [],
   "source": [
    "train = pd.read_csv('./train.csv')\n",
    "test = pd.read_csv('./test.csv')"
   ]
  },
  {
   "cell_type": "markdown",
   "id": "f9f885b6-4b0e-4b03-9636-65011bd70612",
   "metadata": {},
   "source": [
    "## isnull"
   ]
  },
  {
   "cell_type": "code",
   "execution_count": 19,
   "id": "9c558ff2-d431-418a-8121-ab537eecba80",
   "metadata": {},
   "outputs": [
    {
     "data": {
      "text/plain": [
       "0"
      ]
     },
     "execution_count": 19,
     "metadata": {},
     "output_type": "execute_result"
    }
   ],
   "source": [
    "train.isnull().sum().sum()\n",
    "## 결측이 확인되지 않습니다."
   ]
  },
  {
   "cell_type": "markdown",
   "id": "2e91dc4f-8adf-4bbf-b090-508479cc651a",
   "metadata": {},
   "source": [
    "# Data preprocessing"
   ]
  },
  {
   "cell_type": "markdown",
   "id": "2afb46f7-44a3-4cb9-bba2-9e1aaee2b1c3",
   "metadata": {},
   "source": [
    "## LabelEncoding\n",
    "- qualitative to quantitative"
   ]
  },
  {
   "cell_type": "code",
   "execution_count": 20,
   "id": "ac3d9153-0f34-496a-9e6a-e61cd940b347",
   "metadata": {},
   "outputs": [
    {
     "name": "stdout",
     "output_type": "stream",
     "text": [
      "Done.\n"
     ]
    }
   ],
   "source": [
    "qual_col = ['Position', 'PreferredFoot', 'AttackingWorkRate', 'DefensiveWorkRate']\n",
    "\n",
    "for i in qual_col:\n",
    "    le = LabelEncoder()\n",
    "    le = le.fit(train[i])\n",
    "    \n",
    "    train[i] = le.transform(train[i])\n",
    "    \n",
    "    for label in np.unique(test[i]):\n",
    "        if label not in le.classes_:\n",
    "            le.classes_ = np.append(le.classes_, label)\n",
    "    ## Label Encoder가 Test 데이터로부터 Fitting되는 것은 Data Leakage이므로, Test 데이터에는 Train 데이터로 Fitting된 Label Encoder로부터 transform만 수행되어야 합니다.\n",
    "    test[i] = le.transform(test[i])\n",
    "print('Done.')"
   ]
  },
  {
   "cell_type": "markdown",
   "id": "9bbcd423-84f4-4ad6-a8a4-1d0dfb7dc78f",
   "metadata": {},
   "source": [
    "## scaling\n",
    "기본적인 모델링 프로세스대로라면 전처리 단계에서 수치형 변수에 대해 scale을 맞춰주는 scaling을 진행해야 합니다. <br>\n",
    "하지만 이번 베이스라인에서는 tree 기반 모델을 사용할 것이기 때문에 해당 단계는 넘어가도 무관합니다. <br>\n",
    "\n",
    "scaling에 대해 더 자세히 알고싶으시다면 아래의 링크를 참고해주시기 바랍니다. <br>\n",
    "[Lv3 전처리 3/4 python 파이썬 수치형 데이터 정규화](https://dacon.io/competitions/open/235698/talkboard/403825?page=1&dtype=recent)"
   ]
  },
  {
   "cell_type": "markdown",
   "id": "34251a69-7dbf-4c35-babf-21e2fa9b10ed",
   "metadata": {},
   "source": [
    "# X, y split"
   ]
  },
  {
   "cell_type": "code",
   "execution_count": 21,
   "id": "8d9801cd-0c63-4fb8-8565-bcb19199ae38",
   "metadata": {},
   "outputs": [],
   "source": [
    "X_train = train.drop(['ID', CFG.target], axis=1)\n",
    "y_train = train[CFG.target]"
   ]
  },
  {
   "cell_type": "markdown",
   "id": "230f76a6-6b55-4efc-8028-bb8ea0f2950b",
   "metadata": {},
   "source": [
    "# Classification model fit"
   ]
  },
  {
   "cell_type": "code",
   "execution_count": 22,
   "id": "1fbc1b80-9ba3-403e-bcce-241f01d3c723",
   "metadata": {},
   "outputs": [
    {
     "data": {
      "text/html": [
       "<style>#sk-container-id-2 {color: black;background-color: white;}#sk-container-id-2 pre{padding: 0;}#sk-container-id-2 div.sk-toggleable {background-color: white;}#sk-container-id-2 label.sk-toggleable__label {cursor: pointer;display: block;width: 100%;margin-bottom: 0;padding: 0.3em;box-sizing: border-box;text-align: center;}#sk-container-id-2 label.sk-toggleable__label-arrow:before {content: \"▸\";float: left;margin-right: 0.25em;color: #696969;}#sk-container-id-2 label.sk-toggleable__label-arrow:hover:before {color: black;}#sk-container-id-2 div.sk-estimator:hover label.sk-toggleable__label-arrow:before {color: black;}#sk-container-id-2 div.sk-toggleable__content {max-height: 0;max-width: 0;overflow: hidden;text-align: left;background-color: #f0f8ff;}#sk-container-id-2 div.sk-toggleable__content pre {margin: 0.2em;color: black;border-radius: 0.25em;background-color: #f0f8ff;}#sk-container-id-2 input.sk-toggleable__control:checked~div.sk-toggleable__content {max-height: 200px;max-width: 100%;overflow: auto;}#sk-container-id-2 input.sk-toggleable__control:checked~label.sk-toggleable__label-arrow:before {content: \"▾\";}#sk-container-id-2 div.sk-estimator input.sk-toggleable__control:checked~label.sk-toggleable__label {background-color: #d4ebff;}#sk-container-id-2 div.sk-label input.sk-toggleable__control:checked~label.sk-toggleable__label {background-color: #d4ebff;}#sk-container-id-2 input.sk-hidden--visually {border: 0;clip: rect(1px 1px 1px 1px);clip: rect(1px, 1px, 1px, 1px);height: 1px;margin: -1px;overflow: hidden;padding: 0;position: absolute;width: 1px;}#sk-container-id-2 div.sk-estimator {font-family: monospace;background-color: #f0f8ff;border: 1px dotted black;border-radius: 0.25em;box-sizing: border-box;margin-bottom: 0.5em;}#sk-container-id-2 div.sk-estimator:hover {background-color: #d4ebff;}#sk-container-id-2 div.sk-parallel-item::after {content: \"\";width: 100%;border-bottom: 1px solid gray;flex-grow: 1;}#sk-container-id-2 div.sk-label:hover label.sk-toggleable__label {background-color: #d4ebff;}#sk-container-id-2 div.sk-serial::before {content: \"\";position: absolute;border-left: 1px solid gray;box-sizing: border-box;top: 0;bottom: 0;left: 50%;z-index: 0;}#sk-container-id-2 div.sk-serial {display: flex;flex-direction: column;align-items: center;background-color: white;padding-right: 0.2em;padding-left: 0.2em;position: relative;}#sk-container-id-2 div.sk-item {position: relative;z-index: 1;}#sk-container-id-2 div.sk-parallel {display: flex;align-items: stretch;justify-content: center;background-color: white;position: relative;}#sk-container-id-2 div.sk-item::before, #sk-container-id-2 div.sk-parallel-item::before {content: \"\";position: absolute;border-left: 1px solid gray;box-sizing: border-box;top: 0;bottom: 0;left: 50%;z-index: -1;}#sk-container-id-2 div.sk-parallel-item {display: flex;flex-direction: column;z-index: 1;position: relative;background-color: white;}#sk-container-id-2 div.sk-parallel-item:first-child::after {align-self: flex-end;width: 50%;}#sk-container-id-2 div.sk-parallel-item:last-child::after {align-self: flex-start;width: 50%;}#sk-container-id-2 div.sk-parallel-item:only-child::after {width: 0;}#sk-container-id-2 div.sk-dashed-wrapped {border: 1px dashed gray;margin: 0 0.4em 0.5em 0.4em;box-sizing: border-box;padding-bottom: 0.4em;background-color: white;}#sk-container-id-2 div.sk-label label {font-family: monospace;font-weight: bold;display: inline-block;line-height: 1.2em;}#sk-container-id-2 div.sk-label-container {text-align: center;}#sk-container-id-2 div.sk-container {/* jupyter's `normalize.less` sets `[hidden] { display: none; }` but bootstrap.min.css set `[hidden] { display: none !important; }` so we also need the `!important` here to be able to override the default hidden behavior on the sphinx rendered scikit-learn.org. See: https://github.com/scikit-learn/scikit-learn/issues/21755 */display: inline-block !important;position: relative;}#sk-container-id-2 div.sk-text-repr-fallback {display: none;}</style><div id=\"sk-container-id-2\" class=\"sk-top-container\"><div class=\"sk-text-repr-fallback\"><pre>RandomForestClassifier(random_state=42)</pre><b>In a Jupyter environment, please rerun this cell to show the HTML representation or trust the notebook. <br />On GitHub, the HTML representation is unable to render, please try loading this page with nbviewer.org.</b></div><div class=\"sk-container\" hidden><div class=\"sk-item\"><div class=\"sk-estimator sk-toggleable\"><input class=\"sk-toggleable__control sk-hidden--visually\" id=\"sk-estimator-id-2\" type=\"checkbox\" checked><label for=\"sk-estimator-id-2\" class=\"sk-toggleable__label sk-toggleable__label-arrow\">RandomForestClassifier</label><div class=\"sk-toggleable__content\"><pre>RandomForestClassifier(random_state=42)</pre></div></div></div></div></div>"
      ],
      "text/plain": [
       "RandomForestClassifier(random_state=42)"
      ]
     },
     "execution_count": 22,
     "metadata": {},
     "output_type": "execute_result"
    }
   ],
   "source": [
    "model = RandomForestClassifier(random_state = CFG.user_seed)\n",
    "## train\n",
    "model.fit(X_train, y_train)"
   ]
  },
  {
   "cell_type": "markdown",
   "id": "257fda01-5237-4163-88ff-5b794df6fc7d",
   "metadata": {},
   "source": [
    "# Inference"
   ]
  },
  {
   "cell_type": "code",
   "execution_count": 23,
   "id": "fa703796-7748-4d3f-a71f-0e345628be38",
   "metadata": {},
   "outputs": [],
   "source": [
    "X_test = test.drop(['ID'], axis=1)\n",
    "\n",
    "## pred\n",
    "pred = model.predict(X_test)"
   ]
  },
  {
   "cell_type": "markdown",
   "id": "70a6b321-efc6-43fd-8311-ff05b1632017",
   "metadata": {},
   "source": [
    "# Submit"
   ]
  },
  {
   "cell_type": "code",
   "execution_count": 10,
   "id": "9955ae1f-1f5e-4fea-bbd9-5e2357099e73",
   "metadata": {},
   "outputs": [],
   "source": [
    "submit = pd.read_csv('./sample_submission.csv')"
   ]
  },
  {
   "cell_type": "code",
   "execution_count": 11,
   "id": "2483e998-3fe2-48bf-a232-9e3ec9e97035",
   "metadata": {},
   "outputs": [],
   "source": [
    "submit[CFG.target] = pred"
   ]
  },
  {
   "cell_type": "code",
   "execution_count": 12,
   "id": "a16851d8-8e4f-4099-aa27-664668590da8",
   "metadata": {},
   "outputs": [],
   "source": [
    "submit.to_csv('submit.csv', index = False)"
   ]
  }
 ],
 "metadata": {
  "kernelspec": {
   "display_name": "Python 3 (ipykernel)",
   "language": "python",
   "name": "python3"
  },
  "language_info": {
   "codemirror_mode": {
    "name": "ipython",
    "version": 3
   },
   "file_extension": ".py",
   "mimetype": "text/x-python",
   "name": "python",
   "nbconvert_exporter": "python",
   "pygments_lexer": "ipython3",
   "version": "3.8.3"
  }
 },
 "nbformat": 4,
 "nbformat_minor": 5
}
