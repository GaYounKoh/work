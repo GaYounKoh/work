{
 "cells": [
  {
   "cell_type": "code",
   "execution_count": 15,
   "metadata": {},
   "outputs": [],
   "source": [
    "import pandas as pd\n",
    "from IPython.core.interactiveshell import InteractiveShell\n",
    "InteractiveShell.ast_node_interactivity = 'all'\n",
    "\n",
    "import numpy as np\n",
    "from tqdm import tqdm\n",
    "import warnings\n",
    "warnings.filterwarnings('ignore')"
   ]
  },
  {
   "cell_type": "code",
   "execution_count": 2,
   "metadata": {},
   "outputs": [],
   "source": [
    "def csv(file):\n",
    "    dat_ = pd.read_csv(file + '.csv', encoding = 'cp949')\n",
    "    return dat_\n",
    "    \n",
    "def ex(file):\n",
    "    dat_ = pd.read_excel(file + '.xlsx', header = 1)\n",
    "    return dat_\n",
    "\n",
    "path = 'data/'"
   ]
  },
  {
   "cell_type": "markdown",
   "metadata": {},
   "source": [
    "# 연도별 일별 시간대별 역별 승하차 인원"
   ]
  },
  {
   "cell_type": "code",
   "execution_count": 3,
   "metadata": {},
   "outputs": [],
   "source": [
    "\n",
    "# dat15 = csv(path + '서울교통공사 2015년 일별 역별 시간대별 승하차인원(1_8호선)')\n",
    "# dat16 = csv(path + '서울교통공사 2016년 일별 역별 시간대별 승하차인원(1_8호선)')\n",
    "\n",
    "# dat17 = ex(path + '서울교통공사 2017년 일별 역별 시간대별 승하차인원(1_8호선)')\n",
    "# dat18 = ex(path + '서울교통공사 2018년 일별 역별 시간대별 승하차인원(1_8호선)')\n",
    "# dat19 = ex(path + '서울교통공사 2019년 일별 역별 시간대별 승하차인원(1_8호선)')\n",
    "\n",
    "# dat20 = csv(path + '서울교통공사 2020년 일별 역별 시간대별 승하차인원(1_8호선)')\n",
    "dat21 = csv(path + '서울교통공사 2021년 일별 역별 시간대별 승하차인원(1_8호선)')\n",
    "dat22 = csv(path + '서울교통공사_역별 일별 시간대별 승하차인원 정보_20220531')"
   ]
  },
  {
   "cell_type": "code",
   "execution_count": 4,
   "metadata": {},
   "outputs": [
    {
     "data": {
      "text/plain": [
       "Index(['연번', '날짜', '호선', '역번호', '역명', '구분', '06시 이전', '06시-07시', '07시-08시',\n",
       "       '08시-09시', '09시-10시', '10시-11시', '11시-12시', '12시-13시', '13시-14시',\n",
       "       '14시-15시', '15시-16시', '16시-17시', '17시-18시', '18시-19시', '19시-20시',\n",
       "       '20시-21시', '21시-22시', '22시-23시', '23시 이후', '합 계'],\n",
       "      dtype='object')"
      ]
     },
     "execution_count": 4,
     "metadata": {},
     "output_type": "execute_result"
    },
    {
     "data": {
      "text/plain": [
       "Index(['연번', '날짜', '호선', '역번호', '역명', '구분', '06시 이전', '06시-07시', '07시-08시',\n",
       "       '08시-09시', '09시-10시', '10시-11시', '11시-12시', '12시-13시', '13시-14시',\n",
       "       '14시-15시', '15시-16시', '16시-17시', '17시-18시', '18시-19시', '19시-20시',\n",
       "       '20시-21시', '21시-22시', '22시-23시', '23시 이후'],\n",
       "      dtype='object')"
      ]
     },
     "execution_count": 4,
     "metadata": {},
     "output_type": "execute_result"
    }
   ],
   "source": [
    "dat21.columns\n",
    "dat22.columns"
   ]
  },
  {
   "cell_type": "code",
   "execution_count": 5,
   "metadata": {},
   "outputs": [
    {
     "data": {
      "text/html": [
       "<div>\n",
       "<style scoped>\n",
       "    .dataframe tbody tr th:only-of-type {\n",
       "        vertical-align: middle;\n",
       "    }\n",
       "\n",
       "    .dataframe tbody tr th {\n",
       "        vertical-align: top;\n",
       "    }\n",
       "\n",
       "    .dataframe thead th {\n",
       "        text-align: right;\n",
       "    }\n",
       "</style>\n",
       "<table border=\"1\" class=\"dataframe\">\n",
       "  <thead>\n",
       "    <tr style=\"text-align: right;\">\n",
       "      <th></th>\n",
       "      <th>연번</th>\n",
       "      <th>날짜</th>\n",
       "      <th>호선</th>\n",
       "      <th>역번호</th>\n",
       "      <th>역명</th>\n",
       "      <th>구분</th>\n",
       "      <th>06시 이전</th>\n",
       "      <th>06시-07시</th>\n",
       "      <th>07시-08시</th>\n",
       "      <th>08시-09시</th>\n",
       "      <th>...</th>\n",
       "      <th>14시-15시</th>\n",
       "      <th>15시-16시</th>\n",
       "      <th>16시-17시</th>\n",
       "      <th>17시-18시</th>\n",
       "      <th>18시-19시</th>\n",
       "      <th>19시-20시</th>\n",
       "      <th>20시-21시</th>\n",
       "      <th>21시-22시</th>\n",
       "      <th>22시-23시</th>\n",
       "      <th>23시 이후</th>\n",
       "    </tr>\n",
       "  </thead>\n",
       "  <tbody>\n",
       "    <tr>\n",
       "      <th>0</th>\n",
       "      <td>101093</td>\n",
       "      <td>2021-07-01</td>\n",
       "      <td>1</td>\n",
       "      <td>150</td>\n",
       "      <td>서울역</td>\n",
       "      <td>승차</td>\n",
       "      <td>358</td>\n",
       "      <td>440</td>\n",
       "      <td>1527</td>\n",
       "      <td>2409</td>\n",
       "      <td>...</td>\n",
       "      <td>1815</td>\n",
       "      <td>2175</td>\n",
       "      <td>2754</td>\n",
       "      <td>4505</td>\n",
       "      <td>7455</td>\n",
       "      <td>3249</td>\n",
       "      <td>2007</td>\n",
       "      <td>2225</td>\n",
       "      <td>1797</td>\n",
       "      <td>498</td>\n",
       "    </tr>\n",
       "    <tr>\n",
       "      <th>1</th>\n",
       "      <td>101094</td>\n",
       "      <td>2021-07-01</td>\n",
       "      <td>1</td>\n",
       "      <td>150</td>\n",
       "      <td>서울역</td>\n",
       "      <td>하차</td>\n",
       "      <td>248</td>\n",
       "      <td>1447</td>\n",
       "      <td>3589</td>\n",
       "      <td>8016</td>\n",
       "      <td>...</td>\n",
       "      <td>1498</td>\n",
       "      <td>1680</td>\n",
       "      <td>1897</td>\n",
       "      <td>2111</td>\n",
       "      <td>2692</td>\n",
       "      <td>1515</td>\n",
       "      <td>994</td>\n",
       "      <td>911</td>\n",
       "      <td>887</td>\n",
       "      <td>287</td>\n",
       "    </tr>\n",
       "    <tr>\n",
       "      <th>2</th>\n",
       "      <td>101095</td>\n",
       "      <td>2021-07-01</td>\n",
       "      <td>1</td>\n",
       "      <td>151</td>\n",
       "      <td>시청</td>\n",
       "      <td>승차</td>\n",
       "      <td>83</td>\n",
       "      <td>114</td>\n",
       "      <td>247</td>\n",
       "      <td>305</td>\n",
       "      <td>...</td>\n",
       "      <td>881</td>\n",
       "      <td>1177</td>\n",
       "      <td>1355</td>\n",
       "      <td>2808</td>\n",
       "      <td>5763</td>\n",
       "      <td>1983</td>\n",
       "      <td>1676</td>\n",
       "      <td>1642</td>\n",
       "      <td>1313</td>\n",
       "      <td>200</td>\n",
       "    </tr>\n",
       "    <tr>\n",
       "      <th>3</th>\n",
       "      <td>101096</td>\n",
       "      <td>2021-07-01</td>\n",
       "      <td>1</td>\n",
       "      <td>151</td>\n",
       "      <td>시청</td>\n",
       "      <td>하차</td>\n",
       "      <td>198</td>\n",
       "      <td>864</td>\n",
       "      <td>2697</td>\n",
       "      <td>7690</td>\n",
       "      <td>...</td>\n",
       "      <td>677</td>\n",
       "      <td>570</td>\n",
       "      <td>517</td>\n",
       "      <td>612</td>\n",
       "      <td>712</td>\n",
       "      <td>284</td>\n",
       "      <td>162</td>\n",
       "      <td>145</td>\n",
       "      <td>139</td>\n",
       "      <td>53</td>\n",
       "    </tr>\n",
       "    <tr>\n",
       "      <th>4</th>\n",
       "      <td>101097</td>\n",
       "      <td>2021-07-01</td>\n",
       "      <td>1</td>\n",
       "      <td>152</td>\n",
       "      <td>종각</td>\n",
       "      <td>승차</td>\n",
       "      <td>91</td>\n",
       "      <td>109</td>\n",
       "      <td>229</td>\n",
       "      <td>315</td>\n",
       "      <td>...</td>\n",
       "      <td>1517</td>\n",
       "      <td>1819</td>\n",
       "      <td>2207</td>\n",
       "      <td>4679</td>\n",
       "      <td>8382</td>\n",
       "      <td>3279</td>\n",
       "      <td>2825</td>\n",
       "      <td>3422</td>\n",
       "      <td>2870</td>\n",
       "      <td>418</td>\n",
       "    </tr>\n",
       "  </tbody>\n",
       "</table>\n",
       "<p>5 rows × 25 columns</p>\n",
       "</div>"
      ],
      "text/plain": [
       "       연번          날짜  호선  역번호   역명  구분  06시 이전  06시-07시  07시-08시  08시-09시  \\\n",
       "0  101093  2021-07-01   1  150  서울역  승차     358      440     1527     2409   \n",
       "1  101094  2021-07-01   1  150  서울역  하차     248     1447     3589     8016   \n",
       "2  101095  2021-07-01   1  151   시청  승차      83      114      247      305   \n",
       "3  101096  2021-07-01   1  151   시청  하차     198      864     2697     7690   \n",
       "4  101097  2021-07-01   1  152   종각  승차      91      109      229      315   \n",
       "\n",
       "   ...  14시-15시  15시-16시  16시-17시  17시-18시  18시-19시  19시-20시  20시-21시  \\\n",
       "0  ...     1815     2175     2754     4505     7455     3249     2007   \n",
       "1  ...     1498     1680     1897     2111     2692     1515      994   \n",
       "2  ...      881     1177     1355     2808     5763     1983     1676   \n",
       "3  ...      677      570      517      612      712      284      162   \n",
       "4  ...     1517     1819     2207     4679     8382     3279     2825   \n",
       "\n",
       "   21시-22시  22시-23시  23시 이후  \n",
       "0     2225     1797     498  \n",
       "1      911      887     287  \n",
       "2     1642     1313     200  \n",
       "3      145      139      53  \n",
       "4     3422     2870     418  \n",
       "\n",
       "[5 rows x 25 columns]"
      ]
     },
     "execution_count": 5,
     "metadata": {},
     "output_type": "execute_result"
    }
   ],
   "source": [
    "idx7 = sorted(list(np.where(dat21['날짜']=='2021-07-01')[0]))[0]\n",
    "data = pd.concat([dat21.iloc[idx7:,:-1],dat22], axis=0, ignore_index=True)\n",
    "data.head()"
   ]
  },
  {
   "cell_type": "markdown",
   "metadata": {},
   "source": [
    "## 나중에 column 명에서 문제 생기므로 사전에 바꾸기"
   ]
  },
  {
   "cell_type": "code",
   "execution_count": 6,
   "metadata": {},
   "outputs": [
    {
     "data": {
      "text/html": [
       "<div>\n",
       "<style scoped>\n",
       "    .dataframe tbody tr th:only-of-type {\n",
       "        vertical-align: middle;\n",
       "    }\n",
       "\n",
       "    .dataframe tbody tr th {\n",
       "        vertical-align: top;\n",
       "    }\n",
       "\n",
       "    .dataframe thead th {\n",
       "        text-align: right;\n",
       "    }\n",
       "</style>\n",
       "<table border=\"1\" class=\"dataframe\">\n",
       "  <thead>\n",
       "    <tr style=\"text-align: right;\">\n",
       "      <th></th>\n",
       "      <th>연번</th>\n",
       "      <th>날짜</th>\n",
       "      <th>호선</th>\n",
       "      <th>역번호</th>\n",
       "      <th>역명</th>\n",
       "      <th>구분</th>\n",
       "      <th>06시이전</th>\n",
       "      <th>06시-07시</th>\n",
       "      <th>07시-08시</th>\n",
       "      <th>08시-09시</th>\n",
       "      <th>...</th>\n",
       "      <th>14시-15시</th>\n",
       "      <th>15시-16시</th>\n",
       "      <th>16시-17시</th>\n",
       "      <th>17시-18시</th>\n",
       "      <th>18시-19시</th>\n",
       "      <th>19시-20시</th>\n",
       "      <th>20시-21시</th>\n",
       "      <th>21시-22시</th>\n",
       "      <th>22시-23시</th>\n",
       "      <th>23시이후</th>\n",
       "    </tr>\n",
       "  </thead>\n",
       "  <tbody>\n",
       "    <tr>\n",
       "      <th>0</th>\n",
       "      <td>101093</td>\n",
       "      <td>2021-07-01</td>\n",
       "      <td>1</td>\n",
       "      <td>150</td>\n",
       "      <td>서울역</td>\n",
       "      <td>승차</td>\n",
       "      <td>358</td>\n",
       "      <td>440</td>\n",
       "      <td>1527</td>\n",
       "      <td>2409</td>\n",
       "      <td>...</td>\n",
       "      <td>1815</td>\n",
       "      <td>2175</td>\n",
       "      <td>2754</td>\n",
       "      <td>4505</td>\n",
       "      <td>7455</td>\n",
       "      <td>3249</td>\n",
       "      <td>2007</td>\n",
       "      <td>2225</td>\n",
       "      <td>1797</td>\n",
       "      <td>498</td>\n",
       "    </tr>\n",
       "    <tr>\n",
       "      <th>1</th>\n",
       "      <td>101094</td>\n",
       "      <td>2021-07-01</td>\n",
       "      <td>1</td>\n",
       "      <td>150</td>\n",
       "      <td>서울역</td>\n",
       "      <td>하차</td>\n",
       "      <td>248</td>\n",
       "      <td>1447</td>\n",
       "      <td>3589</td>\n",
       "      <td>8016</td>\n",
       "      <td>...</td>\n",
       "      <td>1498</td>\n",
       "      <td>1680</td>\n",
       "      <td>1897</td>\n",
       "      <td>2111</td>\n",
       "      <td>2692</td>\n",
       "      <td>1515</td>\n",
       "      <td>994</td>\n",
       "      <td>911</td>\n",
       "      <td>887</td>\n",
       "      <td>287</td>\n",
       "    </tr>\n",
       "    <tr>\n",
       "      <th>2</th>\n",
       "      <td>101095</td>\n",
       "      <td>2021-07-01</td>\n",
       "      <td>1</td>\n",
       "      <td>151</td>\n",
       "      <td>시청</td>\n",
       "      <td>승차</td>\n",
       "      <td>83</td>\n",
       "      <td>114</td>\n",
       "      <td>247</td>\n",
       "      <td>305</td>\n",
       "      <td>...</td>\n",
       "      <td>881</td>\n",
       "      <td>1177</td>\n",
       "      <td>1355</td>\n",
       "      <td>2808</td>\n",
       "      <td>5763</td>\n",
       "      <td>1983</td>\n",
       "      <td>1676</td>\n",
       "      <td>1642</td>\n",
       "      <td>1313</td>\n",
       "      <td>200</td>\n",
       "    </tr>\n",
       "    <tr>\n",
       "      <th>3</th>\n",
       "      <td>101096</td>\n",
       "      <td>2021-07-01</td>\n",
       "      <td>1</td>\n",
       "      <td>151</td>\n",
       "      <td>시청</td>\n",
       "      <td>하차</td>\n",
       "      <td>198</td>\n",
       "      <td>864</td>\n",
       "      <td>2697</td>\n",
       "      <td>7690</td>\n",
       "      <td>...</td>\n",
       "      <td>677</td>\n",
       "      <td>570</td>\n",
       "      <td>517</td>\n",
       "      <td>612</td>\n",
       "      <td>712</td>\n",
       "      <td>284</td>\n",
       "      <td>162</td>\n",
       "      <td>145</td>\n",
       "      <td>139</td>\n",
       "      <td>53</td>\n",
       "    </tr>\n",
       "    <tr>\n",
       "      <th>4</th>\n",
       "      <td>101097</td>\n",
       "      <td>2021-07-01</td>\n",
       "      <td>1</td>\n",
       "      <td>152</td>\n",
       "      <td>종각</td>\n",
       "      <td>승차</td>\n",
       "      <td>91</td>\n",
       "      <td>109</td>\n",
       "      <td>229</td>\n",
       "      <td>315</td>\n",
       "      <td>...</td>\n",
       "      <td>1517</td>\n",
       "      <td>1819</td>\n",
       "      <td>2207</td>\n",
       "      <td>4679</td>\n",
       "      <td>8382</td>\n",
       "      <td>3279</td>\n",
       "      <td>2825</td>\n",
       "      <td>3422</td>\n",
       "      <td>2870</td>\n",
       "      <td>418</td>\n",
       "    </tr>\n",
       "    <tr>\n",
       "      <th>...</th>\n",
       "      <td>...</td>\n",
       "      <td>...</td>\n",
       "      <td>...</td>\n",
       "      <td>...</td>\n",
       "      <td>...</td>\n",
       "      <td>...</td>\n",
       "      <td>...</td>\n",
       "      <td>...</td>\n",
       "      <td>...</td>\n",
       "      <td>...</td>\n",
       "      <td>...</td>\n",
       "      <td>...</td>\n",
       "      <td>...</td>\n",
       "      <td>...</td>\n",
       "      <td>...</td>\n",
       "      <td>...</td>\n",
       "      <td>...</td>\n",
       "      <td>...</td>\n",
       "      <td>...</td>\n",
       "      <td>...</td>\n",
       "      <td>...</td>\n",
       "    </tr>\n",
       "    <tr>\n",
       "      <th>185623</th>\n",
       "      <td>82342</td>\n",
       "      <td>2022-05-31</td>\n",
       "      <td>8</td>\n",
       "      <td>2826</td>\n",
       "      <td>수진</td>\n",
       "      <td>하차</td>\n",
       "      <td>27</td>\n",
       "      <td>82</td>\n",
       "      <td>154</td>\n",
       "      <td>452</td>\n",
       "      <td>...</td>\n",
       "      <td>242</td>\n",
       "      <td>297</td>\n",
       "      <td>388</td>\n",
       "      <td>427</td>\n",
       "      <td>590</td>\n",
       "      <td>469</td>\n",
       "      <td>347</td>\n",
       "      <td>254</td>\n",
       "      <td>226</td>\n",
       "      <td>256</td>\n",
       "    </tr>\n",
       "    <tr>\n",
       "      <th>185624</th>\n",
       "      <td>82343</td>\n",
       "      <td>2022-05-31</td>\n",
       "      <td>8</td>\n",
       "      <td>2827</td>\n",
       "      <td>모란</td>\n",
       "      <td>승차</td>\n",
       "      <td>83</td>\n",
       "      <td>131</td>\n",
       "      <td>376</td>\n",
       "      <td>525</td>\n",
       "      <td>...</td>\n",
       "      <td>263</td>\n",
       "      <td>291</td>\n",
       "      <td>410</td>\n",
       "      <td>412</td>\n",
       "      <td>430</td>\n",
       "      <td>276</td>\n",
       "      <td>209</td>\n",
       "      <td>162</td>\n",
       "      <td>188</td>\n",
       "      <td>99</td>\n",
       "    </tr>\n",
       "    <tr>\n",
       "      <th>185625</th>\n",
       "      <td>82344</td>\n",
       "      <td>2022-05-31</td>\n",
       "      <td>8</td>\n",
       "      <td>2827</td>\n",
       "      <td>모란</td>\n",
       "      <td>하차</td>\n",
       "      <td>23</td>\n",
       "      <td>122</td>\n",
       "      <td>218</td>\n",
       "      <td>469</td>\n",
       "      <td>...</td>\n",
       "      <td>173</td>\n",
       "      <td>221</td>\n",
       "      <td>252</td>\n",
       "      <td>352</td>\n",
       "      <td>451</td>\n",
       "      <td>357</td>\n",
       "      <td>192</td>\n",
       "      <td>146</td>\n",
       "      <td>109</td>\n",
       "      <td>159</td>\n",
       "    </tr>\n",
       "    <tr>\n",
       "      <th>185626</th>\n",
       "      <td>82345</td>\n",
       "      <td>2022-05-31</td>\n",
       "      <td>8</td>\n",
       "      <td>2828</td>\n",
       "      <td>남위례</td>\n",
       "      <td>승차</td>\n",
       "      <td>47</td>\n",
       "      <td>203</td>\n",
       "      <td>759</td>\n",
       "      <td>857</td>\n",
       "      <td>...</td>\n",
       "      <td>215</td>\n",
       "      <td>202</td>\n",
       "      <td>416</td>\n",
       "      <td>490</td>\n",
       "      <td>617</td>\n",
       "      <td>251</td>\n",
       "      <td>180</td>\n",
       "      <td>210</td>\n",
       "      <td>162</td>\n",
       "      <td>72</td>\n",
       "    </tr>\n",
       "    <tr>\n",
       "      <th>185627</th>\n",
       "      <td>82346</td>\n",
       "      <td>2022-05-31</td>\n",
       "      <td>8</td>\n",
       "      <td>2828</td>\n",
       "      <td>남위례</td>\n",
       "      <td>하차</td>\n",
       "      <td>23</td>\n",
       "      <td>100</td>\n",
       "      <td>234</td>\n",
       "      <td>864</td>\n",
       "      <td>...</td>\n",
       "      <td>190</td>\n",
       "      <td>228</td>\n",
       "      <td>373</td>\n",
       "      <td>485</td>\n",
       "      <td>753</td>\n",
       "      <td>703</td>\n",
       "      <td>309</td>\n",
       "      <td>285</td>\n",
       "      <td>316</td>\n",
       "      <td>283</td>\n",
       "    </tr>\n",
       "  </tbody>\n",
       "</table>\n",
       "<p>185628 rows × 25 columns</p>\n",
       "</div>"
      ],
      "text/plain": [
       "            연번          날짜  호선   역번호   역명  구분  06시이전  06시-07시  07시-08시  \\\n",
       "0       101093  2021-07-01   1   150  서울역  승차    358      440     1527   \n",
       "1       101094  2021-07-01   1   150  서울역  하차    248     1447     3589   \n",
       "2       101095  2021-07-01   1   151   시청  승차     83      114      247   \n",
       "3       101096  2021-07-01   1   151   시청  하차    198      864     2697   \n",
       "4       101097  2021-07-01   1   152   종각  승차     91      109      229   \n",
       "...        ...         ...  ..   ...  ...  ..    ...      ...      ...   \n",
       "185623   82342  2022-05-31   8  2826   수진  하차     27       82      154   \n",
       "185624   82343  2022-05-31   8  2827   모란  승차     83      131      376   \n",
       "185625   82344  2022-05-31   8  2827   모란  하차     23      122      218   \n",
       "185626   82345  2022-05-31   8  2828  남위례  승차     47      203      759   \n",
       "185627   82346  2022-05-31   8  2828  남위례  하차     23      100      234   \n",
       "\n",
       "        08시-09시  ...  14시-15시  15시-16시  16시-17시  17시-18시  18시-19시  19시-20시  \\\n",
       "0          2409  ...     1815     2175     2754     4505     7455     3249   \n",
       "1          8016  ...     1498     1680     1897     2111     2692     1515   \n",
       "2           305  ...      881     1177     1355     2808     5763     1983   \n",
       "3          7690  ...      677      570      517      612      712      284   \n",
       "4           315  ...     1517     1819     2207     4679     8382     3279   \n",
       "...         ...  ...      ...      ...      ...      ...      ...      ...   \n",
       "185623      452  ...      242      297      388      427      590      469   \n",
       "185624      525  ...      263      291      410      412      430      276   \n",
       "185625      469  ...      173      221      252      352      451      357   \n",
       "185626      857  ...      215      202      416      490      617      251   \n",
       "185627      864  ...      190      228      373      485      753      703   \n",
       "\n",
       "        20시-21시  21시-22시  22시-23시  23시이후  \n",
       "0          2007     2225     1797    498  \n",
       "1           994      911      887    287  \n",
       "2          1676     1642     1313    200  \n",
       "3           162      145      139     53  \n",
       "4          2825     3422     2870    418  \n",
       "...         ...      ...      ...    ...  \n",
       "185623      347      254      226    256  \n",
       "185624      209      162      188     99  \n",
       "185625      192      146      109    159  \n",
       "185626      180      210      162     72  \n",
       "185627      309      285      316    283  \n",
       "\n",
       "[185628 rows x 25 columns]"
      ]
     },
     "execution_count": 6,
     "metadata": {},
     "output_type": "execute_result"
    }
   ],
   "source": [
    "data.rename(columns = {'06시 이전':'06시이전', '23시 이후':'23시이후'})"
   ]
  },
  {
   "cell_type": "markdown",
   "metadata": {},
   "source": [
    "# 주요장소 옆으로 합치기\n",
    "주요장소는 이용하지 않기로 한다. 코레일만 있으므로.\n",
    "('1호선', '3호선', '4호선', '분당선', '경춘선', '수인선', '경의중앙선', '경강선') 밖에 안다룸."
   ]
  },
  {
   "cell_type": "code",
   "execution_count": 7,
   "metadata": {},
   "outputs": [],
   "source": [
    "# 주요장소 = csv(path+'국가철도공단_코레일지하철 출구별 주요장소_20211008')"
   ]
  },
  {
   "cell_type": "code",
   "execution_count": 8,
   "metadata": {},
   "outputs": [],
   "source": [
    "data_pl = pd.concat([data, pd.DataFrame([np.NaN], columns = ['주요장소'])], axis=1)\n",
    "# 주요장소를 합치지 않을 것이므로 이것도 사용하지 않는다. 잊어도 좋음."
   ]
  },
  {
   "cell_type": "code",
   "execution_count": null,
   "metadata": {},
   "outputs": [],
   "source": [
    "# pd.DataFrame(주요장소.groupby(['선명','역명'])['출구별 주요시설명'].value_counts()).index\n",
    "pd.DataFrame(주요장소.groupby(['선명','역명']).value_counts())\n",
    "# pd.pivot_table(주요장소, values=['출구별 주요시설명'], index=['선명', '역명'])"
   ]
  },
  {
   "cell_type": "code",
   "execution_count": null,
   "metadata": {},
   "outputs": [],
   "source": [
    "역명 = 주요장소['역명'].unique()\n",
    "pl_dic = {}\n",
    "for i in 역명:\n",
    "    pl_dic[i] = list(주요장소[주요장소['역명'] == i]['출구별 주요시설명'])"
   ]
  },
  {
   "cell_type": "code",
   "execution_count": 11,
   "metadata": {},
   "outputs": [],
   "source": [
    "# pl_dic\n",
    "# pd.DataFrame(pl_dic)"
   ]
  },
  {
   "cell_type": "markdown",
   "metadata": {},
   "source": [
    "## 주요장소의 역명이 서울이 아니면 필요하지 않으므로 사전에서 제거.\n",
    "주요장소는 이용하지 않기로 한다. 코레일만 있으므로.\n",
    "('1호선', '3호선', '4호선', '분당선', '경춘선', '수인선', '경의중앙선', '경강선') 밖에 안다룸."
   ]
  },
  {
   "cell_type": "code",
   "execution_count": null,
   "metadata": {},
   "outputs": [],
   "source": [
    "# '소요산' in\n",
    "# data['역명'].unique()\n",
    "data[data['역명']=='소요산']"
   ]
  },
  {
   "cell_type": "code",
   "execution_count": 13,
   "metadata": {},
   "outputs": [],
   "source": [
    "# # pl_dic의 key가 서울의 역이 아니면 지우기\n",
    "# for i in 역명:\n",
    "#     if data[data['역명'] == i].shape[0] == 0:\n",
    "#         del pl_dic[i] # inplace=True\n",
    "#     else:\n",
    "#         pass\n",
    "# #         data[data['역명'] == i]\n"
   ]
  },
  {
   "cell_type": "code",
   "execution_count": 14,
   "metadata": {},
   "outputs": [],
   "source": [
    "# len(pl_dic)\n",
    "# len(서울역명)\n",
    "# # '서울역' in \n",
    "# # pl_dic.keys()\n",
    "# 주요장소.역명.nunique()#.info()\n",
    "# list(주요장소['역명'].unique())#.sort()"
   ]
  },
  {
   "cell_type": "code",
   "execution_count": 15,
   "metadata": {},
   "outputs": [],
   "source": [
    "# 서울역명 = data['역명'].unique()\n",
    "# for i in 서울역명:\n",
    "# #     data_pl[data_pl['역명'] == i]['주요장소'] = \n",
    "#     pl_dic[i]\n",
    "#     break"
   ]
  },
  {
   "cell_type": "code",
   "execution_count": null,
   "metadata": {},
   "outputs": [],
   "source": [
    "주요장소.선명.unique()"
   ]
  },
  {
   "cell_type": "markdown",
   "metadata": {},
   "source": [
    "# 승객 유형, 노인 21, 22 옆으로 합치기"
   ]
  },
  {
   "cell_type": "code",
   "execution_count": 7,
   "metadata": {},
   "outputs": [],
   "source": [
    "승객유형별21 = csv(path + '서울교통공사_1-8호선 역별 일별 시간대별 승객유형별 승하차인원_20211231')\n",
    "승객유형별22 = csv(path + '서울교통공사_1_8호선 역별 일별 시간대별 승객유형별 승하차인원_20220531')\n",
    "\n",
    "노인21 = csv(path+'서울교통공사_역별 일별 시간대별 노인 승하차인원_20211231')\n",
    "노인22 = csv(path+'서울교통공사_역별 일별 시간대별 노인 승하차인원 정보_20220531')"
   ]
  },
  {
   "cell_type": "code",
   "execution_count": null,
   "metadata": {},
   "outputs": [],
   "source": [
    "# dat21.iloc[idx7:,:-1].shape[0]\n",
    "dat22.shape[0]\n",
    "data.shape[0]\n",
    "# data.head()\n",
    "# data.columns\n",
    "data.tail()"
   ]
  },
  {
   "cell_type": "code",
   "execution_count": null,
   "metadata": {},
   "outputs": [],
   "source": [
    "승객유형별21.승객유형.unique()\n",
    "승객유형별22.승객유형.nunique()"
   ]
  },
  {
   "cell_type": "code",
   "execution_count": null,
   "metadata": {},
   "outputs": [],
   "source": [
    "# 승객유형별21.shape[0]\n",
    "# + 승객유형별22.shape[0]\n",
    "\n",
    "승객유형별21.columns #승객유형별22.columns # 둘이 같음 확인\n",
    "승객유형별21.head(11)"
   ]
  },
  {
   "cell_type": "markdown",
   "metadata": {},
   "source": [
    "## 노인 전처리\n",
    "1. 컬럼명 일자 -> 날짜로 바꿔준다.\n",
    "2. 노인22의 구분의 value를 승차, 하차로 바꿔준다.\n",
    "3. 호선열이 없어서 합칠 때 문제가 발생할 수 있으므로 채워준다."
   ]
  },
  {
   "cell_type": "code",
   "execution_count": 8,
   "metadata": {},
   "outputs": [
    {
     "data": {
      "text/plain": [
       "82188"
      ]
     },
     "execution_count": 8,
     "metadata": {},
     "output_type": "execute_result"
    },
    {
     "data": {
      "text/plain": [
       "Index(['연번', '일자', '역번호', '역명', '구분', '06시이전', '06시-07시', '07시-08시', '08시-09시',\n",
       "       '09시-10시', '10시-11시', '11시-12시', '12시-13시', '13시-14시', '14시-15시',\n",
       "       '15시-16시', '16시-17시', '17시-18시', '18시-19시', '19시-20시', '20시-21시',\n",
       "       '21시-22시', '22시-23시', '23시이후'],\n",
       "      dtype='object')"
      ]
     },
     "execution_count": 8,
     "metadata": {},
     "output_type": "execute_result"
    }
   ],
   "source": [
    "# 노인21.shape[0]\n",
    "+ 노인22.shape[0]\n",
    "\n",
    "노인21.columns # 노인22.columns # 둘이 같음 확인\n",
    "\n",
    "\n",
    "\n",
    "노인21.rename(columns = {'일자':'날짜'}, inplace = True)\n",
    "# 노인21.head()\n",
    "노인22.rename(columns = {'일자':'날짜'}, inplace = True)\n",
    "# 노인22.tail()\n",
    "노인22.구분 = 노인22.구분.map({'합계 : 승차':'승차', '합계 : 하차':'하차'})"
   ]
  },
  {
   "cell_type": "markdown",
   "metadata": {},
   "source": [
    "### 노인에 호선 추가"
   ]
  },
  {
   "cell_type": "code",
   "execution_count": 9,
   "metadata": {},
   "outputs": [],
   "source": [
    "노인21['호선'] = np.NaN\n",
    "노인22['호선'] = np.NaN\n",
    "# data.sort_values(by = ['호선','역명'])\n",
    "서울호선역명 = list(data[['호선','역명']].groupby('호선').value_counts().index)\n",
    "# 서울호선역명\n",
    "for i in 서울호선역명:\n",
    "    노인21[노인21.역명 == i[1]]['호선'] = i[0]\n",
    "    노인22[노인22.역명 == i[1]]['호선'] = i[0]"
   ]
  },
  {
   "cell_type": "code",
   "execution_count": null,
   "metadata": {},
   "outputs": [],
   "source": []
  },
  {
   "cell_type": "markdown",
   "metadata": {},
   "source": [
    "# "
   ]
  },
  {
   "cell_type": "markdown",
   "metadata": {},
   "source": [
    "# 승객 유형별을 다 열로 넣어주려고 함."
   ]
  },
  {
   "cell_type": "code",
   "execution_count": 11,
   "metadata": {},
   "outputs": [
    {
     "data": {
      "text/html": [
       "<div>\n",
       "<style scoped>\n",
       "    .dataframe tbody tr th:only-of-type {\n",
       "        vertical-align: middle;\n",
       "    }\n",
       "\n",
       "    .dataframe tbody tr th {\n",
       "        vertical-align: top;\n",
       "    }\n",
       "\n",
       "    .dataframe thead th {\n",
       "        text-align: right;\n",
       "    }\n",
       "</style>\n",
       "<table border=\"1\" class=\"dataframe\">\n",
       "  <thead>\n",
       "    <tr style=\"text-align: right;\">\n",
       "      <th></th>\n",
       "      <th>연번</th>\n",
       "      <th>날짜</th>\n",
       "      <th>호선</th>\n",
       "      <th>역번호</th>\n",
       "      <th>역명</th>\n",
       "      <th>구분</th>\n",
       "      <th>승객유형</th>\n",
       "      <th>06시이전</th>\n",
       "      <th>06시-07시</th>\n",
       "      <th>07시-08시</th>\n",
       "      <th>...</th>\n",
       "      <th>14시-15시</th>\n",
       "      <th>15시-16시</th>\n",
       "      <th>16시-17시</th>\n",
       "      <th>17시-18시</th>\n",
       "      <th>18시-19시</th>\n",
       "      <th>19시-20시</th>\n",
       "      <th>20시-21시</th>\n",
       "      <th>21시-22시</th>\n",
       "      <th>22시-23시</th>\n",
       "      <th>23시이후</th>\n",
       "    </tr>\n",
       "  </thead>\n",
       "  <tbody>\n",
       "    <tr>\n",
       "      <th>1071</th>\n",
       "      <td>1072</td>\n",
       "      <td>2021-07-01</td>\n",
       "      <td>3</td>\n",
       "      <td>340</td>\n",
       "      <td>가락시장</td>\n",
       "      <td>승차</td>\n",
       "      <td>어린이</td>\n",
       "      <td>0</td>\n",
       "      <td>0</td>\n",
       "      <td>0</td>\n",
       "      <td>...</td>\n",
       "      <td>2</td>\n",
       "      <td>1</td>\n",
       "      <td>1</td>\n",
       "      <td>4</td>\n",
       "      <td>2</td>\n",
       "      <td>0</td>\n",
       "      <td>0</td>\n",
       "      <td>0</td>\n",
       "      <td>1</td>\n",
       "      <td>0</td>\n",
       "    </tr>\n",
       "  </tbody>\n",
       "</table>\n",
       "<p>1 rows × 26 columns</p>\n",
       "</div>"
      ],
      "text/plain": [
       "        연번          날짜  호선  역번호    역명  구분 승객유형  06시이전  06시-07시  07시-08시  ...  \\\n",
       "1071  1072  2021-07-01   3  340  가락시장  승차  어린이      0        0        0  ...   \n",
       "\n",
       "      14시-15시  15시-16시  16시-17시  17시-18시  18시-19시  19시-20시  20시-21시  21시-22시  \\\n",
       "1071        2        1        1        4        2        0        0        0   \n",
       "\n",
       "      22시-23시  23시이후  \n",
       "1071        1      0  \n",
       "\n",
       "[1 rows x 26 columns]"
      ]
     },
     "execution_count": 11,
     "metadata": {},
     "output_type": "execute_result"
    }
   ],
   "source": [
    "# 승객유형별21\n",
    "시간대 = ['06시이전', '06시-07시', '07시-08시',\n",
    "       '08시-09시', '09시-10시', '10시-11시', '11시-12시', '12시-13시', '13시-14시',\n",
    "       '14시-15시', '15시-16시', '16시-17시', '17시-18시', '18시-19시', '19시-20시',\n",
    "       '20시-21시', '21시-22시', '22시-23시', '23시이후']\n",
    "\n",
    "유형cols = ['날짜', '역명', '구분', '승객유형', '역번호'] + 시간대\n",
    "# 유형cols[:5]\n",
    "유형21= list(승객유형별21[유형cols[:5]].value_counts().index.sort_values('날짜')[0])\n",
    "유형22= list(승객유형별22[유형cols[:5]].value_counts().index.sort_values('날짜')[0])\n",
    "\n",
    "승객유형별21[(승객유형별21['날짜'] == 유형21[0][0]) & (승객유형별21['역번호'] == 유형21[0][4]) & (승객유형별21['구분'] == 유형21[0][2]) & (승객유형별21['승객유형'] == 유형21[0][3])]\n",
    "\n",
    "# 승객유형별21[['날짜', '역명', '구분', '승객유형']].groupby('승객유형').value_counts().index.sort_values('날짜')"
   ]
  },
  {
   "cell_type": "code",
   "execution_count": null,
   "metadata": {},
   "outputs": [],
   "source": [
    "# ['날짜', '역명', '구분', '승객유형'] 갖고만 unique 뽑아야함. ==> 역명 아니고 역번호여야\n",
    "list(승객유형별21[['역명','날짜','구분', '승객유형']].value_counts().index.sort_values('날짜')[0])[:20]"
   ]
  },
  {
   "cell_type": "code",
   "execution_count": null,
   "metadata": {},
   "outputs": [],
   "source": [
    "유형cols"
   ]
  },
  {
   "cell_type": "code",
   "execution_count": 94,
   "metadata": {},
   "outputs": [],
   "source": [
    "# 7월 1일 가락시장 승차 어린이가 2개인 이유 (다른 것도 마찬가지)\n",
    "# pd.DataFrame(승객유형별21.groupby(유형cols).value_counts())[:20]"
   ]
  },
  {
   "cell_type": "code",
   "execution_count": null,
   "metadata": {},
   "outputs": [],
   "source": [
    "list(승객유형별21[유형cols].value_counts().index.sort_values('날짜')[0])[:20]"
   ]
  },
  {
   "cell_type": "code",
   "execution_count": 24,
   "metadata": {},
   "outputs": [],
   "source": [
    "# 유형21[:5]"
   ]
  },
  {
   "cell_type": "code",
   "execution_count": 25,
   "metadata": {},
   "outputs": [],
   "source": [
    "# data['승객유형'] = np.nan\n",
    "# for i in 유형21:\n",
    "#     data[(data.날짜 == i[0]) & (data.역명 == i[1]) & (data.구분 == i[2])]['승객유형'] = i[3]"
   ]
  },
  {
   "cell_type": "markdown",
   "metadata": {},
   "source": [
    "## new_cols\n",
    "data의 new_columns임."
   ]
  },
  {
   "cell_type": "code",
   "execution_count": 12,
   "metadata": {},
   "outputs": [],
   "source": [
    "# eval('data')\n",
    "시간대 = ['06시이전', '06시-07시', '07시-08시',\n",
    "       '08시-09시', '09시-10시', '10시-11시', '11시-12시', '12시-13시', '13시-14시',\n",
    "       '14시-15시', '15시-16시', '16시-17시', '17시-18시', '18시-19시', '19시-20시',\n",
    "       '20시-21시', '21시-22시', '22시-23시', '23시이후']\n",
    "new_cols = []\n",
    "for i in 승객유형별21['승객유형'].unique():\n",
    "    for j in 시간대:\n",
    "        new_cols.append(f'{i}_{j}')"
   ]
  },
  {
   "cell_type": "code",
   "execution_count": 27,
   "metadata": {},
   "outputs": [
    {
     "data": {
      "text/plain": [
       "209"
      ]
     },
     "execution_count": 27,
     "metadata": {},
     "output_type": "execute_result"
    }
   ],
   "source": [
    "len(new_cols)"
   ]
  },
  {
   "cell_type": "code",
   "execution_count": 13,
   "metadata": {},
   "outputs": [],
   "source": [
    "# data의 컬럼명 바꾸기\n",
    "data.rename(columns = {i:f'승객구분x_{i}' for i in 시간대}, inplace = True)"
   ]
  },
  {
   "cell_type": "code",
   "execution_count": 14,
   "metadata": {},
   "outputs": [],
   "source": [
    "for i in new_cols:\n",
    "    data[i] = np.nan"
   ]
  },
  {
   "cell_type": "code",
   "execution_count": 30,
   "metadata": {},
   "outputs": [
    {
     "data": {
      "text/plain": [
       "(185628, 234)"
      ]
     },
     "execution_count": 30,
     "metadata": {},
     "output_type": "execute_result"
    }
   ],
   "source": [
    "data.shape\n",
    "# data"
   ]
  },
  {
   "cell_type": "code",
   "execution_count": 16,
   "metadata": {},
   "outputs": [
    {
     "data": {
      "text/plain": [
       "284"
      ]
     },
     "execution_count": 16,
     "metadata": {},
     "output_type": "execute_result"
    },
    {
     "data": {
      "text/plain": [
       "275"
      ]
     },
     "execution_count": 16,
     "metadata": {},
     "output_type": "execute_result"
    }
   ],
   "source": [
    "dat21.역번호.nunique()\n",
    "dat22.역번호.nunique()"
   ]
  },
  {
   "cell_type": "markdown",
   "metadata": {},
   "source": [
    "### open 쓰기 위해 중간저장"
   ]
  },
  {
   "cell_type": "code",
   "execution_count": 10,
   "metadata": {},
   "outputs": [],
   "source": [
    "data = data.sort_values(by = ['날짜', '역명']).reset_index(drop=True)"
   ]
  },
  {
   "cell_type": "code",
   "execution_count": 11,
   "metadata": {},
   "outputs": [
    {
     "data": {
      "text/html": [
       "<div>\n",
       "<style scoped>\n",
       "    .dataframe tbody tr th:only-of-type {\n",
       "        vertical-align: middle;\n",
       "    }\n",
       "\n",
       "    .dataframe tbody tr th {\n",
       "        vertical-align: top;\n",
       "    }\n",
       "\n",
       "    .dataframe thead th {\n",
       "        text-align: right;\n",
       "    }\n",
       "</style>\n",
       "<table border=\"1\" class=\"dataframe\">\n",
       "  <thead>\n",
       "    <tr style=\"text-align: right;\">\n",
       "      <th></th>\n",
       "      <th>연번</th>\n",
       "      <th>날짜</th>\n",
       "      <th>호선</th>\n",
       "      <th>역번호</th>\n",
       "      <th>역명</th>\n",
       "      <th>구분</th>\n",
       "      <th>06시 이전</th>\n",
       "      <th>06시-07시</th>\n",
       "      <th>07시-08시</th>\n",
       "      <th>08시-09시</th>\n",
       "      <th>...</th>\n",
       "      <th>14시-15시</th>\n",
       "      <th>15시-16시</th>\n",
       "      <th>16시-17시</th>\n",
       "      <th>17시-18시</th>\n",
       "      <th>18시-19시</th>\n",
       "      <th>19시-20시</th>\n",
       "      <th>20시-21시</th>\n",
       "      <th>21시-22시</th>\n",
       "      <th>22시-23시</th>\n",
       "      <th>23시 이후</th>\n",
       "    </tr>\n",
       "  </thead>\n",
       "  <tbody>\n",
       "    <tr>\n",
       "      <th>0</th>\n",
       "      <td>101273</td>\n",
       "      <td>2021-07-01</td>\n",
       "      <td>3</td>\n",
       "      <td>340</td>\n",
       "      <td>가락시장</td>\n",
       "      <td>승차</td>\n",
       "      <td>86</td>\n",
       "      <td>292</td>\n",
       "      <td>831</td>\n",
       "      <td>864</td>\n",
       "      <td>...</td>\n",
       "      <td>408</td>\n",
       "      <td>445</td>\n",
       "      <td>587</td>\n",
       "      <td>760</td>\n",
       "      <td>1197</td>\n",
       "      <td>466</td>\n",
       "      <td>333</td>\n",
       "      <td>339</td>\n",
       "      <td>279</td>\n",
       "      <td>45</td>\n",
       "    </tr>\n",
       "    <tr>\n",
       "      <th>1</th>\n",
       "      <td>101274</td>\n",
       "      <td>2021-07-01</td>\n",
       "      <td>3</td>\n",
       "      <td>340</td>\n",
       "      <td>가락시장</td>\n",
       "      <td>하차</td>\n",
       "      <td>25</td>\n",
       "      <td>223</td>\n",
       "      <td>552</td>\n",
       "      <td>1300</td>\n",
       "      <td>...</td>\n",
       "      <td>402</td>\n",
       "      <td>498</td>\n",
       "      <td>478</td>\n",
       "      <td>629</td>\n",
       "      <td>893</td>\n",
       "      <td>679</td>\n",
       "      <td>419</td>\n",
       "      <td>367</td>\n",
       "      <td>380</td>\n",
       "      <td>160</td>\n",
       "    </tr>\n",
       "    <tr>\n",
       "      <th>2</th>\n",
       "      <td>101633</td>\n",
       "      <td>2021-07-01</td>\n",
       "      <td>8</td>\n",
       "      <td>2818</td>\n",
       "      <td>가락시장</td>\n",
       "      <td>승차</td>\n",
       "      <td>107</td>\n",
       "      <td>231</td>\n",
       "      <td>452</td>\n",
       "      <td>492</td>\n",
       "      <td>...</td>\n",
       "      <td>399</td>\n",
       "      <td>497</td>\n",
       "      <td>466</td>\n",
       "      <td>705</td>\n",
       "      <td>1124</td>\n",
       "      <td>419</td>\n",
       "      <td>371</td>\n",
       "      <td>425</td>\n",
       "      <td>395</td>\n",
       "      <td>76</td>\n",
       "    </tr>\n",
       "    <tr>\n",
       "      <th>3</th>\n",
       "      <td>101634</td>\n",
       "      <td>2021-07-01</td>\n",
       "      <td>8</td>\n",
       "      <td>2818</td>\n",
       "      <td>가락시장</td>\n",
       "      <td>하차</td>\n",
       "      <td>98</td>\n",
       "      <td>250</td>\n",
       "      <td>629</td>\n",
       "      <td>1623</td>\n",
       "      <td>...</td>\n",
       "      <td>373</td>\n",
       "      <td>366</td>\n",
       "      <td>438</td>\n",
       "      <td>472</td>\n",
       "      <td>700</td>\n",
       "      <td>474</td>\n",
       "      <td>332</td>\n",
       "      <td>269</td>\n",
       "      <td>240</td>\n",
       "      <td>182</td>\n",
       "    </tr>\n",
       "    <tr>\n",
       "      <th>4</th>\n",
       "      <td>101591</td>\n",
       "      <td>2021-07-01</td>\n",
       "      <td>7</td>\n",
       "      <td>2748</td>\n",
       "      <td>가산디지털단지</td>\n",
       "      <td>승차</td>\n",
       "      <td>272</td>\n",
       "      <td>383</td>\n",
       "      <td>934</td>\n",
       "      <td>1023</td>\n",
       "      <td>...</td>\n",
       "      <td>1368</td>\n",
       "      <td>1659</td>\n",
       "      <td>2440</td>\n",
       "      <td>7803</td>\n",
       "      <td>14836</td>\n",
       "      <td>5787</td>\n",
       "      <td>3141</td>\n",
       "      <td>2788</td>\n",
       "      <td>1647</td>\n",
       "      <td>304</td>\n",
       "    </tr>\n",
       "  </tbody>\n",
       "</table>\n",
       "<p>5 rows × 25 columns</p>\n",
       "</div>"
      ],
      "text/plain": [
       "       연번          날짜  호선   역번호       역명  구분  06시 이전  06시-07시  07시-08시  \\\n",
       "0  101273  2021-07-01   3   340     가락시장  승차      86      292      831   \n",
       "1  101274  2021-07-01   3   340     가락시장  하차      25      223      552   \n",
       "2  101633  2021-07-01   8  2818     가락시장  승차     107      231      452   \n",
       "3  101634  2021-07-01   8  2818     가락시장  하차      98      250      629   \n",
       "4  101591  2021-07-01   7  2748  가산디지털단지  승차     272      383      934   \n",
       "\n",
       "   08시-09시  ...  14시-15시  15시-16시  16시-17시  17시-18시  18시-19시  19시-20시  \\\n",
       "0      864  ...      408      445      587      760     1197      466   \n",
       "1     1300  ...      402      498      478      629      893      679   \n",
       "2      492  ...      399      497      466      705     1124      419   \n",
       "3     1623  ...      373      366      438      472      700      474   \n",
       "4     1023  ...     1368     1659     2440     7803    14836     5787   \n",
       "\n",
       "   20시-21시  21시-22시  22시-23시  23시 이후  \n",
       "0      333      339      279      45  \n",
       "1      419      367      380     160  \n",
       "2      371      425      395      76  \n",
       "3      332      269      240     182  \n",
       "4     3141     2788     1647     304  \n",
       "\n",
       "[5 rows x 25 columns]"
      ]
     },
     "execution_count": 11,
     "metadata": {},
     "output_type": "execute_result"
    }
   ],
   "source": [
    "data.head()"
   ]
  },
  {
   "cell_type": "code",
   "execution_count": 13,
   "metadata": {},
   "outputs": [
    {
     "data": {
      "text/plain": [
       "(185628, 25)"
      ]
     },
     "execution_count": 13,
     "metadata": {},
     "output_type": "execute_result"
    }
   ],
   "source": [
    "data.shape"
   ]
  },
  {
   "cell_type": "code",
   "execution_count": 12,
   "metadata": {},
   "outputs": [],
   "source": [
    "# data.to_csv('data 시간대별 승하차 승객 수 (날짜 역명으로 정렬).csv', index = False)"
   ]
  },
  {
   "cell_type": "markdown",
   "metadata": {},
   "source": []
  },
  {
   "cell_type": "markdown",
   "metadata": {},
   "source": [
    "# 아래는 하지 않는다."
   ]
  },
  {
   "cell_type": "markdown",
   "metadata": {},
   "source": [
    "## data의 각 new 컬럼에 유형별 인원 정보 삽입"
   ]
  },
  {
   "cell_type": "code",
   "execution_count": 42,
   "metadata": {},
   "outputs": [],
   "source": [
    "# data = pd.read_csv('data승객구분채우기전.csv')"
   ]
  },
  {
   "cell_type": "code",
   "execution_count": 38,
   "metadata": {},
   "outputs": [
    {
     "data": {
      "text/plain": [
       "133"
      ]
     },
     "execution_count": 38,
     "metadata": {},
     "output_type": "execute_result"
    },
    {
     "data": {
      "text/plain": [
       "0"
      ]
     },
     "execution_count": 38,
     "metadata": {},
     "output_type": "execute_result"
    }
   ],
   "source": [
    "colnms.index(f'{wh[3]}_{j}')\n",
    "wh[k+4]"
   ]
  },
  {
   "cell_type": "code",
   "execution_count": 104,
   "metadata": {},
   "outputs": [
    {
     "name": "stderr",
     "output_type": "stream",
     "text": [
      "5it [00:09,  1.87s/it]\n"
     ]
    },
    {
     "ename": "KeyboardInterrupt",
     "evalue": "",
     "output_type": "error",
     "traceback": [
      "\u001b[0;31m---------------------------------------------------------------------------\u001b[0m",
      "\u001b[0;31mKeyboardInterrupt\u001b[0m                         Traceback (most recent call last)",
      "\u001b[0;32m<ipython-input-104-ca7476867104>\u001b[0m in \u001b[0;36m<module>\u001b[0;34m\u001b[0m\n\u001b[1;32m     15\u001b[0m         \u001b[0;32mfor\u001b[0m \u001b[0mwh\u001b[0m \u001b[0;32min\u001b[0m \u001b[0m유형21\u001b[0m\u001b[0;34m:\u001b[0m \u001b[0;31m# who\u001b[0m\u001b[0;34m\u001b[0m\u001b[0;34m\u001b[0m\u001b[0m\n\u001b[1;32m     16\u001b[0m             \u001b[0;32mfor\u001b[0m \u001b[0mk\u001b[0m\u001b[0;34m,\u001b[0m\u001b[0mj\u001b[0m \u001b[0;32min\u001b[0m \u001b[0menumerate\u001b[0m\u001b[0;34m(\u001b[0m\u001b[0m시간대\u001b[0m\u001b[0;34m)\u001b[0m\u001b[0;34m:\u001b[0m\u001b[0;34m\u001b[0m\u001b[0;34m\u001b[0m\u001b[0m\n\u001b[0;32m---> 17\u001b[0;31m                 \u001b[0;32mif\u001b[0m \u001b[0;34m(\u001b[0m\u001b[0mline\u001b[0m\u001b[0;34m[\u001b[0m\u001b[0mday\u001b[0m\u001b[0;34m]\u001b[0m \u001b[0;34m==\u001b[0m \u001b[0mwh\u001b[0m\u001b[0;34m[\u001b[0m\u001b[0;36m0\u001b[0m\u001b[0;34m]\u001b[0m\u001b[0;34m)\u001b[0m \u001b[0;34m&\u001b[0m \u001b[0;34m(\u001b[0m\u001b[0mline\u001b[0m\u001b[0;34m[\u001b[0m\u001b[0mst\u001b[0m\u001b[0;34m]\u001b[0m \u001b[0;34m==\u001b[0m \u001b[0mwh\u001b[0m\u001b[0;34m[\u001b[0m\u001b[0;36m4\u001b[0m\u001b[0;34m]\u001b[0m\u001b[0;34m)\u001b[0m \u001b[0;34m&\u001b[0m \u001b[0;34m(\u001b[0m\u001b[0mline\u001b[0m\u001b[0;34m[\u001b[0m\u001b[0mto\u001b[0m\u001b[0;34m]\u001b[0m \u001b[0;34m==\u001b[0m \u001b[0mwh\u001b[0m\u001b[0;34m[\u001b[0m\u001b[0;36m2\u001b[0m\u001b[0;34m]\u001b[0m\u001b[0;34m)\u001b[0m\u001b[0;34m:\u001b[0m\u001b[0;34m\u001b[0m\u001b[0;34m\u001b[0m\u001b[0m\n\u001b[0m\u001b[1;32m     18\u001b[0m \u001b[0;31m#                     wh[0], wh[1], wh[2], wh[3]\u001b[0m\u001b[0;34m\u001b[0m\u001b[0;34m\u001b[0m\u001b[0;34m\u001b[0m\u001b[0m\n\u001b[1;32m     19\u001b[0m                     \u001b[0mline\u001b[0m\u001b[0;34m[\u001b[0m\u001b[0mcolnms\u001b[0m\u001b[0;34m.\u001b[0m\u001b[0mindex\u001b[0m\u001b[0;34m(\u001b[0m\u001b[0;34mf'{wh[3]}_{j}'\u001b[0m\u001b[0;34m)\u001b[0m\u001b[0;34m]\u001b[0m \u001b[0;34m=\u001b[0m \u001b[0mwh\u001b[0m\u001b[0;34m[\u001b[0m\u001b[0mk\u001b[0m \u001b[0;34m+\u001b[0m \u001b[0;36m5\u001b[0m\u001b[0;34m]\u001b[0m\u001b[0;34m\u001b[0m\u001b[0;34m\u001b[0m\u001b[0m\n",
      "\u001b[0;31mKeyboardInterrupt\u001b[0m: "
     ]
    }
   ],
   "source": [
    "# 설마 data총 길이만큼..?\n",
    "f = open('data승객구분채우기전.csv', 'r')\n",
    "lines = f.readlines()\n",
    "for i, line in tqdm(enumerate(lines)):\n",
    "    line = line.strip().split(',')\n",
    "    if i == 0:\n",
    "#         pass\n",
    "#         print(line)\n",
    "        colnms = line.copy()\n",
    "        day = line.index('날짜')\n",
    "#         st = line.index('역명') # station\n",
    "        st = line.index('역번호') # station_id\n",
    "        to = line.index('구분') # take off or not\n",
    "    else:\n",
    "        for wh in 유형21: # who\n",
    "            for k,j in enumerate(시간대):\n",
    "                if (line[day] == wh[0]) & (line[st] == wh[4]) & (line[to] == wh[2]):\n",
    "#                     wh[0], wh[1], wh[2], wh[3]\n",
    "                    line[colnms.index(f'{wh[3]}_{j}')] = wh[k + 5]\n",
    "                    wh[k + 4]\n",
    "#             print('###########!!!!!!!!!!!!!!~~~~~~~~~~~~~~~~~~~~~~~~~~#############')"
   ]
  },
  {
   "cell_type": "code",
   "execution_count": 106,
   "metadata": {},
   "outputs": [
    {
     "data": {
      "text/plain": [
       "[('2021-07-01', '가락시장', '승차', '어린이', 340),\n",
       " ('2021-07-01', '가락시장', '승차', '어린이', 2818),\n",
       " ('2021-07-01', '가락시장', '승차', '영어 일반', 2818),\n",
       " ('2021-07-01', '가락시장', '승차', '우대권', 340)]"
      ]
     },
     "execution_count": 106,
     "metadata": {},
     "output_type": "execute_result"
    }
   ],
   "source": [
    "유형21[0:4]"
   ]
  },
  {
   "cell_type": "code",
   "execution_count": 108,
   "metadata": {},
   "outputs": [
    {
     "data": {
      "text/plain": [
       "'101273,2021-07-01,3,340,가락시장,승차,86,292,831,864,579,431,399,417,420,408,445,587,760,1197,466,333,339,279,45,,,,,,,,,,,,,,,,,,,,,,,,,,,,,,,,,,,,,,,,,,,,,,,,,,,,,,,,,,,,,,,,,,,,,,,,,,,,,,,,,,,,,,,,,,,,,,,,,,,,,,,,,,,,,,,,,,,,,,,,,,,,,,,,,,,,,,,,,,,,,,,,,,,,,,,,,,,,,,,,,,,,,,,,,,,,,,,,,,,,,,,,,,,,,,,,,,,,,,,,,,,,,,,,,\\n'"
      ]
     },
     "execution_count": 108,
     "metadata": {},
     "output_type": "execute_result"
    }
   ],
   "source": [
    "lines[1]"
   ]
  },
  {
   "cell_type": "code",
   "execution_count": 49,
   "metadata": {},
   "outputs": [
    {
     "name": "stderr",
     "output_type": "stream",
     "text": [
      "0it [00:00, ?it/s]"
     ]
    },
    {
     "data": {
      "text/plain": [
       "'어린이_06시-07시'"
      ]
     },
     "execution_count": 49,
     "metadata": {},
     "output_type": "execute_result"
    },
    {
     "data": {
      "text/plain": [
       "'어린이_22시-23시'"
      ]
     },
     "execution_count": 49,
     "metadata": {},
     "output_type": "execute_result"
    },
    {
     "data": {
      "text/plain": [
       "''"
      ]
     },
     "execution_count": 49,
     "metadata": {},
     "output_type": "execute_result"
    },
    {
     "name": "stderr",
     "output_type": "stream",
     "text": [
      "1it [00:00, 117.13it/s]\n"
     ]
    }
   ],
   "source": [
    "for i, line in tqdm(enumerate(lines)):\n",
    "    line = line.strip().split(',')\n",
    "    if i == 0:\n",
    "        line[colnms.index(f'{유형21[0][3]}_{j}')]\n",
    "#         print(line)\n",
    "        pass\n",
    "    else:\n",
    "        f'{유형21[0][3]}_22시-23시'\n",
    "        line[colnms.index(f'{유형21[0][3]}_{j}')]\n",
    "#         print()\n",
    "        break"
   ]
  },
  {
   "cell_type": "code",
   "execution_count": null,
   "metadata": {},
   "outputs": [],
   "source": [
    "for i in tqdm(유형21):\n",
    "    for k,j in enumerate(시간대):\n",
    "        data[(data.날짜 == i[0]) & (data.역명 == i[1]) & (data.구분 == i[2])][f'{i[3]}_{j}'] = i[k + 4] # 4번째부터 차례대로\n",
    "#         print('#----------------------------------------------')"
   ]
  },
  {
   "cell_type": "code",
   "execution_count": null,
   "metadata": {},
   "outputs": [],
   "source": []
  }
 ],
 "metadata": {
  "kernelspec": {
   "display_name": "Python 3",
   "language": "python",
   "name": "python3"
  },
  "language_info": {
   "codemirror_mode": {
    "name": "ipython",
    "version": 3
   },
   "file_extension": ".py",
   "mimetype": "text/x-python",
   "name": "python",
   "nbconvert_exporter": "python",
   "pygments_lexer": "ipython3",
   "version": "3.8.3"
  }
 },
 "nbformat": 4,
 "nbformat_minor": 4
}
