{
 "cells": [
  {
   "cell_type": "code",
   "execution_count": 1,
   "metadata": {},
   "outputs": [],
   "source": [
    "import sys, os\n",
    "import requests #(네이버) api 이용할 때 쓰는 패키지\n",
    "import selenium #크롤링 패키지\n",
    "\n",
    "# selenium의 webdriver를 사용하기 위한 import\n",
    "from selenium import webdriver\n",
    "\n",
    "import pandas as pd\n",
    "from pandas import DataFrame\n",
    "from bs4 import BeautifulSoup #크롤링 패키지\n",
    "import re #정규식 표현 모듈\n",
    "from datetime import datetime\n",
    "import pickle, json, glob, time #pickle: 객체를 파일로 저장해주는 모듈, json: 네이버 api, glob: 파일들 리스트 뽑을 때 사용\n",
    "# https://wikidocs.net/83\n",
    "from tqdm import tqdm #진행표시바\n",
    "\n",
    "\n",
    "import urllib.request #파싱을 위한 모듈\n",
    "\n",
    "from IPython.core.interactiveshell import InteractiveShell\n",
    "InteractiveShell.ast_node_interactivity = \"all\"\n",
    "\n",
    "import numpy as np"
   ]
  },
  {
   "cell_type": "code",
   "execution_count": 2,
   "metadata": {},
   "outputs": [],
   "source": [
    "# ! pip install URI"
   ]
  },
  {
   "cell_type": "code",
   "execution_count": 3,
   "metadata": {},
   "outputs": [],
   "source": [
    "from uri import URI"
   ]
  },
  {
   "cell_type": "markdown",
   "metadata": {},
   "source": [
    "# [1] Use This for CIDs"
   ]
  },
  {
   "cell_type": "code",
   "execution_count": 222,
   "metadata": {},
   "outputs": [],
   "source": [
    "# 각 오퍼레이션 별로 워드에서 검색했을 때, table의 항목구분 열에 1이라고 표시돼있는 필수 파라미터를 다 작성하지 않을 경우 soup 출력시 에러남.\n",
    "\n",
    "API_HOST = 'http://apis.data.go.kr/B551011/KorService/'\n",
    "key = '키키키키키키키키키키키키키키키키' # Encoding key\n",
    "\n",
    "## 오퍼레이션 담은 dic\n",
    "op = {}\n",
    "\n",
    "## p14\n",
    "op['area'] = 'areaCode' # 지역코드조회\n",
    "# url = f'{API_HOST}{area}?serviceKey={key}&numOfRows=10&pageNo=1&MobileOS=ETC&MobileApp=appTest'\n",
    "\n",
    "\n",
    "op['det'] = 'detailCommon' # 공통정보조회\n",
    "# CID = 126508\n",
    "## p81, content id가 ~~인 관광정보의 '기본정보'만 조회\n",
    "# url = f'{API_HOST}{det}?serviceKey={key}&numOfRows=10&pageNo=1&MobileOS=ETC&MobileApp=AppTest&contentId={CID}&defaultYN=Y'\n",
    "\n",
    "\n",
    "## 오퍼레이션\n",
    "op['cat'] = 'categoryCode' # 서비스분류코드조회\n",
    "op['aB'] = 'areaBasedList' # 지역기반관광정보조회\n",
    "\n",
    "\n",
    "## 파라미터\n",
    "# CTI = 12\n",
    "tp = 'json'\n",
    "\n",
    "\n",
    "url = f'{API_HOST}{op[\"aB\"]}?serviceKey={key}&numOfRows=40000&pageNo=1&MobileOS=ETC&MobileApp=AppTest&listYN=Y'\n",
    "\n",
    "# &contentTypeId={CTI}\n",
    "# &_type={tp}\n",
    "response = requests.get(url)\n",
    "\n",
    "soup = BeautifulSoup(response.text, 'xml') # parser는 'lxml'로도 가능."
   ]
  },
  {
   "cell_type": "code",
   "execution_count": 226,
   "metadata": {},
   "outputs": [
    {
     "data": {
      "text/plain": [
       "34035"
      ]
     },
     "execution_count": 226,
     "metadata": {},
     "output_type": "execute_result"
    }
   ],
   "source": [
    "len(soup.find_all('contenttypeid'))"
   ]
  },
  {
   "cell_type": "code",
   "execution_count": 264,
   "metadata": {},
   "outputs": [
    {
     "data": {
      "text/plain": [
       "34035"
      ]
     },
     "execution_count": 264,
     "metadata": {},
     "output_type": "execute_result"
    },
    {
     "data": {
      "text/plain": [
       "34035"
      ]
     },
     "execution_count": 264,
     "metadata": {},
     "output_type": "execute_result"
    }
   ],
   "source": [
    "CIDs = soup.find_all('contentid')\n",
    "len(CIDs) # 하루 지나서 더 늘은 것 같음.\n",
    "len(set(CIDs)) # 여전히 유니크함.\n",
    "\n",
    "CIDs = [i.string for i in CIDs]\n",
    "CIDs = list(map(lambda x: str(x), CIDs)) # str로 형변환"
   ]
  },
  {
   "cell_type": "markdown",
   "metadata": {},
   "source": [
    "# cid 저장"
   ]
  },
  {
   "cell_type": "code",
   "execution_count": 265,
   "metadata": {},
   "outputs": [],
   "source": [
    "cids = pd.DataFrame(CIDs, columns=['cid'])\n",
    "# cids.to_csv('cids.csv', index=False) # str로 형변환, 정렬 안함(contenttypeid랑 엮어야 해서), 업데이트 됨."
   ]
  },
  {
   "cell_type": "code",
   "execution_count": null,
   "metadata": {},
   "outputs": [],
   "source": []
  },
  {
   "cell_type": "code",
   "execution_count": 232,
   "metadata": {},
   "outputs": [
    {
     "data": {
      "text/plain": [
       "<item>\n",
       "<addr1>충청남도 공주시 감영길 3</addr1>\n",
       "<addr2>(반죽동)</addr2>\n",
       "<areacode>34</areacode>\n",
       "<booktour/>\n",
       "<cat1>A04</cat1>\n",
       "<cat2>A0401</cat2>\n",
       "<cat3>A04010600</cat3>\n",
       "<contentid>2750144</contentid>\n",
       "<contenttypeid>38</contenttypeid>\n",
       "<createdtime>20210928012320</createdtime>\n",
       "<firstimage/>\n",
       "<firstimage2/>\n",
       "<mapx>127.1216721795</mapx>\n",
       "<mapy>36.4529297875</mapy>\n",
       "<mlevel>6</mlevel>\n",
       "<modifiedtime>20210928012320</modifiedtime>\n",
       "<readcount>7</readcount>\n",
       "<sigungucode>1</sigungucode>\n",
       "<tel/>\n",
       "<title>가가상점</title>\n",
       "<zipcode>32546</zipcode>\n",
       "</item>"
      ]
     },
     "execution_count": 232,
     "metadata": {},
     "output_type": "execute_result"
    }
   ],
   "source": [
    "soup.find('item')"
   ]
  },
  {
   "cell_type": "code",
   "execution_count": 271,
   "metadata": {},
   "outputs": [],
   "source": [
    "title = [i.string for i in soup.find_all('title')]\n",
    "title = list(map(lambda x: str(x), title)) # str로 형변환"
   ]
  },
  {
   "cell_type": "code",
   "execution_count": null,
   "metadata": {},
   "outputs": [],
   "source": []
  },
  {
   "cell_type": "markdown",
   "metadata": {},
   "source": [
    "## 매칭테스트\n",
    "- 처음에 받은 csv에서 poi id가 0으로 시작하는게 cid에 있는지 찾아봄. -> 없음.\n",
    "- 처음에 받은 csv에서 poi id가 0으로 시작하는것 의 poi nm이 title에 있는지 찾아봄. -> 없음.\n",
    "\n",
    "- 처음에 받은 csv에서 poi id가 0으로 시작하지 않는 다른 것의 poi nm이 title에 있는지 찾아봄. -> 있음.\n",
    "    - 그것의 poi id와 cid가 일치하는지 확인해봄. -> 일치."
   ]
  },
  {
   "cell_type": "code",
   "execution_count": 270,
   "metadata": {},
   "outputs": [],
   "source": [
    "for i in CIDs:\n",
    "#     type(i)\n",
    "#     break\n",
    "    if i[0] =='0':\n",
    "        print('y')\n",
    "# [i.startswith('0') for i in CIDs]\n",
    "\n",
    "# 에러 'NoneType' object has no attribute 'startswith'\n",
    "# 굳이 startswith을 사용하지는 않기로 한다.\n",
    "# 에러 원인은 value의 type이 str이 아니라 bs4.element.NavigableString 였기 때문"
   ]
  },
  {
   "cell_type": "code",
   "execution_count": 277,
   "metadata": {},
   "outputs": [
    {
     "data": {
      "text/plain": [
       "True"
      ]
     },
     "execution_count": 277,
     "metadata": {},
     "output_type": "execute_result"
    },
    {
     "data": {
      "text/plain": [
       "12078"
      ]
     },
     "execution_count": 277,
     "metadata": {},
     "output_type": "execute_result"
    },
    {
     "data": {
      "text/plain": [
       "'127810'"
      ]
     },
     "execution_count": 277,
     "metadata": {},
     "output_type": "execute_result"
    }
   ],
   "source": [
    "'봉래산' in title\n",
    "title.index('봉래산')\n",
    "CIDs[12078] # 처음에 받은 csv 내 봉래산 poi id 와 일치"
   ]
  },
  {
   "cell_type": "markdown",
   "metadata": {},
   "source": [
    "# [2] cids로 각각 불러와서 csv파일 만들기"
   ]
  },
  {
   "cell_type": "markdown",
   "metadata": {},
   "source": [
    "## i) catinfo.csv 만들기\n",
    "catcd2nm을 용이하게 하기 위한 작업"
   ]
  },
  {
   "cell_type": "code",
   "execution_count": 4,
   "metadata": {},
   "outputs": [],
   "source": [
    "# 각 오퍼레이션 별로 워드에서 검색했을 때, table의 항목구분 열에 1이라고 표시돼있는 필수 파라미터를 다 작성하지 않을 경우 soup 출력시 에러남.\n",
    "\n",
    "API_HOST = 'http://apis.data.go.kr/B551011/KorService/'\n",
    "key = '키키키키키키키키키키키키키키키키' # Encoding key\n",
    "\n",
    "## 오퍼레이션 담은 dic\n",
    "op = {}\n",
    "op['det'] = 'detailCommon' # 공통정보조회\n",
    "op['cat'] = 'categoryCode' # catcd name 조회"
   ]
  },
  {
   "cell_type": "markdown",
   "metadata": {},
   "source": [
    "### cat1_cd를 받아서 그 안 cat 범위인 cat2 조회에 사용"
   ]
  },
  {
   "cell_type": "code",
   "execution_count": 8,
   "metadata": {},
   "outputs": [],
   "source": [
    "# cat_cd를 name으로 바꾸기 위한 조회 (어차피 모든 cat 다 가져옴)\n",
    "url_cat = f'{API_HOST}{op[\"cat\"]}?serviceKey={key}&numOfRows=10&pageNo=1&MobileOS=ETC&MobileApp=AppTest&cat1&cat2&cat3'\n",
    "response_cat = requests.get(url_cat)\n",
    "soup_cat = BeautifulSoup(response_cat.text, 'xml') # parser는 'lxml'로도 가능."
   ]
  },
  {
   "cell_type": "code",
   "execution_count": 9,
   "metadata": {},
   "outputs": [
    {
     "data": {
      "text/plain": [
       "{'A01': '자연',\n",
       " 'A02': '인문(문화/예술/역사)',\n",
       " 'A03': '레포츠',\n",
       " 'A04': '쇼핑',\n",
       " 'A05': '음식',\n",
       " 'B02': '숙박',\n",
       " 'C01': '추천코스'}"
      ]
     },
     "execution_count": 9,
     "metadata": {},
     "output_type": "execute_result"
    }
   ],
   "source": [
    "cat1_cd_lst = [str(i.string) for i in soup_cat.find_all('code')]\n",
    "cat1_nm_lst = [str(i.string) for i in soup_cat.find_all('name')]\n",
    "\n",
    "cat1_cd2nm = {cat1_cd_lst[i]:cat1_nm_lst[i] for i in range(len(cat1_cd_lst))}\n",
    "cat1_cd2nm"
   ]
  },
  {
   "cell_type": "code",
   "execution_count": 25,
   "metadata": {},
   "outputs": [],
   "source": [
    "cat1_cd2nm = {'A01': '자연',\n",
    "              'A02': '인문(문화/예술/역사)',\n",
    "              'A03': '레포츠',\n",
    "              'A04': '쇼핑',\n",
    "              'A05': '음식',\n",
    "              'B02': '숙박',\n",
    "              'C01': '추천코스'}"
   ]
  },
  {
   "cell_type": "markdown",
   "metadata": {},
   "source": [
    "### 중분류 cat2"
   ]
  },
  {
   "cell_type": "code",
   "execution_count": 6,
   "metadata": {
    "collapsed": true,
    "jupyter": {
     "outputs_hidden": true
    }
   },
   "outputs": [
    {
     "name": "stderr",
     "output_type": "stream",
     "text": [
      "100%|██████████| 7/7 [01:55<00:00, 16.46s/it]\n"
     ]
    },
    {
     "data": {
      "text/plain": [
       "{'A01': {'A0101': '자연관광지', 'A0102': '관광자원'},\n",
       " 'A02': {'A0201': '역사관광지',\n",
       "  'A0202': '휴양관광지',\n",
       "  'A0203': '체험관광지',\n",
       "  'A0204': '산업관광지',\n",
       "  'A0205': '건축/조형물',\n",
       "  'A0206': '문화시설',\n",
       "  'A0207': '축제',\n",
       "  'A0208': '공연/행사'},\n",
       " 'A03': {},\n",
       " 'A04': {'A0401': '쇼핑'},\n",
       " 'A05': {},\n",
       " 'B02': {'B0201': '숙박시설'},\n",
       " 'C01': {'C0112': '가족코스',\n",
       "  'C0113': '나홀로코스',\n",
       "  'C0114': '힐링코스',\n",
       "  'C0115': '도보코스',\n",
       "  'C0116': '캠핑코스',\n",
       "  'C0117': '맛코스'}}"
      ]
     },
     "execution_count": 6,
     "metadata": {},
     "output_type": "execute_result"
    }
   ],
   "source": [
    "cat2_cd2nm = {}\n",
    "\n",
    "for i in tqdm(cat1_cd2nm.keys()):\n",
    "#     cat1_cd2nm[i]\n",
    "    \n",
    "    # cat_cd를 name으로 바꾸기 위한 조회 (어차피 모든 cat 다 가져옴)\n",
    "    url_cat2 = f'{API_HOST}{op[\"cat\"]}?serviceKey={key}&numOfRows=10&pageNo=1&MobileOS=ETC&MobileApp=AppTest&cat1={i}&cat2&cat3'\n",
    "    response_cat2 = requests.get(url_cat2)\n",
    "    soup_cat2 = BeautifulSoup(response_cat2.text, 'xml') # parser는 'lxml'로도 가능.\n",
    "#     soup_cat2\n",
    "    \n",
    "    cat2_cd_lst = [str(i.string) for i in soup_cat2.find_all('code')]\n",
    "    cat2_nm_lst = [str(i.string) for i in soup_cat2.find_all('name')]\n",
    "    cat2_cd2nm[i] = {cat2_cd_lst[j]:cat2_nm_lst[j] for j in range(len(cat2_cd_lst))}\n",
    "#     break\n",
    "\n",
    "cat2_cd2nm"
   ]
  },
  {
   "cell_type": "code",
   "execution_count": 5,
   "metadata": {},
   "outputs": [],
   "source": [
    "cat2_cd2nm = {'A01': {'A0101': '자연관광지', 'A0102': '관광자원'},\n",
    "              'A02': {'A0201': '역사관광지',\n",
    "                      'A0202': '휴양관광지',\n",
    "                      'A0203': '체험관광지',\n",
    "                      'A0204': '산업관광지',\n",
    "                      'A0205': '건축/조형물',\n",
    "                      'A0206': '문화시설',\n",
    "                      'A0207': '축제',\n",
    "                      'A0208': '공연/행사'},\n",
    "              'A03': {},\n",
    "              'A04': {'A0401': '쇼핑'},\n",
    "              'A05': {},\n",
    "              'B02': {'B0201': '숙박시설'},\n",
    "              'C01': {'C0112': '가족코스',\n",
    "                      'C0113': '나홀로코스',\n",
    "                      'C0114': '힐링코스',\n",
    "                      'C0115': '도보코스',\n",
    "                      'C0116': '캠핑코스',\n",
    "                      'C0117': '맛코스'}}"
   ]
  },
  {
   "cell_type": "code",
   "execution_count": 7,
   "metadata": {},
   "outputs": [
    {
     "data": {
      "text/plain": [
       "{}"
      ]
     },
     "execution_count": 7,
     "metadata": {},
     "output_type": "execute_result"
    }
   ],
   "source": []
  },
  {
   "cell_type": "markdown",
   "metadata": {},
   "source": [
    "### 소분류 cat3"
   ]
  },
  {
   "cell_type": "code",
   "execution_count": 6,
   "metadata": {
    "collapsed": true,
    "jupyter": {
     "outputs_hidden": true
    }
   },
   "outputs": [
    {
     "name": "stderr",
     "output_type": "stream",
     "text": [
      "100%|██████████| 7/7 [06:25<00:00, 55.04s/it] \n"
     ]
    },
    {
     "data": {
      "text/plain": [
       "{'A01_A0101': {},\n",
       " 'A01_A0102': {},\n",
       " 'A02_A0201': {'A02010100': '고궁',\n",
       "  'A02010200': '성',\n",
       "  'A02010300': '문',\n",
       "  'A02010400': '고택',\n",
       "  'A02010500': '생가',\n",
       "  'A02010600': '민속마을',\n",
       "  'A02010700': '유적지/사적지',\n",
       "  'A02010800': '사찰',\n",
       "  'A02010900': '종교성지',\n",
       "  'A02011000': '안보관광'},\n",
       " 'A02_A0202': {},\n",
       " 'A02_A0203': {'A02030100': '농.산.어촌 체험',\n",
       "  'A02030200': '전통체험',\n",
       "  'A02030300': '산사체험',\n",
       "  'A02030400': '이색체험',\n",
       "  'A02030500': '관광농원',\n",
       "  'A02030600': '이색거리'},\n",
       " 'A02_A0204': {},\n",
       " 'A02_A0205': {'A02050100': '다리/대교',\n",
       "  'A02050200': '기념탑/기념비/전망대',\n",
       "  'A02050300': '분수',\n",
       "  'A02050400': '동상',\n",
       "  'A02050500': '터널',\n",
       "  'A02050600': '유명건물'},\n",
       " 'A02_A0206': {'A02060100': '박물관',\n",
       "  'A02060200': '기념관',\n",
       "  'A02060300': '전시관',\n",
       "  'A02060400': '컨벤션센터',\n",
       "  'A02060500': '미술관/화랑',\n",
       "  'A02060600': '공연장',\n",
       "  'A02060700': '문화원',\n",
       "  'A02060800': '외국문화원',\n",
       "  'A02060900': '도서관',\n",
       "  'A02061000': '대형서점'},\n",
       " 'A02_A0207': {'A02070100': '문화관광축제', 'A02070200': '일반축제'},\n",
       " 'A02_A0208': {},\n",
       " 'A04_A0401': {},\n",
       " 'B02_B0201': {'B02010100': '관광호텔',\n",
       "  'B02010200': '수상관광호텔',\n",
       "  'B02010300': '전통호텔',\n",
       "  'B02010400': '가족호텔',\n",
       "  'B02010500': '콘도미니엄',\n",
       "  'B02010600': '유스호스텔',\n",
       "  'B02010700': '펜션',\n",
       "  'B02010800': '여관',\n",
       "  'B02010900': '모텔',\n",
       "  'B02011000': '민박'},\n",
       " 'C01_C0112': {},\n",
       " 'C01_C0113': {},\n",
       " 'C01_C0114': {},\n",
       " 'C01_C0115': {},\n",
       " 'C01_C0116': {'C01160001': '캠핑코스'},\n",
       " 'C01_C0117': {'C01170001': '맛코스'}}"
      ]
     },
     "execution_count": 6,
     "metadata": {},
     "output_type": "execute_result"
    }
   ],
   "source": [
    "cat3_cd2nm = {}\n",
    "\n",
    "for i in tqdm(cat2_cd2nm.keys()):\n",
    "\n",
    "    for k in cat2_cd2nm[i].keys():\n",
    "        # cat_cd를 name으로 바꾸기 위한 조회 (어차피 모든 cat 다 가져옴)\n",
    "        url_cat3 = f'{API_HOST}{op[\"cat\"]}?serviceKey={key}&numOfRows=10&pageNo=1&MobileOS=ETC&MobileApp=AppTest&cat1={i}&cat2={k}&cat3'\n",
    "        response_cat3 = requests.get(url_cat3)\n",
    "        soup_cat3 = BeautifulSoup(response_cat3.text, 'xml') # parser는 'lxml'로도 가능.\n",
    "\n",
    "        cat3_cd_lst = [str(i.string) for i in soup_cat3.find_all('code')]\n",
    "        cat3_nm_lst = [str(i.string) for i in soup_cat3.find_all('name')]\n",
    "        cat3_cd2nm[f'{i}_{k}'] = {cat3_cd_lst[j]:cat3_nm_lst[j] for j in range(len(cat3_cd_lst))}\n",
    "\n",
    "cat3_cd2nm"
   ]
  },
  {
   "cell_type": "code",
   "execution_count": null,
   "metadata": {},
   "outputs": [],
   "source": [
    "cat3_cd2nm = {'A01_A0101': {},\n",
    "              'A01_A0102': {},\n",
    "              'A02_A0201': {'A02010100': '고궁',\n",
    "                            'A02010200': '성',\n",
    "                            'A02010300': '문',\n",
    "                            'A02010400': '고택',\n",
    "                            'A02010500': '생가',\n",
    "                            'A02010600': '민속마을',\n",
    "                            'A02010700': '유적지/사적지',\n",
    "                            'A02010800': '사찰',\n",
    "                            'A02010900': '종교성지',\n",
    "                            'A02011000': '안보관광'},\n",
    "              'A02_A0202': {},\n",
    "              'A02_A0203': {'A02030100': '농.산.어촌 체험',\n",
    "                            'A02030200': '전통체험',\n",
    "                            'A02030300': '산사체험',\n",
    "                            'A02030400': '이색체험',\n",
    "                            'A02030500': '관광농원',\n",
    "                            'A02030600': '이색거리'},\n",
    "              'A02_A0204': {},\n",
    "              'A02_A0205': {'A02050100': '다리/대교',\n",
    "                            'A02050200': '기념탑/기념비/전망대',\n",
    "                            'A02050300': '분수',\n",
    "                            'A02050400': '동상',\n",
    "                            'A02050500': '터널',\n",
    "                            'A02050600': '유명건물'},\n",
    "              'A02_A0206': {'A02060100': '박물관',\n",
    "                            'A02060200': '기념관',\n",
    "                            'A02060300': '전시관',\n",
    "                            'A02060400': '컨벤션센터',\n",
    "                            'A02060500': '미술관/화랑',\n",
    "                            'A02060600': '공연장',\n",
    "                            'A02060700': '문화원',\n",
    "                            'A02060800': '외국문화원',\n",
    "                            'A02060900': '도서관',\n",
    "                            'A02061000': '대형서점'},\n",
    "              'A02_A0207': {'A02070100': '문화관광축제', 'A02070200': '일반축제'},\n",
    "              'A02_A0208': {},\n",
    "              'A04_A0401': {},\n",
    "              'B02_B0201': {'B02010100': '관광호텔',\n",
    "                            'B02010200': '수상관광호텔',\n",
    "                            'B02010300': '전통호텔',\n",
    "                            'B02010400': '가족호텔',\n",
    "                            'B02010500': '콘도미니엄',\n",
    "                            'B02010600': '유스호스텔',\n",
    "                            'B02010700': '펜션',\n",
    "                            'B02010800': '여관',\n",
    "                            'B02010900': '모텔',\n",
    "                            'B02011000': '민박'},\n",
    "              'C01_C0112': {},\n",
    "              'C01_C0113': {},\n",
    "              'C01_C0114': {},\n",
    "              'C01_C0115': {},\n",
    "              'C01_C0116': {'C01160001': '캠핑코스'},\n",
    "              'C01_C0117': {'C01170001': '맛코스'}}"
   ]
  },
  {
   "cell_type": "code",
   "execution_count": 26,
   "metadata": {},
   "outputs": [],
   "source": [
    "cat_cd_l1 = [] # code list\n",
    "cat_cd_l2 = [] # code list\n",
    "cat_cd_l3 = [] # code list\n",
    "cat_nm_l1 = [] # name list\n",
    "cat_nm_l2 = [] # name list\n",
    "cat_nm_l3 = [] # name list\n",
    "for i in cat3_cd2nm.keys():\n",
    "#     i\n",
    "    c = i.split('_')\n",
    "    c1 = c[0]\n",
    "    c2 = c[1]\n",
    "    for j in cat3_cd2nm[i].keys():\n",
    "#         j\n",
    "#         cat3_cd2nm[i][j]\n",
    "        cat_cd_l1.append(c1)\n",
    "        cat_cd_l2.append(c2)\n",
    "        cat_cd_l3.append(j)\n",
    "        cat_nm_l1.append(cat1_cd2nm[c1])\n",
    "        cat_nm_l2.append(cat2_cd2nm[c1][c2])\n",
    "        cat_nm_l3.append(cat3_cd2nm[i][j])"
   ]
  },
  {
   "cell_type": "code",
   "execution_count": 28,
   "metadata": {},
   "outputs": [
    {
     "data": {
      "text/plain": [
       "True"
      ]
     },
     "execution_count": 28,
     "metadata": {},
     "output_type": "execute_result"
    }
   ],
   "source": [
    "len(cat_cd_l1) == len(cat_cd_l2) == len(cat_cd_l3) == len(cat_nm_l1) == len(cat_nm_l2) == len(cat_nm_l3)"
   ]
  },
  {
   "cell_type": "code",
   "execution_count": 31,
   "metadata": {},
   "outputs": [
    {
     "data": {
      "text/html": [
       "<div>\n",
       "<style scoped>\n",
       "    .dataframe tbody tr th:only-of-type {\n",
       "        vertical-align: middle;\n",
       "    }\n",
       "\n",
       "    .dataframe tbody tr th {\n",
       "        vertical-align: top;\n",
       "    }\n",
       "\n",
       "    .dataframe thead th {\n",
       "        text-align: right;\n",
       "    }\n",
       "</style>\n",
       "<table border=\"1\" class=\"dataframe\">\n",
       "  <thead>\n",
       "    <tr style=\"text-align: right;\">\n",
       "      <th></th>\n",
       "      <th>cat1cd</th>\n",
       "      <th>cat2cd</th>\n",
       "      <th>cat3cd</th>\n",
       "      <th>cat1nm</th>\n",
       "      <th>cat2nm</th>\n",
       "      <th>cat3nm</th>\n",
       "    </tr>\n",
       "  </thead>\n",
       "  <tbody>\n",
       "    <tr>\n",
       "      <th>0</th>\n",
       "      <td>A02</td>\n",
       "      <td>A0201</td>\n",
       "      <td>A02010100</td>\n",
       "      <td>인문(문화/예술/역사)</td>\n",
       "      <td>역사관광지</td>\n",
       "      <td>고궁</td>\n",
       "    </tr>\n",
       "    <tr>\n",
       "      <th>1</th>\n",
       "      <td>A02</td>\n",
       "      <td>A0201</td>\n",
       "      <td>A02010200</td>\n",
       "      <td>인문(문화/예술/역사)</td>\n",
       "      <td>역사관광지</td>\n",
       "      <td>성</td>\n",
       "    </tr>\n",
       "    <tr>\n",
       "      <th>2</th>\n",
       "      <td>A02</td>\n",
       "      <td>A0201</td>\n",
       "      <td>A02010300</td>\n",
       "      <td>인문(문화/예술/역사)</td>\n",
       "      <td>역사관광지</td>\n",
       "      <td>문</td>\n",
       "    </tr>\n",
       "    <tr>\n",
       "      <th>3</th>\n",
       "      <td>A02</td>\n",
       "      <td>A0201</td>\n",
       "      <td>A02010400</td>\n",
       "      <td>인문(문화/예술/역사)</td>\n",
       "      <td>역사관광지</td>\n",
       "      <td>고택</td>\n",
       "    </tr>\n",
       "    <tr>\n",
       "      <th>4</th>\n",
       "      <td>A02</td>\n",
       "      <td>A0201</td>\n",
       "      <td>A02010500</td>\n",
       "      <td>인문(문화/예술/역사)</td>\n",
       "      <td>역사관광지</td>\n",
       "      <td>생가</td>\n",
       "    </tr>\n",
       "  </tbody>\n",
       "</table>\n",
       "</div>"
      ],
      "text/plain": [
       "  cat1cd cat2cd     cat3cd        cat1nm cat2nm cat3nm\n",
       "0    A02  A0201  A02010100  인문(문화/예술/역사)  역사관광지     고궁\n",
       "1    A02  A0201  A02010200  인문(문화/예술/역사)  역사관광지      성\n",
       "2    A02  A0201  A02010300  인문(문화/예술/역사)  역사관광지      문\n",
       "3    A02  A0201  A02010400  인문(문화/예술/역사)  역사관광지     고택\n",
       "4    A02  A0201  A02010500  인문(문화/예술/역사)  역사관광지     생가"
      ]
     },
     "execution_count": 31,
     "metadata": {},
     "output_type": "execute_result"
    }
   ],
   "source": [
    "catinfo = pd.DataFrame({'cat1cd':cat_cd_l1,\n",
    "                        'cat2cd':cat_cd_l2,\n",
    "                        'cat3cd':cat_cd_l3,\n",
    "                        'cat1nm':cat_nm_l1,\n",
    "                        'cat2nm':cat_nm_l2,\n",
    "                        'cat3nm':cat_nm_l3})\n",
    "catinfo.head()"
   ]
  },
  {
   "cell_type": "code",
   "execution_count": 32,
   "metadata": {},
   "outputs": [],
   "source": [
    "# catinfo.to_csv('catinfo.csv', index=False)"
   ]
  },
  {
   "cell_type": "markdown",
   "metadata": {},
   "source": [
    "# #################################### 실행해야할 부분"
   ]
  },
  {
   "cell_type": "markdown",
   "metadata": {},
   "source": [
    "## ii) csv values를 위한 조회\n",
    "cat이 cd로 출력되는데 이것은 나중에 mapping으로 바꿔주기로 한다."
   ]
  },
  {
   "cell_type": "code",
   "execution_count": 2,
   "metadata": {},
   "outputs": [],
   "source": [
    "CIDs = pd.read_csv('cids.csv')\n",
    "cids = list(CIDs['cid'].values)"
   ]
  },
  {
   "cell_type": "code",
   "execution_count": 3,
   "metadata": {},
   "outputs": [
    {
     "data": {
      "text/plain": [
       "34035"
      ]
     },
     "execution_count": 3,
     "metadata": {},
     "output_type": "execute_result"
    }
   ],
   "source": [
    "len(cids)"
   ]
  },
  {
   "cell_type": "code",
   "execution_count": 7,
   "metadata": {},
   "outputs": [
    {
     "name": "stderr",
     "output_type": "stream",
     "text": [
      "0it [00:00, ?it/s]"
     ]
    },
    {
     "name": "stdout",
     "output_type": "stream",
     "text": [
      "Request OK\n"
     ]
    },
    {
     "data": {
      "text/plain": [
       "<?xml version=\"1.0\" encoding=\"utf-8\"?>\n",
       "<OpenAPI_ServiceResponse>\n",
       "<cmmMsgHeader>\n",
       "<errMsg>SERVICE ERROR</errMsg>\n",
       "<returnAuthMsg>HTTP_ERROR</returnAuthMsg>\n",
       "<returnReasonCode>04</returnReasonCode>\n",
       "</cmmMsgHeader>\n",
       "</OpenAPI_ServiceResponse>"
      ]
     },
     "execution_count": 7,
     "metadata": {},
     "output_type": "execute_result"
    },
    {
     "name": "stderr",
     "output_type": "stream",
     "text": [
      "0it [01:00, ?it/s]\n"
     ]
    },
    {
     "ename": "AttributeError",
     "evalue": "'NoneType' object has no attribute 'string'",
     "output_type": "error",
     "traceback": [
      "\u001b[0;31m---------------------------------------------------------------------------\u001b[0m",
      "\u001b[0;31mAttributeError\u001b[0m                            Traceback (most recent call last)",
      "\u001b[0;32m<ipython-input-7-05c33a0f63f1>\u001b[0m in \u001b[0;36m<module>\u001b[0;34m\u001b[0m\n\u001b[1;32m     43\u001b[0m \u001b[0;34m\u001b[0m\u001b[0m\n\u001b[1;32m     44\u001b[0m     \u001b[0;31m## values\u001b[0m\u001b[0;34m\u001b[0m\u001b[0;34m\u001b[0m\u001b[0;34m\u001b[0m\u001b[0m\n\u001b[0;32m---> 45\u001b[0;31m     \u001b[0;32mif\u001b[0m \u001b[0msoup\u001b[0m\u001b[0;34m.\u001b[0m\u001b[0mfirstimage\u001b[0m\u001b[0;34m.\u001b[0m\u001b[0mstring\u001b[0m\u001b[0;34m:\u001b[0m\u001b[0;34m\u001b[0m\u001b[0;34m\u001b[0m\u001b[0m\n\u001b[0m\u001b[1;32m     46\u001b[0m         \u001b[0mimgurl1\u001b[0m \u001b[0;34m=\u001b[0m \u001b[0msoup\u001b[0m\u001b[0;34m.\u001b[0m\u001b[0mfirstimage\u001b[0m\u001b[0;34m.\u001b[0m\u001b[0mstring\u001b[0m\u001b[0;34m\u001b[0m\u001b[0;34m\u001b[0m\u001b[0m\n\u001b[1;32m     47\u001b[0m     \u001b[0;32melse\u001b[0m\u001b[0;34m:\u001b[0m\u001b[0;34m\u001b[0m\u001b[0;34m\u001b[0m\u001b[0m\n",
      "\u001b[0;31mAttributeError\u001b[0m: 'NoneType' object has no attribute 'string'"
     ]
    }
   ],
   "source": [
    "# 각 오퍼레이션 별로 워드에서 검색했을 때, table의 항목구분 열에 1이라고 표시돼있는 필수 파라미터를 다 작성하지 않을 경우 soup 출력시 에러남.\n",
    "\n",
    "API_HOST = 'http://apis.data.go.kr/B551011/KorService/'\n",
    "key = '키키키키키키키키키키키키키키키키' # Encoding key\n",
    "\n",
    "## 오퍼레이션 담은 dic\n",
    "op = {}\n",
    "op['det'] = 'detailCommon' # 공통정보조회\n",
    "op['cat'] = 'categoryCode' # catcd name 조회\n",
    "\n",
    "\n",
    "# 선택 조회\n",
    "fimg = 'firstImageYN' # 대표이미지조회\n",
    "ov = 'overviewYN' # 개요조회\n",
    "catcd = 'catcodeYN' # 서비스분류코드조회\n",
    "ar = 'areacodeYN' # 지역코드조회\n",
    "addr = 'addrinfoYN'# 주소조회\n",
    "mapin4 = 'mapinfoYN'# 좌표조회\n",
    "\n",
    "\n",
    "\n",
    "# CID = cids[0]\n",
    "# # csv values를 위한 조회\n",
    "# url = f'{API_HOST}{op[\"det\"]}?serviceKey={key}&numOfRows=10&pageNo=1&MobileOS=ETC&MobileApp=AppTest&contentId={CID}&defaultYN=Y&{fimg}=Y&{ov}=Y&{catcd}=Y&{ar}=Y&{addr}=Y&{mapin4}=Y'\n",
    "# response = requests.get(url)\n",
    "# soup = BeautifulSoup(response.text, 'xml') # parser는 'lxml'로도 가능.\n",
    "\n",
    "\n",
    "cnt = 0\n",
    "df = pd.DataFrame()\n",
    "for enu, CID in tqdm(enumerate(cids)):\n",
    "    # p81, content id가 ~~인 공통정보의 '기본정보' '대표이미지' '개요' 조회\n",
    "    url = f'{API_HOST}{op[\"det\"]}?serviceKey={key}&numOfRows=10&pageNo=1&MobileOS=ETC&MobileApp=AppTest&contentId={CID}&defaultYN=Y&{fimg}=Y&{ov}=Y&{catcd}=Y&{mapin4}=Y'#&{ar}=Y&{addr}=Y\n",
    "    response = requests.get(url)\n",
    "    if (response.status_code == 200) | (response.ok) :\n",
    "        print('Request OK')\n",
    "    else:\n",
    "        print(response.status_code)\n",
    "    \n",
    "    soup = BeautifulSoup(response.text, 'xml') # parser는 'lxml'로도 가능.\n",
    "    \n",
    "    soup\n",
    "    \n",
    "    ## values\n",
    "    if soup.firstimage.string:\n",
    "        imgurl1 = soup.firstimage.string\n",
    "    else:\n",
    "        imgurl1 = np.NaN\n",
    "\n",
    "    if soup.firstimage2.string:\n",
    "        imgurl2 = soup.firstimage2.string\n",
    "    else:\n",
    "        imgurl2 = np.NaN\n",
    "    ovvw = soup.overview.string\n",
    "    cat1_ = soup.cat1.string\n",
    "    cat2_ = soup.cat2.string\n",
    "    cat3_ = soup.cat3.string\n",
    "    \n",
    "    ## tmp_df\n",
    "    tmp_df = pd.DataFrame({'cid' : [CID],\n",
    "                           'imgurl1' : [imgurl1],\n",
    "                           'imgurl2' : [imgurl2],\n",
    "                           'overview' : [ovvw],\n",
    "                           'cat1' : [cat1_],\n",
    "                           'cat2' : [cat2_],\n",
    "                           'cat3' : [cat3_]})\n",
    "    ## concat & df update\n",
    "    df = pd.concat([df, tmp_df], ignore_index = True)\n",
    "    \n",
    "    cnt\n",
    "    cnt+=1\n",
    "#     if enu > 2: # break를 거는 위치가 코드가 다 끝난 다음이니까 2번째까지는 하고 멈추라는 거임.\n",
    "#         break"
   ]
  },
  {
   "cell_type": "code",
   "execution_count": 38,
   "metadata": {},
   "outputs": [
    {
     "data": {
      "text/plain": [
       "<?xml version=\"1.0\" encoding=\"utf-8\"?>\n",
       "<OpenAPI_ServiceResponse>\n",
       "<cmmMsgHeader>\n",
       "<errMsg>SERVICE ERROR</errMsg>\n",
       "<returnAuthMsg>HTTP_ERROR</returnAuthMsg>\n",
       "<returnReasonCode>04</returnReasonCode>\n",
       "</cmmMsgHeader>\n",
       "</OpenAPI_ServiceResponse>"
      ]
     },
     "execution_count": 38,
     "metadata": {},
     "output_type": "execute_result"
    }
   ],
   "source": [
    "soup"
   ]
  },
  {
   "cell_type": "markdown",
   "metadata": {},
   "source": [
    "- cid 개수 업데이트 되는 문제\n",
    "- 여전히 앞쪽 번호는 없는 문제\n",
    "- cat이 이름이 아닌 id로 출력되는 문제 (catinfo)\n",
    "- for loop을 계속 돌렸을 때 loop 초반에 자꾸 HTTP error가 발생하는 문제"
   ]
  },
  {
   "cell_type": "code",
   "execution_count": 9,
   "metadata": {},
   "outputs": [
    {
     "data": {
      "text/html": [
       "<div>\n",
       "<style scoped>\n",
       "    .dataframe tbody tr th:only-of-type {\n",
       "        vertical-align: middle;\n",
       "    }\n",
       "\n",
       "    .dataframe tbody tr th {\n",
       "        vertical-align: top;\n",
       "    }\n",
       "\n",
       "    .dataframe thead th {\n",
       "        text-align: right;\n",
       "    }\n",
       "</style>\n",
       "<table border=\"1\" class=\"dataframe\">\n",
       "  <thead>\n",
       "    <tr style=\"text-align: right;\">\n",
       "      <th></th>\n",
       "      <th>cid</th>\n",
       "      <th>imgurl1</th>\n",
       "      <th>imgurl2</th>\n",
       "      <th>overview</th>\n",
       "      <th>cat1</th>\n",
       "      <th>cat2</th>\n",
       "      <th>cat3</th>\n",
       "    </tr>\n",
       "  </thead>\n",
       "  <tbody>\n",
       "    <tr>\n",
       "      <th>0</th>\n",
       "      <td>2750144</td>\n",
       "      <td>NaN</td>\n",
       "      <td>NaN</td>\n",
       "      <td>공주시 원도심에 자리잡은 가가상점은 공주 지역에서 활동하는 예술가 단체, 화가, 공...</td>\n",
       "      <td>A04</td>\n",
       "      <td>A0401</td>\n",
       "      <td>A04010600</td>\n",
       "    </tr>\n",
       "    <tr>\n",
       "      <th>1</th>\n",
       "      <td>2805408</td>\n",
       "      <td>NaN</td>\n",
       "      <td>NaN</td>\n",
       "      <td>100%수제돈까스로 만들며 얼리지 않은 1등급 생등심만을 사용하고 있다. 방부제를 ...</td>\n",
       "      <td>A05</td>\n",
       "      <td>A0502</td>\n",
       "      <td>A05020300</td>\n",
       "    </tr>\n",
       "    <tr>\n",
       "      <th>2</th>\n",
       "      <td>2750143</td>\n",
       "      <td>NaN</td>\n",
       "      <td>NaN</td>\n",
       "      <td>조용하고 고즈넉한 골목길에 자리잡은 가가책방은 아담하고 포근한 아지트 느낌이 가득한...</td>\n",
       "      <td>A02</td>\n",
       "      <td>A0206</td>\n",
       "      <td>A02061000</td>\n",
       "    </tr>\n",
       "    <tr>\n",
       "      <th>3</th>\n",
       "      <td>983886</td>\n",
       "      <td>http://tong.visitkorea.or.kr/cms/resource/85/1...</td>\n",
       "      <td>http://tong.visitkorea.or.kr/cms/resource/85/1...</td>\n",
       "      <td>가가펜션은 절기마다 녹음과 단풍으로 수놓은 중미산 자연휴양림 계곡에 위치하고 있으며...</td>\n",
       "      <td>B02</td>\n",
       "      <td>B0201</td>\n",
       "      <td>B02010700</td>\n",
       "    </tr>\n",
       "  </tbody>\n",
       "</table>\n",
       "</div>"
      ],
      "text/plain": [
       "       cid                                            imgurl1  \\\n",
       "0  2750144                                                NaN   \n",
       "1  2805408                                                NaN   \n",
       "2  2750143                                                NaN   \n",
       "3   983886  http://tong.visitkorea.or.kr/cms/resource/85/1...   \n",
       "\n",
       "                                             imgurl2  \\\n",
       "0                                                NaN   \n",
       "1                                                NaN   \n",
       "2                                                NaN   \n",
       "3  http://tong.visitkorea.or.kr/cms/resource/85/1...   \n",
       "\n",
       "                                            overview cat1   cat2       cat3  \n",
       "0  공주시 원도심에 자리잡은 가가상점은 공주 지역에서 활동하는 예술가 단체, 화가, 공...  A04  A0401  A04010600  \n",
       "1  100%수제돈까스로 만들며 얼리지 않은 1등급 생등심만을 사용하고 있다. 방부제를 ...  A05  A0502  A05020300  \n",
       "2  조용하고 고즈넉한 골목길에 자리잡은 가가책방은 아담하고 포근한 아지트 느낌이 가득한...  A02  A0206  A02061000  \n",
       "3  가가펜션은 절기마다 녹음과 단풍으로 수놓은 중미산 자연휴양림 계곡에 위치하고 있으며...  B02  B0201  B02010700  "
      ]
     },
     "execution_count": 9,
     "metadata": {},
     "output_type": "execute_result"
    }
   ],
   "source": [
    "df"
   ]
  },
  {
   "cell_type": "code",
   "execution_count": null,
   "metadata": {},
   "outputs": [],
   "source": []
  },
  {
   "cell_type": "code",
   "execution_count": null,
   "metadata": {},
   "outputs": [],
   "source": []
  },
  {
   "cell_type": "code",
   "execution_count": 348,
   "metadata": {},
   "outputs": [
    {
     "data": {
      "text/plain": [
       "nan"
      ]
     },
     "execution_count": 348,
     "metadata": {},
     "output_type": "execute_result"
    },
    {
     "data": {
      "text/plain": [
       "nan"
      ]
     },
     "execution_count": 348,
     "metadata": {},
     "output_type": "execute_result"
    },
    {
     "data": {
      "text/plain": [
       "'공주시 원도심에 자리잡은 가가상점은 공주 지역에서 활동하는 예술가 단체, 화가, 공방들이 기획하고 제작한 로컬 굿즈를 판매하고 있으며, 여행자와 방문자를 위한 추천 도서와 관련 상품들도 판매하고 있다.<br>'"
      ]
     },
     "execution_count": 348,
     "metadata": {},
     "output_type": "execute_result"
    },
    {
     "data": {
      "text/plain": [
       "'A04'"
      ]
     },
     "execution_count": 348,
     "metadata": {},
     "output_type": "execute_result"
    },
    {
     "data": {
      "text/plain": [
       "'A0401'"
      ]
     },
     "execution_count": 348,
     "metadata": {},
     "output_type": "execute_result"
    },
    {
     "data": {
      "text/plain": [
       "'A04010600'"
      ]
     },
     "execution_count": 348,
     "metadata": {},
     "output_type": "execute_result"
    }
   ],
   "source": [
    "# for loop을 위한 base\n",
    "# catid는 for loop에서 받기\n",
    "\n",
    "if soup.firstimage.string:\n",
    "    imgurl1 = soup.firstimage.string\n",
    "else:\n",
    "    imgurl1 = np.NaN\n",
    "    \n",
    "if soup.firstimage2.string:\n",
    "    imgurl2 = soup.firstimage2.string\n",
    "else:\n",
    "    imgurl2 = np.NaN\n",
    "    \n",
    "ovvw = soup.overview.string\n",
    "cat1_ = soup.cat1.string\n",
    "cat2_ = soup.cat2.string\n",
    "cat3_ = soup.cat3.string\n",
    "\n",
    "imgurl1\n",
    "imgurl2\n",
    "ovvw\n",
    "cat1_\n",
    "cat2_\n",
    "cat3_"
   ]
  },
  {
   "cell_type": "markdown",
   "metadata": {},
   "source": [
    "# 가장 이상적인 df 결과"
   ]
  },
  {
   "cell_type": "code",
   "execution_count": 354,
   "metadata": {},
   "outputs": [
    {
     "data": {
      "text/html": [
       "<div>\n",
       "<style scoped>\n",
       "    .dataframe tbody tr th:only-of-type {\n",
       "        vertical-align: middle;\n",
       "    }\n",
       "\n",
       "    .dataframe tbody tr th {\n",
       "        vertical-align: top;\n",
       "    }\n",
       "\n",
       "    .dataframe thead th {\n",
       "        text-align: right;\n",
       "    }\n",
       "</style>\n",
       "<table border=\"1\" class=\"dataframe\">\n",
       "  <thead>\n",
       "    <tr style=\"text-align: right;\">\n",
       "      <th></th>\n",
       "      <th>imgurl1</th>\n",
       "      <th>imgurl2</th>\n",
       "      <th>ovvw</th>\n",
       "      <th>cat1_</th>\n",
       "      <th>cat2_</th>\n",
       "      <th>cat3_</th>\n",
       "    </tr>\n",
       "  </thead>\n",
       "  <tbody>\n",
       "    <tr>\n",
       "      <th>0</th>\n",
       "      <td>NaN</td>\n",
       "      <td>NaN</td>\n",
       "      <td>공주시 원도심에 자리잡은 가가상점은 공주 지역에서 활동하는 예술가 단체, 화가, 공...</td>\n",
       "      <td>A04</td>\n",
       "      <td>A0401</td>\n",
       "      <td>A04010600</td>\n",
       "    </tr>\n",
       "  </tbody>\n",
       "</table>\n",
       "</div>"
      ],
      "text/plain": [
       "   imgurl1  imgurl2                                               ovvw cat1_  \\\n",
       "0      NaN      NaN  공주시 원도심에 자리잡은 가가상점은 공주 지역에서 활동하는 예술가 단체, 화가, 공...   A04   \n",
       "\n",
       "   cat2_      cat3_  \n",
       "0  A0401  A04010600  "
      ]
     },
     "execution_count": 354,
     "metadata": {},
     "output_type": "execute_result"
    }
   ],
   "source": [
    "df = pd.DataFrame({'imgurl1' : [imgurl1],\n",
    "'imgurl2' : [imgurl2],\n",
    "'ovvw' : [ovvw],\n",
    "'cat1_' : [cat1_],\n",
    "'cat2_' : [cat2_],\n",
    "'cat3_' : [cat3_]}, index = [0])\n",
    "df"
   ]
  },
  {
   "cell_type": "markdown",
   "metadata": {},
   "source": [
    "## 매칭테스트 2"
   ]
  },
  {
   "cell_type": "code",
   "execution_count": 214,
   "metadata": {},
   "outputs": [
    {
     "data": {
      "text/plain": [
       "125405"
      ]
     },
     "execution_count": 214,
     "metadata": {},
     "output_type": "execute_result"
    }
   ],
   "source": [
    "type(cids.iloc[1].values[0])\n",
    "cids.iloc[1].values[0]"
   ]
  },
  {
   "cell_type": "code",
   "execution_count": 216,
   "metadata": {},
   "outputs": [
    {
     "data": {
      "text/plain": [
       "[2832111,\n",
       " 2832112,\n",
       " 2832118,\n",
       " 2832133,\n",
       " 2832135,\n",
       " 2832136,\n",
       " 2832140,\n",
       " 2832154,\n",
       " 2832160,\n",
       " 2832164]"
      ]
     },
     "execution_count": 216,
     "metadata": {},
     "output_type": "execute_result"
    }
   ],
   "source": [
    "'0000059' in CIDs\n",
    "sorted(intCIDs)[-10:] # [:10]# , reverse = True"
   ]
  }
 ],
 "metadata": {
  "kernelspec": {
   "display_name": "Python 3.10.3 64-bit",
   "language": "python",
   "name": "python3"
  },
  "language_info": {
   "codemirror_mode": {
    "name": "ipython",
    "version": 3
   },
   "file_extension": ".py",
   "mimetype": "text/x-python",
   "name": "python",
   "nbconvert_exporter": "python",
   "pygments_lexer": "ipython3",
   "version": "3.10.3"
  },
  "vscode": {
   "interpreter": {
    "hash": "6de9cc75f9ee67ec1b5b535deb0e285a51ecb5d2bba828a4a3451b05a2c1454b"
   }
  }
 },
 "nbformat": 4,
 "nbformat_minor": 4
}
