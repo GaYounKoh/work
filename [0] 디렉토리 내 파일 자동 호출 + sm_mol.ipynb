{
 "cells": [
  {
   "cell_type": "markdown",
   "id": "20726c25",
   "metadata": {},
   "source": [
    "[os 방식 참고](https://bskyvision.com/762)"
   ]
  },
  {
   "cell_type": "markdown",
   "id": "e4efffd5",
   "metadata": {},
   "source": [
    "# 동하님 방식\n",
    "[glob 방식 참고](https://wikidocs.net/83)"
   ]
  },
  {
   "cell_type": "code",
   "execution_count": null,
   "id": "be41c135",
   "metadata": {},
   "outputs": [],
   "source": [
    "from glob import glob\n",
    "import pandas as pd"
   ]
  },
  {
   "cell_type": "code",
   "execution_count": null,
   "id": "744580a0",
   "metadata": {},
   "outputs": [],
   "source": [
    "ls"
   ]
  },
  {
   "cell_type": "code",
   "execution_count": null,
   "id": "a62d016e",
   "metadata": {},
   "outputs": [],
   "source": [
    "file_list = glob(\"C:/Users/uuuu/Downloads*\") # 폴더 명에 []있으면 못읽음.\n",
    "file_list#[1]\n",
    "# pd.read_excel(file_list[0])"
   ]
  },
  {
   "cell_type": "code",
   "execution_count": null,
   "id": "c8f4cda8",
   "metadata": {},
   "outputs": [],
   "source": [
    "## 현재 dir내 dir만 모두 불러오기\n",
    "glob('*/')"
   ]
  },
  {
   "cell_type": "code",
   "execution_count": null,
   "id": "2d2db4dc",
   "metadata": {},
   "outputs": [],
   "source": [
    "## 현재 dir내 모든 파일 불러오기\n",
    "glob('*')"
   ]
  },
  {
   "cell_type": "code",
   "execution_count": null,
   "id": "a3100a81",
   "metadata": {},
   "outputs": [],
   "source": [
    "## 현재 dir내 확장자 .png인 파일만 모두 불러오기\n",
    "glob('*.png')"
   ]
  },
  {
   "cell_type": "code",
   "execution_count": null,
   "id": "4b860c68",
   "metadata": {},
   "outputs": [],
   "source": [
    "## 현재 dir내 확장자 .xlsx인 파일만 모두 불러오기\n",
    "glob('*.xlsx')"
   ]
  },
  {
   "cell_type": "code",
   "execution_count": null,
   "id": "c65cf371",
   "metadata": {},
   "outputs": [],
   "source": [
    "## 현재 dir내 확장자 .ipynb인 파일만 모두 불러오기\n",
    "glob('*.ipynb')"
   ]
  },
  {
   "cell_type": "markdown",
   "id": "bddc2f5b",
   "metadata": {},
   "source": [
    "# 구글링 방식"
   ]
  },
  {
   "cell_type": "code",
   "execution_count": null,
   "id": "ffec34ac",
   "metadata": {},
   "outputs": [],
   "source": [
    "import os"
   ]
  },
  {
   "cell_type": "code",
   "execution_count": null,
   "id": "e2cc1c95",
   "metadata": {},
   "outputs": [],
   "source": [
    "'d\\d\\f'"
   ]
  },
  {
   "cell_type": "code",
   "execution_count": null,
   "id": "223a02d5",
   "metadata": {},
   "outputs": [],
   "source": [
    "path = 'C:/Users/uuuu/Downloads/'\n",
    "# path\n",
    "# path.replace('\\\\', \"/\") # inplace = True 자동적용\n",
    "file_list = os.listdir(path)\n",
    "file_list"
   ]
  },
  {
   "cell_type": "markdown",
   "id": "c894a411",
   "metadata": {},
   "source": [
    "# 폴더 내에 이미지가 있다면 이미지 읽기"
   ]
  },
  {
   "cell_type": "code",
   "execution_count": null,
   "id": "05958457",
   "metadata": {},
   "outputs": [],
   "source": [
    "import os\n",
    "import cv2\n",
    "\n",
    "path = 'C:/Users/uuuu/Downloads/'\n",
    "file_list = os.listdir(path)\n",
    "\n",
    "img_name = path + '/' + file_list[file_list.index()]\n",
    "img = cv2.imread(img_name, cv2.IMREAD_COLOR)\n",
    "cv2.imshow('image', img)\n",
    "cv2.waitKey(0)\n",
    "cv2.destroyAllWindows()"
   ]
  },
  {
   "cell_type": "code",
   "execution_count": null,
   "id": "1d746dd2",
   "metadata": {},
   "outputs": [],
   "source": [
    "# def index(separator, x):\n",
    "#     return x.index(separator)\n",
    "def index_p(x):\n",
    "    if '.' in x:\n",
    "        return x.index('.')"
   ]
  },
  {
   "cell_type": "code",
   "execution_count": null,
   "id": "3647ebce",
   "metadata": {},
   "outputs": [],
   "source": [
    "for i in file_list:\n",
    "    if '.' in i:\n",
    "        i.index('.')"
   ]
  },
  {
   "cell_type": "code",
   "execution_count": null,
   "id": "c4a0fc08",
   "metadata": {},
   "outputs": [],
   "source": [
    "# list(map(index_p, file_list))\n",
    "# list(map(lambda x: index_p(x), file_list))\n",
    "# list(map(lambda x: x.index('.') if '.' in x else print('None'), file_list))\n",
    "list(map(lambda x: x.index('.') if '.' in x else None, file_list)) #else 자리에 뭔가 지정해 줘야함. pass, continue는 안됨. "
   ]
  },
  {
   "cell_type": "code",
   "execution_count": null,
   "id": "a565ba61",
   "metadata": {},
   "outputs": [],
   "source": []
  }
 ],
 "metadata": {
  "kernelspec": {
   "display_name": "Python 3.10.3 64-bit",
   "language": "python",
   "name": "python3"
  },
  "language_info": {
   "codemirror_mode": {
    "name": "ipython",
    "version": 3
   },
   "file_extension": ".py",
   "mimetype": "text/x-python",
   "name": "python",
   "nbconvert_exporter": "python",
   "pygments_lexer": "ipython3",
   "version": "3.10.3"
  },
  "toc": {
   "base_numbering": 1,
   "nav_menu": {},
   "number_sections": true,
   "sideBar": true,
   "skip_h1_title": false,
   "title_cell": "Table of Contents",
   "title_sidebar": "Contents",
   "toc_cell": false,
   "toc_position": {},
   "toc_section_display": true,
   "toc_window_display": false
  },
  "vscode": {
   "interpreter": {
    "hash": "6de9cc75f9ee67ec1b5b535deb0e285a51ecb5d2bba828a4a3451b05a2c1454b"
   }
  }
 },
 "nbformat": 4,
 "nbformat_minor": 5
}
