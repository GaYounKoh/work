{
 "cells": [
  {
   "cell_type": "markdown",
   "metadata": {},
   "source": [
    "# Library load"
   ]
  },
  {
   "cell_type": "code",
   "execution_count": null,
   "metadata": {},
   "outputs": [],
   "source": [
    "import sys, os\n",
    "import requests #(네이버) api 이용할 때 쓰는 패키지\n",
    "import selenium #크롤링 패키지\n",
    "\n",
    "# selenium의 webdriver를 사용하기 위한 import\n",
    "from selenium import webdriver\n",
    "\n",
    "import pandas as pd\n",
    "from pandas import DataFrame\n",
    "from bs4 import BeautifulSoup #크롤링 패키지\n",
    "import re #정규식 표현 모듈\n",
    "from datetime import datetime\n",
    "import pickle, json, glob, time #pickle: 객체를 파일로 저장해주는 모듈, json: 네이버 api, glob: 파일들 리스트 뽑을 때 사용\n",
    "# https://wikidocs.net/83\n",
    "from tqdm import tqdm #진행표시바\n",
    "\n",
    "\n",
    "import urllib.request #파싱을 위한 모듈\n",
    "\n",
    "from IPython.core.interactiveshell import InteractiveShell\n",
    "InteractiveShell.ast_node_interactivity = \"all\"\n",
    "\n",
    "import numpy as np"
   ]
  },
  {
   "cell_type": "markdown",
   "metadata": {},
   "source": [
    "## ii) csv values를 위한 조회\n",
    "cat이 cd로 출력되는데 이것은 나중에 `catinfo.csv`의 열들과 mapping을 하여 이름으로 바꿔주기로 한다."
   ]
  },
  {
   "cell_type": "code",
   "execution_count": null,
   "metadata": {},
   "outputs": [],
   "source": [
    "CIDs = pd.read_csv('cids.csv')\n",
    "cids = list(CIDs['cid'].values)\n",
    "len(cids)"
   ]
  },
  {
   "cell_type": "markdown",
   "metadata": {},
   "source": [
    "### 함수로 api 호출하기"
   ]
  },
  {
   "cell_type": "code",
   "execution_count": null,
   "metadata": {},
   "outputs": [],
   "source": [
    "# 각 오퍼레이션 별로 워드에서 검색했을 때, table의 항목구분 열에 1이라고 표시돼있는 필수 파라미터를 다 작성하지 않을 경우 soup 출력시 에러남.\n",
    "\n",
    "API_HOST = 'http://apis.data.go.kr/B551011/KorService/'\n",
    "key = '키키키키키키키키키키키키키키키키' # Encoding key\n",
    "\n",
    "## 오퍼레이션 담은 dic\n",
    "op = {}\n",
    "op['det'] = 'detailCommon' # 공통정보조회\n",
    "\n",
    "# 선택 조회\n",
    "fimg = 'firstImageYN' # 대표이미지조회\n",
    "ov = 'overviewYN' # 개요조회\n",
    "catcd = 'catcodeYN' # 서비스분류코드조회\n",
    "ar = 'areacodeYN' # 지역코드조회\n",
    "addr = 'addrinfoYN'# 주소조회\n",
    "mapin4 = 'mapinfoYN'# 좌표조회\n",
    "\n",
    "\n",
    "def api(cid_):\n",
    "    # p81, content id가 ~~인 공통정보의 '기본정보' '대표이미지' '개요' 조회\n",
    "    url = f'{API_HOST}{op[\"det\"]}?serviceKey={key}&numOfRows=10&pageNo=1&MobileOS=ETC&MobileApp=AppTest&contentId={cid_}&defaultYN=Y&{fimg}=Y&{ov}=Y&{catcd}=Y&{mapin4}=Y'#&{ar}=Y&{addr}=Y\n",
    "    response = requests.get(url)\n",
    "\n",
    "    soup = BeautifulSoup(response.text, 'xml') # parser는 'lxml'로도 가능.\n",
    "\n",
    "    ## values\n",
    "    if soup.firstimage.string:\n",
    "        imgurl1 = soup.firstimage.string\n",
    "    else:\n",
    "        imgurl1 = np.NaN\n",
    "\n",
    "    if soup.firstimage2.string:\n",
    "        imgurl2 = soup.firstimage2.string\n",
    "    else:\n",
    "        imgurl2 = np.NaN\n",
    "    ovvw = soup.overview.string\n",
    "    cat1_ = soup.cat1.string\n",
    "    cat2_ = soup.cat2.string\n",
    "    cat3_ = soup.cat3.string\n",
    "    \n",
    "    ## tmp_df\n",
    "    tmp_df_ = pd.DataFrame({'cid' : [cid_],\n",
    "                            'imgurl1' : [imgurl1],\n",
    "                            'imgurl2' : [imgurl2],\n",
    "                            'overview' : [ovvw],\n",
    "                            'cat1' : [cat1_],\n",
    "                            'cat2' : [cat2_],\n",
    "                            'cat3' : [cat3_]})\n",
    "    \n",
    "    return tmp_df_"
   ]
  },
  {
   "cell_type": "markdown",
   "metadata": {},
   "source": [
    "### 자동화"
   ]
  },
  {
   "cell_type": "code",
   "execution_count": null,
   "metadata": {},
   "outputs": [],
   "source": [
    "cnt = 0\n",
    "df = pd.DataFrame()\n",
    "for enu, CID in tqdm(enumerate(cids[17004:])):\n",
    "    try:\n",
    "        tmp_df = api(CID)\n",
    "    except:\n",
    "        print(cids.index(CID)) # 호출하지 못한 CID 출력해주세요\n",
    "        continue # 다음 iter로 넘어가기\n",
    "        # except문에 동일한 요청이 아닌 다음 loop가 돌아야함.\n",
    "        # 그러려면 continue를 해줘야 하는데 그럼 try부터 도는데, 그게 맞나..?\n",
    "        # 말하다보니까 맞다는걸 깨달음.\n",
    "    \n",
    "    ## concat & df update\n",
    "    df = pd.concat([df, tmp_df], ignore_index = True)"
   ]
  },
  {
   "cell_type": "code",
   "execution_count": null,
   "metadata": {},
   "outputs": [],
   "source": [
    "df.shape\n",
    "# df.head()\n",
    "df.tail()"
   ]
  },
  {
   "cell_type": "code",
   "execution_count": null,
   "metadata": {},
   "outputs": [],
   "source": [
    "# 맨 처음에 df 생성시 실행하는 코드, 기존 example_df.csv와 병합하기 전에 실행하지 않도록 주의하십쇼\n",
    "##### df.to_csv('example_df.csv', index=False)"
   ]
  },
  {
   "cell_type": "code",
   "execution_count": null,
   "metadata": {},
   "outputs": [],
   "source": [
    "ex_df = pd.read_csv('example_df.csv')\n",
    "ex_df.shape"
   ]
  },
  {
   "cell_type": "code",
   "execution_count": null,
   "metadata": {},
   "outputs": [],
   "source": [
    "# ex_df.head()\n",
    "# ex_df['imgurl2'].isna().sum()"
   ]
  },
  {
   "cell_type": "markdown",
   "metadata": {},
   "source": [
    "#### 병합 & 저장"
   ]
  },
  {
   "cell_type": "code",
   "execution_count": null,
   "metadata": {},
   "outputs": [],
   "source": [
    "df = pd.concat([ex_df, df], axis = 0, ignore_index = True)"
   ]
  },
  {
   "cell_type": "code",
   "execution_count": null,
   "metadata": {},
   "outputs": [],
   "source": [
    "df.to_csv('example_df.csv', index=False)"
   ]
  },
  {
   "cell_type": "markdown",
   "metadata": {},
   "source": [
    "### 아래 cell은 일일이 호출하던 original 코드임.\n",
    "- 이거 대신 함수로 api 호출할 것임.\n",
    "- 아래 cell은 다 호출하고 호출하지 못한 cid들에 대한 값들 받을 때 사용할 지도 모르니 남겨뒀습니다.\n",
    "- 사실 필요없는 쓰레긴데 남겨둔 것 입니다."
   ]
  },
  {
   "cell_type": "code",
   "execution_count": null,
   "metadata": {},
   "outputs": [],
   "source": [
    "# 각 오퍼레이션 별로 워드에서 검색했을 때, table의 항목구분 열에 1이라고 표시돼있는 필수 파라미터를 다 작성하지 않을 경우 soup 출력시 에러남.\n",
    "\n",
    "API_HOST = 'http://apis.data.go.kr/B551011/KorService/'\n",
    "key = '키키키키키키키키키키키키키키키키' # Encoding key\n",
    "\n",
    "## 오퍼레이션 담은 dic\n",
    "op = {}\n",
    "op['det'] = 'detailCommon' # 공통정보조회\n",
    "op['cat'] = 'categoryCode' # catcd name 조회\n",
    "\n",
    "\n",
    "# 선택 조회\n",
    "fimg = 'firstImageYN' # 대표이미지조회\n",
    "ov = 'overviewYN' # 개요조회\n",
    "catcd = 'catcodeYN' # 서비스분류코드조회\n",
    "ar = 'areacodeYN' # 지역코드조회\n",
    "addr = 'addrinfoYN'# 주소조회\n",
    "mapin4 = 'mapinfoYN'# 좌표조회\n",
    "\n",
    "\n",
    "\n",
    "# CID = cids[0]\n",
    "# # csv values를 위한 조회\n",
    "# url = f'{API_HOST}{op[\"det\"]}?serviceKey={key}&numOfRows=10&pageNo=1&MobileOS=ETC&MobileApp=AppTest&contentId={CID}&defaultYN=Y&{fimg}=Y&{ov}=Y&{catcd}=Y&{ar}=Y&{addr}=Y&{mapin4}=Y'\n",
    "# response = requests.get(url)\n",
    "# soup = BeautifulSoup(response.text, 'xml') # parser는 'lxml'로도 가능.\n",
    "\n",
    "\n",
    "cnt = 0\n",
    "df = pd.DataFrame()\n",
    "for enu, CID in tqdm(enumerate(cids[17004:])):\n",
    "    # p81, content id가 ~~인 공통정보의 '기본정보' '대표이미지' '개요' 조회\n",
    "    url = f'{API_HOST}{op[\"det\"]}?serviceKey={key}&numOfRows=10&pageNo=1&MobileOS=ETC&MobileApp=AppTest&contentId={CID}&defaultYN=Y&{fimg}=Y&{ov}=Y&{catcd}=Y&{mapin4}=Y'#&{ar}=Y&{addr}=Y\n",
    "    response = requests.get(url)\n",
    "#     if (response.status_code == 200) | (response.ok) :\n",
    "#         print('Request OK')\n",
    "#     else:\n",
    "#         print(response.status_code)\n",
    "    \n",
    "    soup = BeautifulSoup(response.text, 'xml') # parser는 'lxml'로도 가능.\n",
    "    \n",
    "#     soup\n",
    "    \n",
    "    ## values\n",
    "    if soup.firstimage.string:\n",
    "        imgurl1 = soup.firstimage.string\n",
    "    else:\n",
    "        imgurl1 = np.NaN\n",
    "\n",
    "    if soup.firstimage2.string:\n",
    "        imgurl2 = soup.firstimage2.string\n",
    "    else:\n",
    "        imgurl2 = np.NaN\n",
    "    ovvw = soup.overview.string\n",
    "    cat1_ = soup.cat1.string\n",
    "    cat2_ = soup.cat2.string\n",
    "    cat3_ = soup.cat3.string\n",
    "    \n",
    "    ## tmp_df\n",
    "    tmp_df = pd.DataFrame({'cid' : [CID],\n",
    "                           'imgurl1' : [imgurl1],\n",
    "                           'imgurl2' : [imgurl2],\n",
    "                           'overview' : [ovvw],\n",
    "                           'cat1' : [cat1_],\n",
    "                           'cat2' : [cat2_],\n",
    "                           'cat3' : [cat3_]})\n",
    "    ## concat & df update\n",
    "    df = pd.concat([df, tmp_df], ignore_index = True)\n",
    "#     time.sleep(0.8)\n",
    "    \n",
    "#     cnt\n",
    "#     cnt+=1\n",
    "\n",
    "#     if enu > 2: # break를 거는 위치가 코드가 다 끝난 다음이니까 2번째까지는 하고 멈추라는 거임.\n",
    "#         break"
   ]
  }
 ],
 "metadata": {
  "kernelspec": {
   "display_name": "Python 3.10.3 64-bit",
   "language": "python",
   "name": "python3"
  },
  "language_info": {
   "name": "python",
   "version": "3.10.3"
  },
  "orig_nbformat": 4,
  "vscode": {
   "interpreter": {
    "hash": "6de9cc75f9ee67ec1b5b535deb0e285a51ecb5d2bba828a4a3451b05a2c1454b"
   }
  }
 },
 "nbformat": 4,
 "nbformat_minor": 2
}
