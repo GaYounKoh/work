{
  "cells": [
    {
      "cell_type": "markdown",
      "metadata": {
        "id": "RgzBRrcbm3O5"
      },
      "source": [
        "### 3. 우리는 오늘 EDA를 진행하기 전, 가설을 설정해보았습니다. 여러분도 탐색적 자료분석을 하기 전에 가설 2가지를 설정해 주세요!"
      ]
    },
    {
      "cell_type": "markdown",
      "metadata": {
        "id": "36XG0NeX0ryq"
      },
      "source": [
        "강수 여부에 따라 따릉이 대여량에 큰 변화가 있을 것이다.\n",
        "\n",
        "최저기온이 낮거나 최고기온이 높은 날에는 따릉이 대여량이 감소할 것이다."
      ]
    },
    {
      "cell_type": "markdown",
      "metadata": {
        "id": "2JRAK-bqm5Ew"
      },
      "source": [
        "### 4. Target(따릉이 대여량)을 EDA했을 때, 대여량이 현저히 적은 날이 있었습니다. 그날(따릉이 대여량이 8000보다 작은 날)은 대여량이 많은 날에 비하여 Feature에서 어떤 특징이 띄었나요?"
      ]
    },
    {
      "cell_type": "markdown",
      "metadata": {
        "id": "LL6-gCHF1wq2"
      },
      "source": [
        "Feature 중 강수 확률(Precipitation_Probability)의 평균과 강수 형태(precipitation_form)의 평균은 대여량이 많은 날에 비해 대여량이 8000보다 적은 날에 수치가 굉장히 높다는 특징을 띄었다."
      ]
    },
    {
      "cell_type": "code",
      "execution_count": null,
      "metadata": {
        "id": "rDbUiQon5G3_"
      },
      "outputs": [],
      "source": []
    }
  ],
  "metadata": {
    "colab": {
      "name": "따릉이_과제1.ipynb",
      "provenance": []
    },
    "kernelspec": {
      "display_name": "Python 3.10.6 64-bit",
      "language": "python",
      "name": "python3"
    },
    "language_info": {
      "name": "python",
      "version": "3.10.6"
    },
    "vscode": {
      "interpreter": {
        "hash": "8c33a6f08abcdf7ab5b29314688f1eb03fc4edef2bee94d40c422d6e6bb7bb98"
      }
    }
  },
  "nbformat": 4,
  "nbformat_minor": 0
}
