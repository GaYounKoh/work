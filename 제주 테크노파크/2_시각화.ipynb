{
 "cells": [
  {
   "cell_type": "markdown",
   "id": "aaf169bd",
   "metadata": {
    "toc": true
   },
   "source": [
    "<h1>Table of Contents<span class=\"tocSkip\"></span></h1>\n",
    "<div class=\"toc\"><ul class=\"toc-item\"><li><span><a href=\"#19016002-고가연\" data-toc-modified-id=\"19016002-고가연-1\"><span class=\"toc-item-num\">1&nbsp;&nbsp;</span>19016002 고가연</a></span></li><li><span><a href=\"#library-load\" data-toc-modified-id=\"library-load-2\"><span class=\"toc-item-num\">2&nbsp;&nbsp;</span>library load</a></span></li><li><span><a href=\"#data-load\" data-toc-modified-id=\"data-load-3\"><span class=\"toc-item-num\">3&nbsp;&nbsp;</span>data load</a></span></li><li><span><a href=\"#Q1\" data-toc-modified-id=\"Q1-4\"><span class=\"toc-item-num\">4&nbsp;&nbsp;</span>Q1</a></span></li><li><span><a href=\"#Q2\" data-toc-modified-id=\"Q2-5\"><span class=\"toc-item-num\">5&nbsp;&nbsp;</span>Q2</a></span></li><li><span><a href=\"#Q3\" data-toc-modified-id=\"Q3-6\"><span class=\"toc-item-num\">6&nbsp;&nbsp;</span>Q3</a></span></li><li><span><a href=\"#Q4\" data-toc-modified-id=\"Q4-7\"><span class=\"toc-item-num\">7&nbsp;&nbsp;</span>Q4</a></span></li></ul></div>"
   ]
  },
  {
   "cell_type": "markdown",
   "id": "6819f77f",
   "metadata": {},
   "source": [
    "# 19016002 고가연"
   ]
  },
  {
   "cell_type": "markdown",
   "id": "8ea9057f",
   "metadata": {},
   "source": [
    "# library load"
   ]
  },
  {
   "cell_type": "code",
   "execution_count": 24,
   "id": "c8c33c03",
   "metadata": {},
   "outputs": [],
   "source": [
    "import pandas as pd\n",
    "import matplotlib.pyplot as plt\n",
    "# 한글 사용\n",
    "plt.rc('font', family='NanumBarunGothic')"
   ]
  },
  {
   "cell_type": "markdown",
   "id": "55919493",
   "metadata": {},
   "source": [
    "# data load"
   ]
  },
  {
   "cell_type": "code",
   "execution_count": 2,
   "id": "19be375d",
   "metadata": {},
   "outputs": [
    {
     "data": {
      "text/html": [
       "<div>\n",
       "<style scoped>\n",
       "    .dataframe tbody tr th:only-of-type {\n",
       "        vertical-align: middle;\n",
       "    }\n",
       "\n",
       "    .dataframe tbody tr th {\n",
       "        vertical-align: top;\n",
       "    }\n",
       "\n",
       "    .dataframe thead th {\n",
       "        text-align: right;\n",
       "    }\n",
       "</style>\n",
       "<table border=\"1\" class=\"dataframe\">\n",
       "  <thead>\n",
       "    <tr style=\"text-align: right;\">\n",
       "      <th></th>\n",
       "      <th>PassengerId</th>\n",
       "      <th>Survived</th>\n",
       "      <th>Pclass</th>\n",
       "      <th>Name</th>\n",
       "      <th>Sex</th>\n",
       "      <th>Age</th>\n",
       "      <th>SibSp</th>\n",
       "      <th>Parch</th>\n",
       "      <th>Ticket</th>\n",
       "      <th>Fare</th>\n",
       "      <th>Cabin</th>\n",
       "      <th>Embarked</th>\n",
       "    </tr>\n",
       "  </thead>\n",
       "  <tbody>\n",
       "    <tr>\n",
       "      <th>0</th>\n",
       "      <td>1</td>\n",
       "      <td>0</td>\n",
       "      <td>3</td>\n",
       "      <td>Braund, Mr. Owen Harris</td>\n",
       "      <td>male</td>\n",
       "      <td>22.0</td>\n",
       "      <td>1</td>\n",
       "      <td>0</td>\n",
       "      <td>A/5 21171</td>\n",
       "      <td>7.2500</td>\n",
       "      <td>NaN</td>\n",
       "      <td>S</td>\n",
       "    </tr>\n",
       "    <tr>\n",
       "      <th>1</th>\n",
       "      <td>2</td>\n",
       "      <td>1</td>\n",
       "      <td>1</td>\n",
       "      <td>Cumings, Mrs. John Bradley (Florence Briggs Th...</td>\n",
       "      <td>female</td>\n",
       "      <td>38.0</td>\n",
       "      <td>1</td>\n",
       "      <td>0</td>\n",
       "      <td>PC 17599</td>\n",
       "      <td>71.2833</td>\n",
       "      <td>C85</td>\n",
       "      <td>C</td>\n",
       "    </tr>\n",
       "    <tr>\n",
       "      <th>2</th>\n",
       "      <td>3</td>\n",
       "      <td>1</td>\n",
       "      <td>3</td>\n",
       "      <td>Heikkinen, Miss. Laina</td>\n",
       "      <td>female</td>\n",
       "      <td>26.0</td>\n",
       "      <td>0</td>\n",
       "      <td>0</td>\n",
       "      <td>STON/O2. 3101282</td>\n",
       "      <td>7.9250</td>\n",
       "      <td>NaN</td>\n",
       "      <td>S</td>\n",
       "    </tr>\n",
       "    <tr>\n",
       "      <th>3</th>\n",
       "      <td>4</td>\n",
       "      <td>1</td>\n",
       "      <td>1</td>\n",
       "      <td>Futrelle, Mrs. Jacques Heath (Lily May Peel)</td>\n",
       "      <td>female</td>\n",
       "      <td>35.0</td>\n",
       "      <td>1</td>\n",
       "      <td>0</td>\n",
       "      <td>113803</td>\n",
       "      <td>53.1000</td>\n",
       "      <td>C123</td>\n",
       "      <td>S</td>\n",
       "    </tr>\n",
       "    <tr>\n",
       "      <th>4</th>\n",
       "      <td>5</td>\n",
       "      <td>0</td>\n",
       "      <td>3</td>\n",
       "      <td>Allen, Mr. William Henry</td>\n",
       "      <td>male</td>\n",
       "      <td>35.0</td>\n",
       "      <td>0</td>\n",
       "      <td>0</td>\n",
       "      <td>373450</td>\n",
       "      <td>8.0500</td>\n",
       "      <td>NaN</td>\n",
       "      <td>S</td>\n",
       "    </tr>\n",
       "  </tbody>\n",
       "</table>\n",
       "</div>"
      ],
      "text/plain": [
       "   PassengerId  Survived  Pclass  \\\n",
       "0            1         0       3   \n",
       "1            2         1       1   \n",
       "2            3         1       3   \n",
       "3            4         1       1   \n",
       "4            5         0       3   \n",
       "\n",
       "                                                Name     Sex   Age  SibSp  \\\n",
       "0                            Braund, Mr. Owen Harris    male  22.0      1   \n",
       "1  Cumings, Mrs. John Bradley (Florence Briggs Th...  female  38.0      1   \n",
       "2                             Heikkinen, Miss. Laina  female  26.0      0   \n",
       "3       Futrelle, Mrs. Jacques Heath (Lily May Peel)  female  35.0      1   \n",
       "4                           Allen, Mr. William Henry    male  35.0      0   \n",
       "\n",
       "   Parch            Ticket     Fare Cabin Embarked  \n",
       "0      0         A/5 21171   7.2500   NaN        S  \n",
       "1      0          PC 17599  71.2833   C85        C  \n",
       "2      0  STON/O2. 3101282   7.9250   NaN        S  \n",
       "3      0            113803  53.1000  C123        S  \n",
       "4      0            373450   8.0500   NaN        S  "
      ]
     },
     "execution_count": 2,
     "metadata": {},
     "output_type": "execute_result"
    }
   ],
   "source": [
    "df = pd.read_csv('타이타닉 data/train.csv')\n",
    "df.head()"
   ]
  },
  {
   "cell_type": "code",
   "execution_count": 18,
   "id": "d744b770",
   "metadata": {},
   "outputs": [
    {
     "data": {
      "text/plain": [
       "0    549\n",
       "1    342\n",
       "Name: Survived, dtype: int64"
      ]
     },
     "execution_count": 18,
     "metadata": {},
     "output_type": "execute_result"
    }
   ],
   "source": [
    "df['Survived'].value_counts()"
   ]
  },
  {
   "cell_type": "markdown",
   "id": "00595789",
   "metadata": {},
   "source": [
    "# Q1\n",
    "사망자와 생존자의 비율을 원 그래프로 나타내기"
   ]
  },
  {
   "cell_type": "code",
   "execution_count": 69,
   "id": "89912165",
   "metadata": {},
   "outputs": [
    {
     "data": {
      "image/png": "[encoded data removed]",
      "text/plain": [
       "<Figure size 600x400 with 1 Axes>"
      ]
     },
     "metadata": {},
     "output_type": "display_data"
    }
   ],
   "source": [
    "# data 조작\n",
    "x = df['Survived'].value_counts().values\n",
    "labels = df['Survived'].value_counts().index\n",
    "\n",
    "# 그림판 설정\n",
    "plt.figure(dpi = 100)\n",
    "\n",
    "# 그림 그리기\n",
    "_ = plt.title('사망 vs 생존')\n",
    "_ = plt.pie(x = x, labels = labels)\n",
    "\n",
    "# 레전드 추가 (그림 다 그리고 추가해야함.)\n",
    "_ = plt.legend(labels)"
   ]
  },
  {
   "cell_type": "markdown",
   "id": "b2ab4890",
   "metadata": {},
   "source": [
    "# Q2\n",
    "객실 등급의 비율을 원 그래프로 나타내기"
   ]
  },
  {
   "cell_type": "code",
   "execution_count": 81,
   "id": "787e68e2",
   "metadata": {},
   "outputs": [
    {
     "data": {
      "image/png": "[encoded data removed]",
      "text/plain": [
       "<Figure size 600x400 with 1 Axes>"
      ]
     },
     "metadata": {},
     "output_type": "display_data"
    }
   ],
   "source": [
    "x = df['Pclass'].value_counts().sort_index().values\n",
    "labels = df['Pclass'].value_counts().sort_index().index\n",
    "colors = ['#ff9999', '#ffc000', '#8fd9b6', '#d395d0']\n",
    "\n",
    "_=plt.figure(dpi = 100)\n",
    "\n",
    "_=plt.title('객실 등급 분포')\n",
    "_=plt.pie(x = x, labels = labels,\n",
    "          autopct='%.1f%%',\n",
    "          counterclock = False,\n",
    "          colors = colors)\n",
    "\n",
    "_=plt.legend(labels)\n",
    "\n",
    "plt.tight_layout()"
   ]
  },
  {
   "cell_type": "markdown",
   "id": "95a1e474",
   "metadata": {},
   "source": [
    "# Q3\n",
    "객실 등급 별 객실 수를 막대그래프로 나타내기"
   ]
  },
  {
   "cell_type": "code",
   "execution_count": 87,
   "id": "83129326",
   "metadata": {},
   "outputs": [
    {
     "data": {
      "image/png": "[encoded data removed]",
      "text/plain": [
       "<Figure size 600x400 with 1 Axes>"
      ]
     },
     "metadata": {
      "needs_background": "light"
     },
     "output_type": "display_data"
    }
   ],
   "source": [
    "x = df['Pclass'].value_counts().index\n",
    "y = df['Pclass'].value_counts().values\n",
    "\n",
    "plt.figure(dpi = 100)\n",
    "\n",
    "plt.title('객실 등급 분포')\n",
    "plt.xlabel('객실 등급')\n",
    "plt.xticks([1,2,3])\n",
    "plt.ylabel('객실 수')\n",
    "_ =plt.bar(x,y)"
   ]
  },
  {
   "cell_type": "markdown",
   "id": "2fd44798",
   "metadata": {},
   "source": [
    "# Q4\n",
    "객실 등급 별 티켓 가격 평균을 막대그래프로 나타내기"
   ]
  },
  {
   "cell_type": "code",
   "execution_count": 101,
   "id": "e300aa57",
   "metadata": {},
   "outputs": [
    {
     "data": {
      "image/png": "[encoded data removed]",
      "text/plain": [
       "<Figure size 600x400 with 1 Axes>"
      ]
     },
     "metadata": {
      "needs_background": "light"
     },
     "output_type": "display_data"
    }
   ],
   "source": [
    "x = df.groupby(['Pclass']).mean()['Fare'].index\n",
    "y = df.groupby(['Pclass']).mean()['Fare'].values\n",
    "\n",
    "plt.figure(dpi=100)\n",
    "plt.title('객실 등급 별 가격')\n",
    "plt.xlabel('객실 등급')\n",
    "plt.ylabel('가격 평균')\n",
    "plt.xticks(x)\n",
    "_ = plt.bar(x,y)"
   ]
  }
 ],
 "metadata": {
  "kernelspec": {
   "display_name": "Python 3.10.6 64-bit",
   "language": "python",
   "name": "python3"
  },
  "language_info": {
   "codemirror_mode": {
    "name": "ipython",
    "version": 3
   },
   "file_extension": ".py",
   "mimetype": "text/x-python",
   "name": "python",
   "nbconvert_exporter": "python",
   "pygments_lexer": "ipython3",
   "version": "3.10.6"
  },
  "latex_envs": {
   "LaTeX_envs_menu_present": true,
   "autoclose": false,
   "autocomplete": true,
   "bibliofile": "biblio.bib",
   "cite_by": "apalike",
   "current_citInitial": 1,
   "eqLabelWithNumbers": true,
   "eqNumInitial": 1,
   "hotkeys": {
    "equation": "Ctrl-E",
    "itemize": "Ctrl-I"
   },
   "labels_anchors": false,
   "latex_user_defs": false,
   "report_style_numbering": false,
   "user_envs_cfg": false
  },
  "toc": {
   "base_numbering": 1,
   "nav_menu": {},
   "number_sections": true,
   "sideBar": true,
   "skip_h1_title": false,
   "title_cell": "Table of Contents",
   "title_sidebar": "Contents",
   "toc_cell": true,
   "toc_position": {},
   "toc_section_display": true,
   "toc_window_display": true
  },
  "vscode": {
   "interpreter": {
    "hash": "8c33a6f08abcdf7ab5b29314688f1eb03fc4edef2bee94d40c422d6e6bb7bb98"
   }
  }
 },
 "nbformat": 4,
 "nbformat_minor": 5
}
