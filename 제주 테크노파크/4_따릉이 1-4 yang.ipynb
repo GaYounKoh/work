{
  "cells": [
    {
      "cell_type": "markdown",
      "metadata": {
        "id": "ApSe_1pxL6q8"
      },
      "source": [
        "# 과제 3\n",
        "우리는 오늘 EDA를 진행하기 전, 가설을 먼저 설정해보았습니다. 여러분들도 탐색적 자료 분석을 하기 전에, 가설 2가지를 설정해주세요"
      ]
    },
    {
      "cell_type": "markdown",
      "metadata": {
        "id": "rBjYkgVaL6nW"
      },
      "source": [
        "- 가설 1 : 풍속이 강한 날에는 따릉이 대여량이 낮을 것이다.\n",
        "- 가설 2 : 하늘 상태가 맑음(1)일 때 따릉이 대여량이 높을 것이다."
      ]
    },
    {
      "cell_type": "markdown",
      "metadata": {
        "id": "L9jbIYRPL6eJ"
      },
      "source": [
        "# 과제 4\n",
        "Target(따릉이 대여량)을 EDA했을 때, 대여량이 현저히 적은 날이 있었습니다. 그날(따릉이 대여량이 8000보다 작은 날)은 대여량이 많은 날에 비하여 Feature에서 어떤 특징이 띄었나요?"
      ]
    },
    {
      "cell_type": "markdown",
      "metadata": {
        "id": "_ldkS8tnR55T"
      },
      "source": [
        "- 따릉이 대여량이 적은 날은 대여량이 많은 날에 비해 강수 형태의 평균과 강수 확률의 평균이 눈에 띄게 낮았다."
      ]
    }
  ],
  "metadata": {
    "colab": {
      "name": "dacon_assignment_5.ipynb",
      "provenance": []
    },
    "kernelspec": {
      "display_name": "Python 3.10.6 64-bit",
      "language": "python",
      "name": "python3"
    },
    "language_info": {
      "name": "python",
      "version": "3.10.6"
    },
    "vscode": {
      "interpreter": {
        "hash": "8c33a6f08abcdf7ab5b29314688f1eb03fc4edef2bee94d40c422d6e6bb7bb98"
      }
    }
  },
  "nbformat": 4,
  "nbformat_minor": 0
}
