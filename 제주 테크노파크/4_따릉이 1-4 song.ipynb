{
  "cells": [
    {
      "cell_type": "markdown",
      "metadata": {
        "id": "nDpNZe6eUkrU"
      },
      "source": [
        "# 3."
      ]
    },
    {
      "cell_type": "markdown",
      "metadata": {
        "id": "gqk98uCEUnav"
      },
      "source": [
        "-  습도가 높은 날에는 대여량이 낮아질 것 이다.\n",
        "- 최고 기온이 높은 날에는 대여량이 낮아질 것이다."
      ]
    },
    {
      "cell_type": "markdown",
      "metadata": {
        "id": "A1m2bqMdUBf1"
      },
      "source": [
        "# 4."
      ]
    },
    {
      "cell_type": "markdown",
      "metadata": {
        "id": "PHlyZhC9UDn4"
      },
      "source": [
        "강수가능성과 강수확률이 매우 큰 날이다."
      ]
    }
  ],
  "metadata": {
    "colab": {
      "name": "0716따릉이 과제1ipynb",
      "provenance": []
    },
    "kernelspec": {
      "display_name": "Python 3.10.6 64-bit",
      "language": "python",
      "name": "python3"
    },
    "language_info": {
      "name": "python",
      "version": "3.10.6"
    },
    "vscode": {
      "interpreter": {
        "hash": "8c33a6f08abcdf7ab5b29314688f1eb03fc4edef2bee94d40c422d6e6bb7bb98"
      }
    }
  },
  "nbformat": 4,
  "nbformat_minor": 0
}
