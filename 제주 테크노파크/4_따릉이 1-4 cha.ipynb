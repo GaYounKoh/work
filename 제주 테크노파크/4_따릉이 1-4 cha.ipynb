{
  "cells": [
    {
      "cell_type": "markdown",
      "metadata": {
        "id": "Aj3ibL78u7UK"
      },
      "source": [
        "**정형** 데이터, **비정형** 데이터는 Target 유형(**수치형** or **범주형**)에 따라\n",
        "\n",
        "**회귀** 또는 **분류** 문제로 분석할 수 있다."
      ]
    },
    {
      "cell_type": "markdown",
      "metadata": {
        "id": "XEl0VDVZme-Z"
      },
      "source": [
        "## 3) EDA 가설 설정\n",
        "탐색적 자료 분석을 하기 전, 가설 2가지를 설정해 주세요!"
      ]
    },
    {
      "cell_type": "markdown",
      "metadata": {
        "id": "9w4zwknsqK04"
      },
      "source": [
        "따릉이 대여량은 강수에 영향을 받을 것이다.\n",
        "\n",
        "> **1. 하늘 상태(sky_condition)가 흐릴수록 대여량이 적을 것이다.**\n",
        "  - sky_condition (하늘 상태) : 맑음(1), 구름조금(2), 구름많음(3), 흐림(4)\n",
        ">\n",
        "> **2. 강수 형태(precipitation_form)가 0(없음)이 아니면 대여량이 적을 것이다.**\n",
        "  - precipitation_form (강수 형태): 없음(0), 비(1), 진눈깨비(2), 눈(3), 소나기(4)\n",
        ">\n",
        "> **3. 강수 확률(Precipitation_Probability)이 높을수록 대여량이 적을 것이다.**"
      ]
    },
    {
      "cell_type": "markdown",
      "metadata": {
        "id": "VSiVyokq7sJh"
      },
      "source": [
        "### **따릉이 대여량 데이터**\n",
        "\n",
        "**Features**\n",
        ">- date_time : 일별 날짜 ---> (사용X)\n",
        "- wind_direction: 풍향 (degree)\n",
        "- sky_condition : 하늘 상태\n",
        "- precipitation_form : 강수 형태\n",
        "-wind_speed : 풍속 (m/s)\n",
        "-humidity : 습도 (%)\n",
        "-low_temp : 최저 기온 ( `C)\n",
        "-high_temp : 최고 기온 ( `C)\n",
        "- Precipitation_Probability : 강수 확률 (%)\n",
        "\n",
        "**Target**\n",
        ">- number_of_rentals : 따릉이 대여량"
      ]
    },
    {
      "cell_type": "markdown",
      "metadata": {
        "id": "gnefXf_Q9578"
      },
      "source": [
        "\n",
        "\n",
        "---\n",
        "\n",
        "- sky_condition (하늘 상태) : 맑음(1), 구름조금(2), 구름많음(3), 흐림(4)\n",
        "\n",
        "  - 2019년 6월 4일 까지 sky_condition (하늘 상태) : 맑음(1), 구름조금(2), 구름많음(3), 흐림(4)\n",
        "\n",
        "  - 2020년  sky_condition (하늘 상태) : 맑음(1), 구름많음(3), 흐림(4)\n",
        "\n",
        "- precipitation_form (강수 형태) : 없음(0), 비(1), 진눈깨비(2), 눈(3), 소나기(4)\n",
        "\n",
        "  - 원본 데이터에는 없음(0), 비(1),소나기(4)가 포함되어있었으며 진눈깨비(2)와 눈(3) 성분은 존재하지 않습니다.\n",
        "  - **train.describe()**에서 precipitation_form의 min: 0, max: 1임을 확인했다.\n",
        "\n",
        "\n",
        "---\n",
        ">* 정형 데이터 문제(Structured Data)\n",
        ">\n",
        ">* 회귀 문제(Regression)\n"
      ]
    },
    {
      "cell_type": "markdown",
      "metadata": {
        "id": "aHFaPeyzme6P"
      },
      "source": [
        "## 4) Target & Feature 관계\n",
        "Target(따릉이 대여량)을 EDA했을 때, 대여량이 현저히 적은 날이 있었습니다. Feature에서 어떤 특징을 발견했나요?"
      ]
    },
    {
      "cell_type": "markdown",
      "metadata": {
        "id": "p5_pI7PEqrC1"
      },
      "source": [
        "따릉이 대여량 8000을 기준으로 비교한 결과\n",
        "\n",
        "\n",
        "**대여량이 적은 날은...**\n",
        ">- **하늘 상태(sky_condition)가 흐리다.**\n",
        ">\n",
        ">- **강수 형태(precipitation_form)가 비(1)에 가깝다.**\n",
        ">\n",
        ">- **강수 확률(Precipitation_Probability)이 높다.** (65% 이상)"
      ]
    },
    {
      "cell_type": "code",
      "execution_count": 1,
      "metadata": {
        "id": "RsBqRXfdUWXn"
      },
      "outputs": [],
      "source": [
        "# 데이터 프레임 생성을 위한 라이브러리\n",
        "import pandas as pd\n",
        "\n",
        "# 시각화를 위한 라이브러리\n",
        "import seaborn as sns\n",
        "import matplotlib.pyplot as plt\n",
        "plt.rc('font', family='NanumGothic')"
      ]
    },
    {
      "cell_type": "code",
      "execution_count": 2,
      "metadata": {
        "colab": {
          "base_uri": "https://localhost:8080/",
          "height": 260
        },
        "id": "2SPiVc0tUWYA",
        "outputId": "f1d87b42-0c6a-4353-d522-17329d42103e"
      },
      "outputs": [
        {
          "data": {
            "text/html": [
              "\n",
              "  <div id=\"df-5c1a4ee8-270d-4c13-94c1-4e0569da715d\">\n",
              "    <div class=\"colab-df-container\">\n",
              "      <div>\n",
              "<style scoped>\n",
              "    .dataframe tbody tr th:only-of-type {\n",
              "        vertical-align: middle;\n",
              "    }\n",
              "\n",
              "    .dataframe tbody tr th {\n",
              "        vertical-align: top;\n",
              "    }\n",
              "\n",
              "    .dataframe thead th {\n",
              "        text-align: right;\n",
              "    }\n",
              "</style>\n",
              "<table border=\"1\" class=\"dataframe\">\n",
              "  <thead>\n",
              "    <tr style=\"text-align: right;\">\n",
              "      <th></th>\n",
              "      <th>date_time</th>\n",
              "      <th>wind_direction</th>\n",
              "      <th>sky_condition</th>\n",
              "      <th>precipitation_form</th>\n",
              "      <th>wind_speed</th>\n",
              "      <th>humidity</th>\n",
              "      <th>low_temp</th>\n",
              "      <th>high_temp</th>\n",
              "      <th>Precipitation_Probability</th>\n",
              "      <th>number_of_rentals</th>\n",
              "    </tr>\n",
              "  </thead>\n",
              "  <tbody>\n",
              "    <tr>\n",
              "      <th>0</th>\n",
              "      <td>2018-04-01</td>\n",
              "      <td>207.500</td>\n",
              "      <td>4.000</td>\n",
              "      <td>0.0</td>\n",
              "      <td>3.050</td>\n",
              "      <td>75.000</td>\n",
              "      <td>12.600</td>\n",
              "      <td>21.000</td>\n",
              "      <td>30.000</td>\n",
              "      <td>22994</td>\n",
              "    </tr>\n",
              "    <tr>\n",
              "      <th>1</th>\n",
              "      <td>2018-04-02</td>\n",
              "      <td>208.317</td>\n",
              "      <td>2.950</td>\n",
              "      <td>0.0</td>\n",
              "      <td>3.278</td>\n",
              "      <td>69.833</td>\n",
              "      <td>12.812</td>\n",
              "      <td>19.000</td>\n",
              "      <td>19.500</td>\n",
              "      <td>28139</td>\n",
              "    </tr>\n",
              "    <tr>\n",
              "      <th>2</th>\n",
              "      <td>2018-04-03</td>\n",
              "      <td>213.516</td>\n",
              "      <td>2.911</td>\n",
              "      <td>0.0</td>\n",
              "      <td>2.690</td>\n",
              "      <td>74.879</td>\n",
              "      <td>10.312</td>\n",
              "      <td>15.316</td>\n",
              "      <td>19.113</td>\n",
              "      <td>26817</td>\n",
              "    </tr>\n",
              "  </tbody>\n",
              "</table>\n",
              "</div>\n",
              "      <button class=\"colab-df-convert\" onclick=\"convertToInteractive('df-5c1a4ee8-270d-4c13-94c1-4e0569da715d')\"\n",
              "              title=\"Convert this dataframe to an interactive table.\"\n",
              "              style=\"display:none;\">\n",
              "        \n",
              "  <svg xmlns=\"http://www.w3.org/2000/svg\" height=\"24px\"viewBox=\"0 0 24 24\"\n",
              "       width=\"24px\">\n",
              "    <path d=\"M0 0h24v24H0V0z\" fill=\"none\"/>\n",
              "    <path d=\"M18.56 5.44l.94 2.06.94-2.06 2.06-.94-2.06-.94-.94-2.06-.94 2.06-2.06.94zm-11 1L8.5 8.5l.94-2.06 2.06-.94-2.06-.94L8.5 2.5l-.94 2.06-2.06.94zm10 10l.94 2.06.94-2.06 2.06-.94-2.06-.94-.94-2.06-.94 2.06-2.06.94z\"/><path d=\"M17.41 7.96l-1.37-1.37c-.4-.4-.92-.59-1.43-.59-.52 0-1.04.2-1.43.59L10.3 9.45l-7.72 7.72c-.78.78-.78 2.05 0 2.83L4 21.41c.39.39.9.59 1.41.59.51 0 1.02-.2 1.41-.59l7.78-7.78 2.81-2.81c.8-.78.8-2.07 0-2.86zM5.41 20L4 18.59l7.72-7.72 1.47 1.35L5.41 20z\"/>\n",
              "  </svg>\n",
              "      </button>\n",
              "      \n",
              "  <style>\n",
              "    .colab-df-container {\n",
              "      display:flex;\n",
              "      flex-wrap:wrap;\n",
              "      gap: 12px;\n",
              "    }\n",
              "\n",
              "    .colab-df-convert {\n",
              "      background-color: #E8F0FE;\n",
              "      border: none;\n",
              "      border-radius: 50%;\n",
              "      cursor: pointer;\n",
              "      display: none;\n",
              "      fill: #1967D2;\n",
              "      height: 32px;\n",
              "      padding: 0 0 0 0;\n",
              "      width: 32px;\n",
              "    }\n",
              "\n",
              "    .colab-df-convert:hover {\n",
              "      background-color: #E2EBFA;\n",
              "      box-shadow: 0px 1px 2px rgba(60, 64, 67, 0.3), 0px 1px 3px 1px rgba(60, 64, 67, 0.15);\n",
              "      fill: #174EA6;\n",
              "    }\n",
              "\n",
              "    [theme=dark] .colab-df-convert {\n",
              "      background-color: #3B4455;\n",
              "      fill: #D2E3FC;\n",
              "    }\n",
              "\n",
              "    [theme=dark] .colab-df-convert:hover {\n",
              "      background-color: #434B5C;\n",
              "      box-shadow: 0px 1px 3px 1px rgba(0, 0, 0, 0.15);\n",
              "      filter: drop-shadow(0px 1px 2px rgba(0, 0, 0, 0.3));\n",
              "      fill: #FFFFFF;\n",
              "    }\n",
              "  </style>\n",
              "\n",
              "      <script>\n",
              "        const buttonEl =\n",
              "          document.querySelector('#df-5c1a4ee8-270d-4c13-94c1-4e0569da715d button.colab-df-convert');\n",
              "        buttonEl.style.display =\n",
              "          google.colab.kernel.accessAllowed ? 'block' : 'none';\n",
              "\n",
              "        async function convertToInteractive(key) {\n",
              "          const element = document.querySelector('#df-5c1a4ee8-270d-4c13-94c1-4e0569da715d');\n",
              "          const dataTable =\n",
              "            await google.colab.kernel.invokeFunction('convertToInteractive',\n",
              "                                                     [key], {});\n",
              "          if (!dataTable) return;\n",
              "\n",
              "          const docLinkHtml = 'Like what you see? Visit the ' +\n",
              "            '<a target=\"_blank\" href=https://colab.research.google.com/notebooks/data_table.ipynb>data table notebook</a>'\n",
              "            + ' to learn more about interactive tables.';\n",
              "          element.innerHTML = '';\n",
              "          dataTable['output_type'] = 'display_data';\n",
              "          await google.colab.output.renderOutput(dataTable, element);\n",
              "          const docLink = document.createElement('div');\n",
              "          docLink.innerHTML = docLinkHtml;\n",
              "          element.appendChild(docLink);\n",
              "        }\n",
              "      </script>\n",
              "    </div>\n",
              "  </div>\n",
              "  "
            ],
            "text/plain": [
              "    date_time  wind_direction  sky_condition  precipitation_form  wind_speed  \\\n",
              "0  2018-04-01         207.500          4.000                 0.0       3.050   \n",
              "1  2018-04-02         208.317          2.950                 0.0       3.278   \n",
              "2  2018-04-03         213.516          2.911                 0.0       2.690   \n",
              "\n",
              "   humidity  low_temp  high_temp  Precipitation_Probability  number_of_rentals  \n",
              "0    75.000    12.600     21.000                     30.000              22994  \n",
              "1    69.833    12.812     19.000                     19.500              28139  \n",
              "2    74.879    10.312     15.316                     19.113              26817  "
            ]
          },
          "execution_count": 2,
          "metadata": {},
          "output_type": "execute_result"
        }
      ],
      "source": [
        "train = pd.read_csv('/content/drive/MyDrive/따릉이/train.csv')\n",
        "test = pd.read_csv('/content/drive/MyDrive/따릉이/test.csv')\n",
        "submission = pd.read_csv('/content/drive/MyDrive/따릉이/sample_submission.csv')\n",
        "train.head(3)"
      ]
    },
    {
      "cell_type": "code",
      "execution_count": 3,
      "metadata": {
        "colab": {
          "base_uri": "https://localhost:8080/"
        },
        "id": "T9396HjUJrxK",
        "outputId": "911063cc-ca89-48f9-9fea-2cb68885e624"
      },
      "outputs": [
        {
          "name": "stderr",
          "output_type": "stream",
          "text": [
            "/usr/local/lib/python3.7/dist-packages/ipykernel_launcher.py:12: FutureWarning: Dropping of nuisance columns in DataFrame reductions (with 'numeric_only=None') is deprecated; in a future version this will raise TypeError.  Select only valid columns before calling the reduction.\n",
            "  if sys.path[0] == '':\n",
            "/usr/local/lib/python3.7/dist-packages/ipykernel_launcher.py:13: FutureWarning: Dropping of nuisance columns in DataFrame reductions (with 'numeric_only=None') is deprecated; in a future version this will raise TypeError.  Select only valid columns before calling the reduction.\n",
            "  del sys.path[0]\n"
          ]
        }
      ],
      "source": [
        "def compare(idx):\n",
        "  x = ['8000<=' + low.index[idx], '8000>' + high.index[idx]]\n",
        "  y = [low.values[idx], high.values[idx]]\n",
        "\n",
        "  plt.figure(figsize = (8,5))\n",
        "  plt.title(low.index[idx]+ \" 의 평균\")\n",
        "  plt.xlabel('피쳐')\n",
        "  plt.ylabel('수치')\n",
        "  plt.bar(x, y)\n",
        "  plt.show()\n",
        "\n",
        "low = train[train['number_of_rentals']<=8000].mean()\n",
        "high = train[train['number_of_rentals']>8000].mean()"
      ]
    },
    {
      "cell_type": "markdown",
      "metadata": {
        "id": "M71m6vsoowxm"
      },
      "source": [
        "### 4-1 하늘 상태(sky_condition) \n",
        ": 1(맑음) ~ 4(흐림)의 범위.  맑음(1), 구름조금(2), 구름많음(3), 흐림(4)\n",
        "> 대여량이 8000 이하인 날의 sky_condition는 구름많음~흐림인 것을 알 수 있다. (3.5 이상)\n"
      ]
    },
    {
      "cell_type": "code",
      "execution_count": 4,
      "metadata": {
        "colab": {
          "base_uri": "https://localhost:8080/",
          "height": 347
        },
        "id": "0b-NHXN3MJ7M",
        "outputId": "23cc5777-5953-42e2-e2c0-dfbbc6cc044c"
      },
      "outputs": [
        {
          "data": {
            "image/png": "[encoded data removed]",
            "text/plain": [
              "<Figure size 576x360 with 1 Axes>"
            ]
          },
          "metadata": {
            "needs_background": "light"
          },
          "output_type": "display_data"
        }
      ],
      "source": [
        "compare(1)"
      ]
    },
    {
      "cell_type": "markdown",
      "metadata": {
        "id": "TXAJuHNXqgF9"
      },
      "source": [
        "### 4-2 강수 형태(precipitation_form)\n",
        ": 0(없음) ~ 1(비)의 범위\n",
        "> 대여량이 8000이하인 날은 precipitation_form이 1(비)에 가깝다"
      ]
    },
    {
      "cell_type": "code",
      "execution_count": 5,
      "metadata": {
        "colab": {
          "base_uri": "https://localhost:8080/",
          "height": 347
        },
        "id": "AtF5wCEVMb_N",
        "outputId": "00173d1a-bc8e-4309-edd3-55aa0e2d2959"
      },
      "outputs": [
        {
          "data": {
            "image/png": "[encoded data removed]",
            "text/plain": [
              "<Figure size 576x360 with 1 Axes>"
            ]
          },
          "metadata": {
            "needs_background": "light"
          },
          "output_type": "display_data"
        }
      ],
      "source": [
        "compare(2)"
      ]
    },
    {
      "cell_type": "markdown",
      "metadata": {
        "id": "xcjHUqwYHCJx"
      },
      "source": [
        "### 4-3 강수 확률(Precipitation_Probability)\n",
        ": 0~100(%)의 범위 - .describe()으로 확인\n",
        "> 대여량이 8000이하인 날은 Precipitation_Probability가 높다. (60% 이상)"
      ]
    },
    {
      "cell_type": "code",
      "execution_count": 6,
      "metadata": {
        "colab": {
          "base_uri": "https://localhost:8080/",
          "height": 347
        },
        "id": "3_P4OAMlMdZC",
        "outputId": "df6c07fd-d64b-4edd-fd03-9543c0d92805"
      },
      "outputs": [
        {
          "data": {
            "image/png": "[encoded data removed]",
            "text/plain": [
              "<Figure size 576x360 with 1 Axes>"
            ]
          },
          "metadata": {
            "needs_background": "light"
          },
          "output_type": "display_data"
        }
      ],
      "source": [
        "compare(7)"
      ]
    },
    {
      "cell_type": "markdown",
      "metadata": {
        "id": "HSOHP-KlmeyD"
      },
      "source": [
        "# 별첨"
      ]
    },
    {
      "cell_type": "markdown",
      "metadata": {
        "id": "rrwhSxVimfwO"
      },
      "source": [
        "## 따릉이 대여량 데이터"
      ]
    },
    {
      "cell_type": "markdown",
      "metadata": {
        "id": "gssVB-Ctno2Q"
      },
      "source": [
        "**Features**\n",
        ">- date_time : 일별 날짜 ---> (사용X)\n",
        "- wind_direction: 풍향 (degree)\n",
        "- sky_condition : 하늘 상태\n",
        "- precipitation_form : 강수 형태\n",
        "-wind_speed : 풍속 (m/s)\n",
        "-humidity : 습도 (%)\n",
        "-low_temp : 최저 기온 ( `C)\n",
        "-high_temp : 최고 기온 ( `C)\n",
        "- Precipitation_Probability : 강수 확률 (%)\n",
        "\n",
        "**Target**\n",
        ">- number_of_rentals : 따릉이 대여량"
      ]
    },
    {
      "cell_type": "markdown",
      "metadata": {
        "id": "fj_OhVBP6B2u"
      },
      "source": [
        "\n",
        "\n",
        "---\n",
        "\n",
        "\n",
        "- 2019년 6월 4일 까지 sky_condition (하늘 상태) 코드  : 맑음(1), 구름조금(2), 구름많음(3), 흐림(4)\n",
        "\n",
        "- 2020년  sky_condition (하늘 상태) 코드  : 맑음(1), 구름많음(3), 흐림(4)\n",
        "\n",
        "- precipitation_form (강수 형태) 코드 : 없음(0), 비(1), 진눈깨비(2), 눈(3), 소나기(4)\n",
        "\n",
        "  - 원본 데이터에는 없음(0), 비(1),소나기(4)가 포함되어있었으며 진눈깨비(2)와 눈(3) 성분은 존재하지 않습니다.\n",
        "\n",
        "\n",
        "---\n",
        "\n"
      ]
    },
    {
      "cell_type": "markdown",
      "metadata": {
        "id": "reHkweOvUpqz"
      },
      "source": [
        "### 1. Target\n",
        ": number_of_rentals 따릉이 대여량"
      ]
    },
    {
      "cell_type": "code",
      "execution_count": 7,
      "metadata": {
        "colab": {
          "base_uri": "https://localhost:8080/",
          "height": 594
        },
        "id": "q_bczXOOUpq0",
        "outputId": "8b48fad7-44a0-419d-fc93-a9dcecd6c83a"
      },
      "outputs": [
        {
          "data": {
            "image/png": "[encoded data removed]",
            "text/plain": [
              "<Figure size 900x600 with 1 Axes>"
            ]
          },
          "metadata": {
            "needs_background": "light"
          },
          "output_type": "display_data"
        }
      ],
      "source": [
        "x = train['number_of_rentals'].index\n",
        "y = train['number_of_rentals'].values\n",
        "\n",
        "plt.figure(dpi=150)\n",
        "\n",
        "plt.title('일별 따릉이 대여량')\n",
        "plt.xlabel('일별')\n",
        "plt.ylabel('따릉이 대여량')\n",
        "\n",
        "plt.plot(x,y)\n",
        "plt.show()"
      ]
    },
    {
      "cell_type": "markdown",
      "metadata": {
        "id": "ZoJ5zBF11ETw"
      },
      "source": [
        "### date_time "
      ]
    },
    {
      "cell_type": "markdown",
      "metadata": {
        "id": "4PdISstm9abl"
      },
      "source": [
        "#### train\n",
        ": 2018,2019,2020년 총 3개년의 4,5,6월에 대한 자료이다."
      ]
    },
    {
      "cell_type": "code",
      "execution_count": 8,
      "metadata": {
        "colab": {
          "base_uri": "https://localhost:8080/",
          "height": 547
        },
        "id": "YzQPl5V4qphO",
        "outputId": "685540d5-c3f9-4289-8ad3-8a5ea8f80586"
      },
      "outputs": [
        {
          "name": "stdout",
          "output_type": "stream",
          "text": [
            "2018-05    31\n",
            "2019-05    31\n",
            "2020-05    31\n",
            "2018-04    30\n",
            "2018-06    30\n",
            "2019-04    30\n",
            "2019-06    30\n",
            "2020-04    30\n",
            "2020-06    30\n",
            "Name: 연월, dtype: int64\n"
          ]
        },
        {
          "data": {
            "text/html": [
              "\n",
              "  <div id=\"df-149868de-1955-47f3-b51f-072e6209b206\">\n",
              "    <div class=\"colab-df-container\">\n",
              "      <div>\n",
              "<style scoped>\n",
              "    .dataframe tbody tr th:only-of-type {\n",
              "        vertical-align: middle;\n",
              "    }\n",
              "\n",
              "    .dataframe tbody tr th {\n",
              "        vertical-align: top;\n",
              "    }\n",
              "\n",
              "    .dataframe thead th {\n",
              "        text-align: right;\n",
              "    }\n",
              "</style>\n",
              "<table border=\"1\" class=\"dataframe\">\n",
              "  <thead>\n",
              "    <tr style=\"text-align: right;\">\n",
              "      <th></th>\n",
              "      <th>number_of_rentals</th>\n",
              "    </tr>\n",
              "    <tr>\n",
              "      <th>연월</th>\n",
              "      <th></th>\n",
              "    </tr>\n",
              "  </thead>\n",
              "  <tbody>\n",
              "    <tr>\n",
              "      <th>2018-04</th>\n",
              "      <td>22929.500000</td>\n",
              "    </tr>\n",
              "    <tr>\n",
              "      <th>2018-05</th>\n",
              "      <td>31148.677419</td>\n",
              "    </tr>\n",
              "    <tr>\n",
              "      <th>2018-06</th>\n",
              "      <td>40237.433333</td>\n",
              "    </tr>\n",
              "    <tr>\n",
              "      <th>2019-04</th>\n",
              "      <td>48933.333333</td>\n",
              "    </tr>\n",
              "    <tr>\n",
              "      <th>2019-05</th>\n",
              "      <td>72028.870968</td>\n",
              "    </tr>\n",
              "    <tr>\n",
              "      <th>2019-06</th>\n",
              "      <td>76462.633333</td>\n",
              "    </tr>\n",
              "    <tr>\n",
              "      <th>2020-04</th>\n",
              "      <td>71913.000000</td>\n",
              "    </tr>\n",
              "    <tr>\n",
              "      <th>2020-05</th>\n",
              "      <td>80010.645161</td>\n",
              "    </tr>\n",
              "    <tr>\n",
              "      <th>2020-06</th>\n",
              "      <td>92361.933333</td>\n",
              "    </tr>\n",
              "  </tbody>\n",
              "</table>\n",
              "</div>\n",
              "      <button class=\"colab-df-convert\" onclick=\"convertToInteractive('df-149868de-1955-47f3-b51f-072e6209b206')\"\n",
              "              title=\"Convert this dataframe to an interactive table.\"\n",
              "              style=\"display:none;\">\n",
              "        \n",
              "  <svg xmlns=\"http://www.w3.org/2000/svg\" height=\"24px\"viewBox=\"0 0 24 24\"\n",
              "       width=\"24px\">\n",
              "    <path d=\"M0 0h24v24H0V0z\" fill=\"none\"/>\n",
              "    <path d=\"M18.56 5.44l.94 2.06.94-2.06 2.06-.94-2.06-.94-.94-2.06-.94 2.06-2.06.94zm-11 1L8.5 8.5l.94-2.06 2.06-.94-2.06-.94L8.5 2.5l-.94 2.06-2.06.94zm10 10l.94 2.06.94-2.06 2.06-.94-2.06-.94-.94-2.06-.94 2.06-2.06.94z\"/><path d=\"M17.41 7.96l-1.37-1.37c-.4-.4-.92-.59-1.43-.59-.52 0-1.04.2-1.43.59L10.3 9.45l-7.72 7.72c-.78.78-.78 2.05 0 2.83L4 21.41c.39.39.9.59 1.41.59.51 0 1.02-.2 1.41-.59l7.78-7.78 2.81-2.81c.8-.78.8-2.07 0-2.86zM5.41 20L4 18.59l7.72-7.72 1.47 1.35L5.41 20z\"/>\n",
              "  </svg>\n",
              "      </button>\n",
              "      \n",
              "  <style>\n",
              "    .colab-df-container {\n",
              "      display:flex;\n",
              "      flex-wrap:wrap;\n",
              "      gap: 12px;\n",
              "    }\n",
              "\n",
              "    .colab-df-convert {\n",
              "      background-color: #E8F0FE;\n",
              "      border: none;\n",
              "      border-radius: 50%;\n",
              "      cursor: pointer;\n",
              "      display: none;\n",
              "      fill: #1967D2;\n",
              "      height: 32px;\n",
              "      padding: 0 0 0 0;\n",
              "      width: 32px;\n",
              "    }\n",
              "\n",
              "    .colab-df-convert:hover {\n",
              "      background-color: #E2EBFA;\n",
              "      box-shadow: 0px 1px 2px rgba(60, 64, 67, 0.3), 0px 1px 3px 1px rgba(60, 64, 67, 0.15);\n",
              "      fill: #174EA6;\n",
              "    }\n",
              "\n",
              "    [theme=dark] .colab-df-convert {\n",
              "      background-color: #3B4455;\n",
              "      fill: #D2E3FC;\n",
              "    }\n",
              "\n",
              "    [theme=dark] .colab-df-convert:hover {\n",
              "      background-color: #434B5C;\n",
              "      box-shadow: 0px 1px 3px 1px rgba(0, 0, 0, 0.15);\n",
              "      filter: drop-shadow(0px 1px 2px rgba(0, 0, 0, 0.3));\n",
              "      fill: #FFFFFF;\n",
              "    }\n",
              "  </style>\n",
              "\n",
              "      <script>\n",
              "        const buttonEl =\n",
              "          document.querySelector('#df-149868de-1955-47f3-b51f-072e6209b206 button.colab-df-convert');\n",
              "        buttonEl.style.display =\n",
              "          google.colab.kernel.accessAllowed ? 'block' : 'none';\n",
              "\n",
              "        async function convertToInteractive(key) {\n",
              "          const element = document.querySelector('#df-149868de-1955-47f3-b51f-072e6209b206');\n",
              "          const dataTable =\n",
              "            await google.colab.kernel.invokeFunction('convertToInteractive',\n",
              "                                                     [key], {});\n",
              "          if (!dataTable) return;\n",
              "\n",
              "          const docLinkHtml = 'Like what you see? Visit the ' +\n",
              "            '<a target=\"_blank\" href=https://colab.research.google.com/notebooks/data_table.ipynb>data table notebook</a>'\n",
              "            + ' to learn more about interactive tables.';\n",
              "          element.innerHTML = '';\n",
              "          dataTable['output_type'] = 'display_data';\n",
              "          await google.colab.output.renderOutput(dataTable, element);\n",
              "          const docLink = document.createElement('div');\n",
              "          docLink.innerHTML = docLinkHtml;\n",
              "          element.appendChild(docLink);\n",
              "        }\n",
              "      </script>\n",
              "    </div>\n",
              "  </div>\n",
              "  "
            ],
            "text/plain": [
              "         number_of_rentals\n",
              "연월                        \n",
              "2018-04       22929.500000\n",
              "2018-05       31148.677419\n",
              "2018-06       40237.433333\n",
              "2019-04       48933.333333\n",
              "2019-05       72028.870968\n",
              "2019-06       76462.633333\n",
              "2020-04       71913.000000\n",
              "2020-05       80010.645161\n",
              "2020-06       92361.933333"
            ]
          },
          "execution_count": 8,
          "metadata": {},
          "output_type": "execute_result"
        }
      ],
      "source": [
        "def year_month(text:str):\n",
        "  return text[:7]\n",
        "train['연월'] = train['date_time'].map(year_month)\n",
        "\n",
        "print(train['연월'].value_counts())\n",
        "train.groupby('연월').mean()[['number_of_rentals']]"
      ]
    },
    {
      "cell_type": "markdown",
      "metadata": {
        "id": "DNAsato08fjG"
      },
      "source": [
        "#### test\n",
        ": 2021년의 4,5,6월에 대한 자료이다."
      ]
    },
    {
      "cell_type": "code",
      "execution_count": 9,
      "metadata": {
        "colab": {
          "base_uri": "https://localhost:8080/"
        },
        "id": "8ZGcj2N77YPI",
        "outputId": "2b151641-6678-4e79-aae1-ea4f2a8699d2"
      },
      "outputs": [
        {
          "data": {
            "text/plain": [
              "2021-05    31\n",
              "2021-04    30\n",
              "2021-06    30\n",
              "Name: 연월, dtype: int64"
            ]
          },
          "execution_count": 9,
          "metadata": {},
          "output_type": "execute_result"
        }
      ],
      "source": [
        "test['연월'] = test['date_time'].map(year_month)\n",
        "\n",
        "test['연월'].value_counts()"
      ]
    },
    {
      "cell_type": "markdown",
      "metadata": {
        "id": "BnULRKO5B1Up"
      },
      "source": [
        "### .drop() 메서드\n",
        ": 열(axis=1) 제거"
      ]
    },
    {
      "cell_type": "code",
      "execution_count": 10,
      "metadata": {
        "colab": {
          "base_uri": "https://localhost:8080/",
          "height": 357
        },
        "id": "-YRfgw43B1vJ",
        "outputId": "f099071f-1d4b-41ff-830d-63984092667b"
      },
      "outputs": [
        {
          "data": {
            "text/html": [
              "\n",
              "  <div id=\"df-88aca60e-4135-4743-bde4-1ff7fbaac104\">\n",
              "    <div class=\"colab-df-container\">\n",
              "      <div>\n",
              "<style scoped>\n",
              "    .dataframe tbody tr th:only-of-type {\n",
              "        vertical-align: middle;\n",
              "    }\n",
              "\n",
              "    .dataframe tbody tr th {\n",
              "        vertical-align: top;\n",
              "    }\n",
              "\n",
              "    .dataframe thead th {\n",
              "        text-align: right;\n",
              "    }\n",
              "</style>\n",
              "<table border=\"1\" class=\"dataframe\">\n",
              "  <thead>\n",
              "    <tr style=\"text-align: right;\">\n",
              "      <th></th>\n",
              "      <th>wind_direction</th>\n",
              "      <th>sky_condition</th>\n",
              "      <th>precipitation_form</th>\n",
              "      <th>wind_speed</th>\n",
              "      <th>humidity</th>\n",
              "      <th>low_temp</th>\n",
              "      <th>high_temp</th>\n",
              "      <th>Precipitation_Probability</th>\n",
              "      <th>number_of_rentals</th>\n",
              "      <th>연월</th>\n",
              "    </tr>\n",
              "  </thead>\n",
              "  <tbody>\n",
              "    <tr>\n",
              "      <th>0</th>\n",
              "      <td>207.500</td>\n",
              "      <td>4.000</td>\n",
              "      <td>0.000</td>\n",
              "      <td>3.050</td>\n",
              "      <td>75.000</td>\n",
              "      <td>12.600</td>\n",
              "      <td>21.000</td>\n",
              "      <td>30.000</td>\n",
              "      <td>22994</td>\n",
              "      <td>2018-04</td>\n",
              "    </tr>\n",
              "    <tr>\n",
              "      <th>1</th>\n",
              "      <td>208.317</td>\n",
              "      <td>2.950</td>\n",
              "      <td>0.000</td>\n",
              "      <td>3.278</td>\n",
              "      <td>69.833</td>\n",
              "      <td>12.812</td>\n",
              "      <td>19.000</td>\n",
              "      <td>19.500</td>\n",
              "      <td>28139</td>\n",
              "      <td>2018-04</td>\n",
              "    </tr>\n",
              "    <tr>\n",
              "      <th>2</th>\n",
              "      <td>213.516</td>\n",
              "      <td>2.911</td>\n",
              "      <td>0.000</td>\n",
              "      <td>2.690</td>\n",
              "      <td>74.879</td>\n",
              "      <td>10.312</td>\n",
              "      <td>15.316</td>\n",
              "      <td>19.113</td>\n",
              "      <td>26817</td>\n",
              "      <td>2018-04</td>\n",
              "    </tr>\n",
              "    <tr>\n",
              "      <th>3</th>\n",
              "      <td>143.836</td>\n",
              "      <td>3.692</td>\n",
              "      <td>0.425</td>\n",
              "      <td>3.138</td>\n",
              "      <td>71.849</td>\n",
              "      <td>8.312</td>\n",
              "      <td>12.368</td>\n",
              "      <td>43.493</td>\n",
              "      <td>26034</td>\n",
              "      <td>2018-04</td>\n",
              "    </tr>\n",
              "    <tr>\n",
              "      <th>4</th>\n",
              "      <td>95.905</td>\n",
              "      <td>4.000</td>\n",
              "      <td>0.723</td>\n",
              "      <td>3.186</td>\n",
              "      <td>73.784</td>\n",
              "      <td>5.875</td>\n",
              "      <td>10.421</td>\n",
              "      <td>63.378</td>\n",
              "      <td>2833</td>\n",
              "      <td>2018-04</td>\n",
              "    </tr>\n",
              "  </tbody>\n",
              "</table>\n",
              "</div>\n",
              "      <button class=\"colab-df-convert\" onclick=\"convertToInteractive('df-88aca60e-4135-4743-bde4-1ff7fbaac104')\"\n",
              "              title=\"Convert this dataframe to an interactive table.\"\n",
              "              style=\"display:none;\">\n",
              "        \n",
              "  <svg xmlns=\"http://www.w3.org/2000/svg\" height=\"24px\"viewBox=\"0 0 24 24\"\n",
              "       width=\"24px\">\n",
              "    <path d=\"M0 0h24v24H0V0z\" fill=\"none\"/>\n",
              "    <path d=\"M18.56 5.44l.94 2.06.94-2.06 2.06-.94-2.06-.94-.94-2.06-.94 2.06-2.06.94zm-11 1L8.5 8.5l.94-2.06 2.06-.94-2.06-.94L8.5 2.5l-.94 2.06-2.06.94zm10 10l.94 2.06.94-2.06 2.06-.94-2.06-.94-.94-2.06-.94 2.06-2.06.94z\"/><path d=\"M17.41 7.96l-1.37-1.37c-.4-.4-.92-.59-1.43-.59-.52 0-1.04.2-1.43.59L10.3 9.45l-7.72 7.72c-.78.78-.78 2.05 0 2.83L4 21.41c.39.39.9.59 1.41.59.51 0 1.02-.2 1.41-.59l7.78-7.78 2.81-2.81c.8-.78.8-2.07 0-2.86zM5.41 20L4 18.59l7.72-7.72 1.47 1.35L5.41 20z\"/>\n",
              "  </svg>\n",
              "      </button>\n",
              "      \n",
              "  <style>\n",
              "    .colab-df-container {\n",
              "      display:flex;\n",
              "      flex-wrap:wrap;\n",
              "      gap: 12px;\n",
              "    }\n",
              "\n",
              "    .colab-df-convert {\n",
              "      background-color: #E8F0FE;\n",
              "      border: none;\n",
              "      border-radius: 50%;\n",
              "      cursor: pointer;\n",
              "      display: none;\n",
              "      fill: #1967D2;\n",
              "      height: 32px;\n",
              "      padding: 0 0 0 0;\n",
              "      width: 32px;\n",
              "    }\n",
              "\n",
              "    .colab-df-convert:hover {\n",
              "      background-color: #E2EBFA;\n",
              "      box-shadow: 0px 1px 2px rgba(60, 64, 67, 0.3), 0px 1px 3px 1px rgba(60, 64, 67, 0.15);\n",
              "      fill: #174EA6;\n",
              "    }\n",
              "\n",
              "    [theme=dark] .colab-df-convert {\n",
              "      background-color: #3B4455;\n",
              "      fill: #D2E3FC;\n",
              "    }\n",
              "\n",
              "    [theme=dark] .colab-df-convert:hover {\n",
              "      background-color: #434B5C;\n",
              "      box-shadow: 0px 1px 3px 1px rgba(0, 0, 0, 0.15);\n",
              "      filter: drop-shadow(0px 1px 2px rgba(0, 0, 0, 0.3));\n",
              "      fill: #FFFFFF;\n",
              "    }\n",
              "  </style>\n",
              "\n",
              "      <script>\n",
              "        const buttonEl =\n",
              "          document.querySelector('#df-88aca60e-4135-4743-bde4-1ff7fbaac104 button.colab-df-convert');\n",
              "        buttonEl.style.display =\n",
              "          google.colab.kernel.accessAllowed ? 'block' : 'none';\n",
              "\n",
              "        async function convertToInteractive(key) {\n",
              "          const element = document.querySelector('#df-88aca60e-4135-4743-bde4-1ff7fbaac104');\n",
              "          const dataTable =\n",
              "            await google.colab.kernel.invokeFunction('convertToInteractive',\n",
              "                                                     [key], {});\n",
              "          if (!dataTable) return;\n",
              "\n",
              "          const docLinkHtml = 'Like what you see? Visit the ' +\n",
              "            '<a target=\"_blank\" href=https://colab.research.google.com/notebooks/data_table.ipynb>data table notebook</a>'\n",
              "            + ' to learn more about interactive tables.';\n",
              "          element.innerHTML = '';\n",
              "          dataTable['output_type'] = 'display_data';\n",
              "          await google.colab.output.renderOutput(dataTable, element);\n",
              "          const docLink = document.createElement('div');\n",
              "          docLink.innerHTML = docLinkHtml;\n",
              "          element.appendChild(docLink);\n",
              "        }\n",
              "      </script>\n",
              "    </div>\n",
              "  </div>\n",
              "  "
            ],
            "text/plain": [
              "   wind_direction  sky_condition  precipitation_form  wind_speed  humidity  \\\n",
              "0         207.500          4.000               0.000       3.050    75.000   \n",
              "1         208.317          2.950               0.000       3.278    69.833   \n",
              "2         213.516          2.911               0.000       2.690    74.879   \n",
              "3         143.836          3.692               0.425       3.138    71.849   \n",
              "4          95.905          4.000               0.723       3.186    73.784   \n",
              "\n",
              "   low_temp  high_temp  Precipitation_Probability  number_of_rentals       연월  \n",
              "0    12.600     21.000                     30.000              22994  2018-04  \n",
              "1    12.812     19.000                     19.500              28139  2018-04  \n",
              "2    10.312     15.316                     19.113              26817  2018-04  \n",
              "3     8.312     12.368                     43.493              26034  2018-04  \n",
              "4     5.875     10.421                     63.378               2833  2018-04  "
            ]
          },
          "execution_count": 10,
          "metadata": {},
          "output_type": "execute_result"
        }
      ],
      "source": [
        "train = train.drop(['date_time'], axis=1)\n",
        "test = test.drop(['date_time'], axis=1)\n",
        "\n",
        "train.head()"
      ]
    },
    {
      "cell_type": "markdown",
      "metadata": {
        "id": "_m6aMjLSmeo5"
      },
      "source": [
        "## 개념) 데이터"
      ]
    },
    {
      "cell_type": "markdown",
      "metadata": {
        "id": "XZMtVE37sGsy"
      },
      "source": [
        "\n",
        "### 범주형 데이터(Categorical data)\n"
      ]
    },
    {
      "cell_type": "markdown",
      "metadata": {
        "id": "tdeVepU3sTku"
      },
      "source": [
        "#### **명목 척도**\n",
        ">- 성별\n",
        ">- 날짜\n",
        "\n"
      ]
    },
    {
      "cell_type": "markdown",
      "metadata": {
        "id": "KbAIx8zksYR6"
      },
      "source": [
        "#### **서열 척도**\n",
        ">- 순위\n",
        ">- 사회 계층"
      ]
    },
    {
      "cell_type": "markdown",
      "metadata": {
        "id": "--0yCzO3sQXJ"
      },
      "source": [
        "### 수치형 데이터(Numeric data)\n"
      ]
    },
    {
      "cell_type": "markdown",
      "metadata": {
        "id": "MjQpGAd7sa-3"
      },
      "source": [
        "#### **등간 척도**\n",
        ">- 지능지수\n",
        ">- 온도 등\n"
      ]
    },
    {
      "cell_type": "markdown",
      "metadata": {
        "id": "n2domf3XsbrE"
      },
      "source": [
        "#### **비율 척도**\n",
        ">- 매출액\n",
        ">- 따릉이 대여량"
      ]
    }
  ],
  "metadata": {
    "colab": {
      "collapsed_sections": [],
      "name": "Stage2-HW1.ipynb",
      "provenance": [],
      "toc_visible": true
    },
    "kernelspec": {
      "display_name": "Python 3.10.6 64-bit",
      "language": "python",
      "name": "python3"
    },
    "language_info": {
      "name": "python",
      "version": "3.10.6"
    },
    "vscode": {
      "interpreter": {
        "hash": "8c33a6f08abcdf7ab5b29314688f1eb03fc4edef2bee94d40c422d6e6bb7bb98"
      }
    }
  },
  "nbformat": 4,
  "nbformat_minor": 0
}
